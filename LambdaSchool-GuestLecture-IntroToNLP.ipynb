{
 "cells": [
  {
   "cell_type": "markdown",
   "metadata": {},
   "source": [
    "![](image/LambdaSchool.png)\n",
    "\n",
    "# Introduction to Natural Language Processing\n",
    "\n",
    "### Details\n",
    "* <b> Event: </b> Lambda School Guest Lecture\n",
    "* <b> Instructor: </b> Bruno Janota, Senior Data Scientist at Lockheed Martin\n",
    "* <b> Date: </b> Monday, June 17th, 2019\n",
    "\n",
    "### Sections\n",
    "1. [Representing Text as Numbers](#1.-Representing-Text-as-Numbers)\n",
    "2. [LDA Topic Modeling](#2.-LDA-Topic-Modeling)\n",
    "3. [Next Steps](#3.-Next-Steps)"
   ]
  },
  {
   "cell_type": "markdown",
   "metadata": {},
   "source": [
    "# 1. Representing Text as Numbers\n",
    "\n",
    "In order for a computer to execute any form of analytics or machine learning on natural language, data scientists must convert the raw text that we as humans can comprehend into a format that computers can understand.  That format is a numeric representation.\n",
    "\n",
    "The first task in any Natural Language Processing analysis is to parse the raw text into objects called tokens. This process is called <b>tokenization</b>. The result of tokenization is a list of words that represents each text input (document, tweet, etc.) in a dataset. \n",
    "\n",
    "Let's tokenize an example dataset of generic sentences. Feel free to experiment with your own sentence. For this task, we will use a python package developed by NLP researchers at Stanford called `NLTK` which stands for Natural Language ToolKit."
   ]
  },
  {
   "cell_type": "code",
   "execution_count": 1,
   "metadata": {},
   "outputs": [
    {
     "name": "stderr",
     "output_type": "stream",
     "text": [
      "[nltk_data] Downloading package punkt to\n",
      "[nltk_data]     C:\\Users\\bruno\\AppData\\Roaming\\nltk_data...\n",
      "[nltk_data]   Package punkt is already up-to-date!\n"
     ]
    },
    {
     "data": {
      "text/plain": [
       "True"
      ]
     },
     "execution_count": 1,
     "metadata": {},
     "output_type": "execute_result"
    }
   ],
   "source": [
    "# Import the nltk package\n",
    "import nltk\n",
    "nltk.download(\"punkt\")"
   ]
  },
  {
   "cell_type": "code",
   "execution_count": 2,
   "metadata": {},
   "outputs": [
    {
     "name": "stdout",
     "output_type": "stream",
     "text": [
      "'I will be an NLP guru by the end of lunch today.' becomes\n",
      "['I', 'will', 'be', 'an', 'NLP', 'guru', 'by', 'the', 'end', 'of', 'lunch', 'today', '.']\n"
     ]
    }
   ],
   "source": [
    "# Experiment with your own sentence and observe the tokens\n",
    "sentence = \"I will be an NLP guru by the end of lunch today.\"\n",
    "tokens = nltk.word_tokenize(sentence)\n",
    "print(f\"'{sentence}' becomes\\n{tokens}\")"
   ]
  },
  {
   "cell_type": "markdown",
   "metadata": {},
   "source": [
    "### 1.1 Term Frequency & Text Pre-Processing\n",
    "\n",
    "Once the raw text has been tokenized, one of the simplest ways to represent the tokenized data in numeric form is to compute the number of occurences of a word in the text, more commonly known as the <b>term frequency</b>.  This approach takes the tokens and counts the number of occurences for each within the tokenized text.\n",
    "\n",
    "Luckily, there are many pre-built options in Python for performing this task. We will use Scikit-Learn's `CountVectorizer` function to calculate the term frequencies. Scikit-Learn is one of the industry standard Python packages for analytics.\n",
    "\n",
    "Lets calculate the term frequency over a list of sentences. We can provide the list of raw text to the `CountVectorizer` function and use its default tokenizer, or pass the `NLTK` tokenizer as an argument."
   ]
  },
  {
   "cell_type": "code",
   "execution_count": 3,
   "metadata": {},
   "outputs": [
    {
     "name": "stdout",
     "output_type": "stream",
     "text": [
      "Number of sentences: 4\n",
      "Number of tokens: 15\n",
      "\n"
     ]
    },
    {
     "data": {
      "text/html": [
       "<div>\n",
       "<style scoped>\n",
       "    .dataframe tbody tr th:only-of-type {\n",
       "        vertical-align: middle;\n",
       "    }\n",
       "\n",
       "    .dataframe tbody tr th {\n",
       "        vertical-align: top;\n",
       "    }\n",
       "\n",
       "    .dataframe thead th {\n",
       "        text-align: right;\n",
       "    }\n",
       "</style>\n",
       "<table border=\"1\" class=\"dataframe\">\n",
       "  <thead>\n",
       "    <tr style=\"text-align: right;\">\n",
       "      <th></th>\n",
       "      <th>Good</th>\n",
       "      <th>Movie</th>\n",
       "      <th>all</th>\n",
       "      <th>awesome</th>\n",
       "      <th>funny</th>\n",
       "      <th>hate</th>\n",
       "      <th>it</th>\n",
       "      <th>like</th>\n",
       "      <th>love</th>\n",
       "      <th>loved</th>\n",
       "      <th>movie</th>\n",
       "      <th>movies</th>\n",
       "      <th>this</th>\n",
       "      <th>very</th>\n",
       "      <th>was</th>\n",
       "    </tr>\n",
       "  </thead>\n",
       "  <tbody>\n",
       "    <tr>\n",
       "      <th>0</th>\n",
       "      <td>0</td>\n",
       "      <td>0</td>\n",
       "      <td>0</td>\n",
       "      <td>0</td>\n",
       "      <td>1</td>\n",
       "      <td>0</td>\n",
       "      <td>0</td>\n",
       "      <td>1</td>\n",
       "      <td>0</td>\n",
       "      <td>0</td>\n",
       "      <td>1</td>\n",
       "      <td>0</td>\n",
       "      <td>1</td>\n",
       "      <td>1</td>\n",
       "      <td>0</td>\n",
       "    </tr>\n",
       "    <tr>\n",
       "      <th>1</th>\n",
       "      <td>0</td>\n",
       "      <td>0</td>\n",
       "      <td>1</td>\n",
       "      <td>0</td>\n",
       "      <td>0</td>\n",
       "      <td>1</td>\n",
       "      <td>0</td>\n",
       "      <td>0</td>\n",
       "      <td>0</td>\n",
       "      <td>0</td>\n",
       "      <td>0</td>\n",
       "      <td>1</td>\n",
       "      <td>0</td>\n",
       "      <td>0</td>\n",
       "      <td>0</td>\n",
       "    </tr>\n",
       "    <tr>\n",
       "      <th>2</th>\n",
       "      <td>0</td>\n",
       "      <td>1</td>\n",
       "      <td>0</td>\n",
       "      <td>1</td>\n",
       "      <td>0</td>\n",
       "      <td>0</td>\n",
       "      <td>1</td>\n",
       "      <td>0</td>\n",
       "      <td>0</td>\n",
       "      <td>1</td>\n",
       "      <td>0</td>\n",
       "      <td>0</td>\n",
       "      <td>0</td>\n",
       "      <td>0</td>\n",
       "      <td>1</td>\n",
       "    </tr>\n",
       "    <tr>\n",
       "      <th>3</th>\n",
       "      <td>1</td>\n",
       "      <td>0</td>\n",
       "      <td>0</td>\n",
       "      <td>0</td>\n",
       "      <td>0</td>\n",
       "      <td>0</td>\n",
       "      <td>1</td>\n",
       "      <td>0</td>\n",
       "      <td>1</td>\n",
       "      <td>0</td>\n",
       "      <td>1</td>\n",
       "      <td>0</td>\n",
       "      <td>0</td>\n",
       "      <td>0</td>\n",
       "      <td>0</td>\n",
       "    </tr>\n",
       "  </tbody>\n",
       "</table>\n",
       "</div>"
      ],
      "text/plain": [
       "   Good  Movie  all  awesome  funny  hate  it  like  love  loved  movie  \\\n",
       "0     0      0    0        0      1     0   0     1     0      0      1   \n",
       "1     0      0    1        0      0     1   0     0     0      0      0   \n",
       "2     0      1    0        1      0     0   1     0     0      1      0   \n",
       "3     1      0    0        0      0     0   1     0     1      0      1   \n",
       "\n",
       "   movies  this  very  was  \n",
       "0       0     1     1    0  \n",
       "1       1     0     0    0  \n",
       "2       0     0     0    1  \n",
       "3       0     0     0    0  "
      ]
     },
     "execution_count": 3,
     "metadata": {},
     "output_type": "execute_result"
    }
   ],
   "source": [
    "import pandas as pd\n",
    "from sklearn.feature_extraction.text import CountVectorizer\n",
    "\n",
    "sentences = [\n",
    "    \"I like this movie, very funny\",\n",
    "    \"I hate all movies.\",\n",
    "    \"Movie was awesome! I loved it.\",\n",
    "    \"Good movie. I love it.\"\n",
    "]\n",
    "\n",
    "tf_vectorizer = CountVectorizer(lowercase=False)\n",
    "X = tf_vectorizer.fit_transform(sentences)\n",
    "\n",
    "tf_df = pd.DataFrame(data = X.toarray(), columns = tf_vectorizer.get_feature_names())\n",
    "print(f'Number of sentences: {tf_df.shape[0]}\\nNumber of tokens: {tf_df.shape[1]}\\n')\n",
    "tf_df"
   ]
  },
  {
   "cell_type": "markdown",
   "metadata": {},
   "source": [
    "This table shows us how term frequency works. Each row is a sentence in our `sentences` list, and the columns represent the unique word counts across the dataset.\n",
    "\n",
    "<i>Does anything odd stand out to you about the tokens themselves?</i>\n",
    "\n",
    "These nuances are common problems associated with Natural Language Processing tasks but luckily there are several well documented aproaches and general NLP best practices to these problems that we will discuss in more detail below:\n",
    "- Stop Word Removal\n",
    "- Lowercasing text\n",
    "- Stemming (rules based hueristic approach to convert words into their stem)\n",
    "- Lemmatization (utilizes pre-determined vocabulary and morphological analysis of words to return the base form of a word)\n",
    "\n",
    "Let's repeat the tokenization process above by using a different tokenizer than the default within `CountVectorizer`, converting tokens to lowercase, remove stop words, and observing the resulting term frequency table."
   ]
  },
  {
   "cell_type": "markdown",
   "metadata": {},
   "source": [
    "#### Stop Word Removal"
   ]
  },
  {
   "cell_type": "code",
   "execution_count": 4,
   "metadata": {},
   "outputs": [
    {
     "name": "stderr",
     "output_type": "stream",
     "text": [
      "[nltk_data] Downloading package stopwords to\n",
      "[nltk_data]     C:\\Users\\bruno\\AppData\\Roaming\\nltk_data...\n",
      "[nltk_data]   Package stopwords is already up-to-date!\n"
     ]
    },
    {
     "data": {
      "text/plain": [
       "True"
      ]
     },
     "execution_count": 4,
     "metadata": {},
     "output_type": "execute_result"
    }
   ],
   "source": [
    "nltk.download('stopwords')"
   ]
  },
  {
   "cell_type": "markdown",
   "metadata": {},
   "source": [
    "Pythons NaturaL Lanugage Tool Kit (NLTK) package contains a list of 179 commonly used english words that do not have much value in helping to understand or extract meaning from text. It is usually a good starting point but can be easily extended for text in specific domains (social media, emails, surveys, etc.). "
   ]
  },
  {
   "cell_type": "code",
   "execution_count": 5,
   "metadata": {},
   "outputs": [
    {
     "name": "stdout",
     "output_type": "stream",
     "text": [
      "Number of Stop Words: 179\n",
      "Example Stop Words: ['i', 'me', 'my', 'myself', 'we', 'our', 'ours', 'ourselves', 'you', \"you're\", \"you've\", \"you'll\", \"you'd\", 'your', 'yours', 'yourself', 'yourselves', 'he', 'him', 'his']\n"
     ]
    }
   ],
   "source": [
    "# NLTK Stop words\n",
    "from nltk.corpus import stopwords\n",
    "\n",
    "stop_words = stopwords.words('english')\n",
    "#stop_words.extend(['from', 'subject', 're', 'edu', 'use'])\n",
    "\n",
    "print('Number of Stop Words: {}'.format(len(stop_words)))\n",
    "print('Example Stop Words: {}'.format(stop_words[0:20]))"
   ]
  },
  {
   "cell_type": "code",
   "execution_count": 6,
   "metadata": {},
   "outputs": [
    {
     "name": "stdout",
     "output_type": "stream",
     "text": [
      "Tokenized sentence: '['I', 'will', 'be', 'an', 'NLP', 'guru', 'by', 'the', 'end', 'of', 'lunch', 'today', '.']\n",
      "Tokenized sentence without stop words: '['I', 'NLP', 'guru', 'end', 'lunch', 'today', '.']'\n"
     ]
    }
   ],
   "source": [
    "# Experiment with your own sentence and observe the tokens\n",
    "sentence = \"I will be an NLP guru by the end of lunch today.\"\n",
    "tokens = nltk.word_tokenize(sentence)\n",
    "tokens_no_stop = [word for word in tokens if word not in stop_words]\n",
    "print(f\"Tokenized sentence: '{tokens}\")\n",
    "print(f\"Tokenized sentence without stop words: '{tokens_no_stop}'\")"
   ]
  },
  {
   "cell_type": "markdown",
   "metadata": {},
   "source": [
    "#### Lowercasing Text"
   ]
  },
  {
   "cell_type": "markdown",
   "metadata": {},
   "source": [
    "Let's tokenize the same sentences as above removing stop words and lowercasing words."
   ]
  },
  {
   "cell_type": "code",
   "execution_count": 7,
   "metadata": {},
   "outputs": [
    {
     "name": "stdout",
     "output_type": "stream",
     "text": [
      "Number of sentences: 4\n",
      "Number of tokens: 9\n",
      "\n"
     ]
    },
    {
     "data": {
      "text/html": [
       "<div>\n",
       "<style scoped>\n",
       "    .dataframe tbody tr th:only-of-type {\n",
       "        vertical-align: middle;\n",
       "    }\n",
       "\n",
       "    .dataframe tbody tr th {\n",
       "        vertical-align: top;\n",
       "    }\n",
       "\n",
       "    .dataframe thead th {\n",
       "        text-align: right;\n",
       "    }\n",
       "</style>\n",
       "<table border=\"1\" class=\"dataframe\">\n",
       "  <thead>\n",
       "    <tr style=\"text-align: right;\">\n",
       "      <th></th>\n",
       "      <th>awesome</th>\n",
       "      <th>funny</th>\n",
       "      <th>good</th>\n",
       "      <th>hate</th>\n",
       "      <th>like</th>\n",
       "      <th>love</th>\n",
       "      <th>loved</th>\n",
       "      <th>movie</th>\n",
       "      <th>movies</th>\n",
       "    </tr>\n",
       "  </thead>\n",
       "  <tbody>\n",
       "    <tr>\n",
       "      <th>0</th>\n",
       "      <td>0</td>\n",
       "      <td>1</td>\n",
       "      <td>0</td>\n",
       "      <td>0</td>\n",
       "      <td>1</td>\n",
       "      <td>0</td>\n",
       "      <td>0</td>\n",
       "      <td>1</td>\n",
       "      <td>0</td>\n",
       "    </tr>\n",
       "    <tr>\n",
       "      <th>1</th>\n",
       "      <td>0</td>\n",
       "      <td>0</td>\n",
       "      <td>0</td>\n",
       "      <td>1</td>\n",
       "      <td>0</td>\n",
       "      <td>0</td>\n",
       "      <td>0</td>\n",
       "      <td>0</td>\n",
       "      <td>1</td>\n",
       "    </tr>\n",
       "    <tr>\n",
       "      <th>2</th>\n",
       "      <td>1</td>\n",
       "      <td>0</td>\n",
       "      <td>0</td>\n",
       "      <td>0</td>\n",
       "      <td>0</td>\n",
       "      <td>0</td>\n",
       "      <td>1</td>\n",
       "      <td>1</td>\n",
       "      <td>0</td>\n",
       "    </tr>\n",
       "    <tr>\n",
       "      <th>3</th>\n",
       "      <td>0</td>\n",
       "      <td>0</td>\n",
       "      <td>1</td>\n",
       "      <td>0</td>\n",
       "      <td>0</td>\n",
       "      <td>1</td>\n",
       "      <td>0</td>\n",
       "      <td>1</td>\n",
       "      <td>0</td>\n",
       "    </tr>\n",
       "  </tbody>\n",
       "</table>\n",
       "</div>"
      ],
      "text/plain": [
       "   awesome  funny  good  hate  like  love  loved  movie  movies\n",
       "0        0      1     0     0     1     0      0      1       0\n",
       "1        0      0     0     1     0     0      0      0       1\n",
       "2        1      0     0     0     0     0      1      1       0\n",
       "3        0      0     1     0     0     1      0      1       0"
      ]
     },
     "execution_count": 7,
     "metadata": {},
     "output_type": "execute_result"
    }
   ],
   "source": [
    "tf_vectorizer = CountVectorizer(lowercase=True, stop_words=stop_words)\n",
    "X = tf_vectorizer.fit_transform(sentences)\n",
    "\n",
    "tf_df = pd.DataFrame(data = X.toarray(), columns = tf_vectorizer.get_feature_names())\n",
    "print(f'Number of sentences: {tf_df.shape[0]}\\nNumber of tokens: {tf_df.shape[1]}\\n')\n",
    "tf_df"
   ]
  },
  {
   "cell_type": "markdown",
   "metadata": {},
   "source": [
    "This is great! We have reduced the sentences down to the most relevant words but there is still some duplication such as \"movie\" and \"movies\" and \"love\" and \"loved\"."
   ]
  },
  {
   "cell_type": "markdown",
   "metadata": {},
   "source": [
    "#### Lemmatization and Stemming"
   ]
  },
  {
   "cell_type": "code",
   "execution_count": 8,
   "metadata": {},
   "outputs": [
    {
     "name": "stderr",
     "output_type": "stream",
     "text": [
      "[nltk_data] Downloading package wordnet to\n",
      "[nltk_data]     C:\\Users\\bruno\\AppData\\Roaming\\nltk_data...\n",
      "[nltk_data]   Package wordnet is already up-to-date!\n"
     ]
    },
    {
     "data": {
      "text/plain": [
       "True"
      ]
     },
     "execution_count": 8,
     "metadata": {},
     "output_type": "execute_result"
    }
   ],
   "source": [
    "nltk.download(\"wordnet\")"
   ]
  },
  {
   "cell_type": "code",
   "execution_count": 9,
   "metadata": {},
   "outputs": [
    {
     "name": "stdout",
     "output_type": "stream",
     "text": [
      "Tokenized sentence: \n",
      "['The', 'movies', 'were', 'awesome', '!', 'I', 'loved', 'it', '.']\n",
      "Tokenized sentence with WordNetLemmatizer: \n",
      "['The', 'movie', 'were', 'awesome', '!', 'I', 'loved', 'it', '.']'\n",
      "Tokenized sentence with PorterStemmer: \n",
      "['the', 'movi', 'were', 'awesom', '!', 'I', 'love', 'it', '.']'\n"
     ]
    }
   ],
   "source": [
    "from nltk.stem import WordNetLemmatizer\n",
    "from nltk.stem.porter import PorterStemmer\n",
    "\n",
    "# Experiment with your own sentence and observe the tokens\n",
    "sentence = \"The movies were awesome! I loved it.\" \n",
    "\n",
    "# Initialize Common Lemmatizers/Stemmers\n",
    "wnl = WordNetLemmatizer()\n",
    "ps = PorterStemmer()\n",
    "\n",
    "# Compare WordNetLemmatizer and PorterStemmer\n",
    "tokens = nltk.word_tokenize(sentence)\n",
    "tokens_wnl = [wnl.lemmatize(t) for t in nltk.word_tokenize(sentence)]\n",
    "tokens_ps = [ps.stem(t) for t in nltk.word_tokenize(sentence)]\n",
    "print(f\"Tokenized sentence: \\n{tokens}\")\n",
    "print(f\"Tokenized sentence with WordNetLemmatizer: \\n{tokens_wnl}'\")\n",
    "print(f\"Tokenized sentence with PorterStemmer: \\n{tokens_ps}'\")"
   ]
  },
  {
   "cell_type": "markdown",
   "metadata": {},
   "source": [
    "In addition to the methods discussed above there are also python functions to remove punctuation."
   ]
  },
  {
   "cell_type": "code",
   "execution_count": 10,
   "metadata": {},
   "outputs": [
    {
     "data": {
      "text/plain": [
       "['I like this movie very funny',\n",
       " 'I hate all movies',\n",
       " 'Movie was awesome I loved it',\n",
       " 'Good movie I love it']"
      ]
     },
     "execution_count": 10,
     "metadata": {},
     "output_type": "execute_result"
    }
   ],
   "source": [
    "# Import necessary packages\n",
    "import string\n",
    "\n",
    "# Remove the punctuation from our sentences\n",
    "sentences_no_punc = [s.translate(str.maketrans('', '', string.punctuation)) for s in sentences]\n",
    "\n",
    "# Examine sentences_no_punc\n",
    "sentences_no_punc"
   ]
  },
  {
   "cell_type": "markdown",
   "metadata": {},
   "source": [
    "### Spell Check/Autocorrect"
   ]
  },
  {
   "cell_type": "markdown",
   "metadata": {},
   "source": [
    "Lastly, depending on the dataset you may want to autocorrect the text to catch misspellings (social media or other user generated text data)."
   ]
  },
  {
   "cell_type": "code",
   "execution_count": 11,
   "metadata": {},
   "outputs": [
    {
     "name": "stdout",
     "output_type": "stream",
     "text": [
      "Original Spelling: mussage\n",
      "Autocorrect: message\n"
     ]
    }
   ],
   "source": [
    "from autocorrect import spell\n",
    "\n",
    "word = 'mussage'\n",
    "print(f'Original Spelling: {word}')\n",
    "print(f'Autocorrect: {spell(word)}')"
   ]
  },
  {
   "cell_type": "markdown",
   "metadata": {},
   "source": [
    "There are many pre-built packages in python that can help you transform and pre-process text data. This section introduced you to several of the common best practice text cleaning options. When there doesnt exist a pre-built option, it is fairly straightforward to build your own!"
   ]
  },
  {
   "cell_type": "markdown",
   "metadata": {},
   "source": [
    "### 1.2 Term Frequency - Inverse Document Frequency (TF-IDF)\n",
    "\n",
    "While term frequency is a great way to represent text in a numeric fashion, there are more advanced methods that capture information about the entire dataset. <b>Term Frequency-Inverse Document Frequency</b>, better known as <b>TF-IDF</b>, is another common, more advanced iteration of term frequency, and can be used to better represent text in relation to the entire dataset of text.\n",
    "\n",
    "TF-IDF uses a calculation to determine a term's importance within the entire dataset. In easy to understand language, if a term occurs frequently in observation of the dataset, referred to a document, and doesn't occur frequently in other documents in the dataset, it should be given a higher numeric value. It is given a higher numeric value because it is unique to the identification of the document that it exists in. Terms that are common across most or all of the documents in the dataset in turn are given lower numeric values, because they don't help distinguish one document from another.\n",
    "\n",
    "If you are interested in the math behind TF-IDF, it can be found [here](https://en.wikipedia.org/wiki/Tf%E2%80%93idf).\n",
    "\n",
    "Lets use the same simple example as above to better visualize this numeric representation. We will use the `LemmaTokenizer` we created above to perform the tokenization and lemmatization, with one additional feature; we will remove punctuation as well!"
   ]
  },
  {
   "cell_type": "code",
   "execution_count": 12,
   "metadata": {},
   "outputs": [
    {
     "data": {
      "text/html": [
       "<div>\n",
       "<style scoped>\n",
       "    .dataframe tbody tr th:only-of-type {\n",
       "        vertical-align: middle;\n",
       "    }\n",
       "\n",
       "    .dataframe tbody tr th {\n",
       "        vertical-align: top;\n",
       "    }\n",
       "\n",
       "    .dataframe thead th {\n",
       "        text-align: right;\n",
       "    }\n",
       "</style>\n",
       "<table border=\"1\" class=\"dataframe\">\n",
       "  <thead>\n",
       "    <tr style=\"text-align: right;\">\n",
       "      <th></th>\n",
       "      <th>all</th>\n",
       "      <th>awesome</th>\n",
       "      <th>funny</th>\n",
       "      <th>good</th>\n",
       "      <th>hate</th>\n",
       "      <th>i</th>\n",
       "      <th>it</th>\n",
       "      <th>like</th>\n",
       "      <th>love</th>\n",
       "      <th>loved</th>\n",
       "      <th>movie</th>\n",
       "      <th>this</th>\n",
       "      <th>very</th>\n",
       "      <th>wa</th>\n",
       "    </tr>\n",
       "  </thead>\n",
       "  <tbody>\n",
       "    <tr>\n",
       "      <th>0</th>\n",
       "      <td>0.000</td>\n",
       "      <td>0.00</td>\n",
       "      <td>0.469</td>\n",
       "      <td>0.000</td>\n",
       "      <td>0.000</td>\n",
       "      <td>0.245</td>\n",
       "      <td>0.000</td>\n",
       "      <td>0.469</td>\n",
       "      <td>0.000</td>\n",
       "      <td>0.00</td>\n",
       "      <td>0.245</td>\n",
       "      <td>0.469</td>\n",
       "      <td>0.469</td>\n",
       "      <td>0.00</td>\n",
       "    </tr>\n",
       "    <tr>\n",
       "      <th>1</th>\n",
       "      <td>0.627</td>\n",
       "      <td>0.00</td>\n",
       "      <td>0.000</td>\n",
       "      <td>0.000</td>\n",
       "      <td>0.627</td>\n",
       "      <td>0.327</td>\n",
       "      <td>0.000</td>\n",
       "      <td>0.000</td>\n",
       "      <td>0.000</td>\n",
       "      <td>0.00</td>\n",
       "      <td>0.327</td>\n",
       "      <td>0.000</td>\n",
       "      <td>0.000</td>\n",
       "      <td>0.00</td>\n",
       "    </tr>\n",
       "    <tr>\n",
       "      <th>2</th>\n",
       "      <td>0.000</td>\n",
       "      <td>0.49</td>\n",
       "      <td>0.000</td>\n",
       "      <td>0.000</td>\n",
       "      <td>0.000</td>\n",
       "      <td>0.256</td>\n",
       "      <td>0.386</td>\n",
       "      <td>0.000</td>\n",
       "      <td>0.000</td>\n",
       "      <td>0.49</td>\n",
       "      <td>0.256</td>\n",
       "      <td>0.000</td>\n",
       "      <td>0.000</td>\n",
       "      <td>0.49</td>\n",
       "    </tr>\n",
       "    <tr>\n",
       "      <th>3</th>\n",
       "      <td>0.000</td>\n",
       "      <td>0.00</td>\n",
       "      <td>0.000</td>\n",
       "      <td>0.562</td>\n",
       "      <td>0.000</td>\n",
       "      <td>0.293</td>\n",
       "      <td>0.443</td>\n",
       "      <td>0.000</td>\n",
       "      <td>0.562</td>\n",
       "      <td>0.00</td>\n",
       "      <td>0.293</td>\n",
       "      <td>0.000</td>\n",
       "      <td>0.000</td>\n",
       "      <td>0.00</td>\n",
       "    </tr>\n",
       "  </tbody>\n",
       "</table>\n",
       "</div>"
      ],
      "text/plain": [
       "     all  awesome  funny   good   hate      i     it   like   love  loved  \\\n",
       "0  0.000     0.00  0.469  0.000  0.000  0.245  0.000  0.469  0.000   0.00   \n",
       "1  0.627     0.00  0.000  0.000  0.627  0.327  0.000  0.000  0.000   0.00   \n",
       "2  0.000     0.49  0.000  0.000  0.000  0.256  0.386  0.000  0.000   0.49   \n",
       "3  0.000     0.00  0.000  0.562  0.000  0.293  0.443  0.000  0.562   0.00   \n",
       "\n",
       "   movie   this   very    wa  \n",
       "0  0.245  0.469  0.469  0.00  \n",
       "1  0.327  0.000  0.000  0.00  \n",
       "2  0.256  0.000  0.000  0.49  \n",
       "3  0.293  0.000  0.000  0.00  "
      ]
     },
     "execution_count": 12,
     "metadata": {},
     "output_type": "execute_result"
    }
   ],
   "source": [
    "from sklearn.feature_extraction.text import TfidfVectorizer\n",
    "\n",
    "class LemmaTokenizer(object):\n",
    "    def __init__(self):\n",
    "        self.wnl = WordNetLemmatizer()\n",
    "    def __call__(self, articles):\n",
    "        return [self.wnl.lemmatize(t) for t in nltk.word_tokenize(articles)]\n",
    "\n",
    "# Initialize TF-IDF\n",
    "tfidf_vectorizer = TfidfVectorizer(tokenizer=LemmaTokenizer(),\n",
    "                                   lowercase=True)\n",
    "\n",
    "# Fit to sentences_no_punc and transform into array\n",
    "X = tfidf_vectorizer.fit_transform(sentences_no_punc)\n",
    "\n",
    "tfidf_df = pd.DataFrame(data = X.toarray(), columns = tfidf_vectorizer.get_feature_names()).round(3)\n",
    "tfidf_df"
   ]
  },
  {
   "cell_type": "markdown",
   "metadata": {},
   "source": [
    "Fantastic!\n",
    "\n",
    "TF-IDF is the most common form of converting documents within a dataset, also known as corpus, into a numeric representation.  Now that we know how to preprocess raw text for modeling, lets learn about some different types of models and use some real-life data!"
   ]
  },
  {
   "cell_type": "markdown",
   "metadata": {},
   "source": [
    "# 2. Topic Modeling\n",
    "\n",
    "A topic model is a type of statistical model for discovering the abstract \"topics\" that occur in a collection of documents. Topic modeling is a frequently used text-mining tool for discovery of hidden semantic structures in a text body. Intuitively, given that a document is about a particular topic, one would expect particular words to appear in the document more or less frequently: \"dog\" and \"bone\" will appear more often in documents about dogs, \"cat\" and \"meow\" will appear in documents about cats, and \"the\" and \"is\" will appear equally in both. A document typically concerns multiple topics in different proportions; thus, in a document that is 10% about cats and 90% about dogs, there would probably be about 9 times more dog words than cat words. The \"topics\" produced by topic modeling techniques are clusters of similar words. A topic model captures this intuition in a mathematical framework, which allows examining a set of documents and discovering, based on the statistics of the words in each, what the topics might be and what each document's balance of topics is."
   ]
  },
  {
   "cell_type": "markdown",
   "metadata": {},
   "source": [
    "### Load MLB Pitcher Data\n",
    "#### Career Statistics, Pitch Style Description and Tommy John Surgery Indicator\n",
    "\n",
    "In this section, we will explore a dataset that contains career level data and pitch style descriptions for 758 MLB starting pitchers that threw more than 100 innings between 2010-2018 as well as an indication of whether or not the pitcher got Ulnar Collateral Ligament Reconstruction commonly referred to as Tommy John Surgery. \n",
    "- The career statistics were exported from Fangraphs.com\n",
    "- Pitch style descriptions were scraped from BrooksBaseball.net player cards\n",
    "- TJ Surgery indicator was merged from google sheet maintained by @MLBPlayerAnalysis"
   ]
  },
  {
   "cell_type": "code",
   "execution_count": 13,
   "metadata": {},
   "outputs": [
    {
     "name": "stdout",
     "output_type": "stream",
     "text": [
      "FanGraphs Dataframe Shape: (849, 45)\n",
      "TJ Dataframe Shape: (795, 5)\n"
     ]
    }
   ],
   "source": [
    "import pandas as pd\n",
    "\n",
    "# Read Career Statistics from FanGraphs and TJ Surgery Data with Pitch Style\n",
    "fg_df = pd.read_csv('./data/FanGraphsCareerData.csv')\n",
    "tj_df = pd.read_csv('./data/MLB_Pitchers_2008to2018_withBBPitchStyle.csv')\n",
    "print(f'FanGraphs Dataframe Shape: {fg_df.shape}')\n",
    "print(f'TJ Dataframe Shape: {tj_df.shape}')"
   ]
  },
  {
   "cell_type": "code",
   "execution_count": 14,
   "metadata": {},
   "outputs": [
    {
     "name": "stdout",
     "output_type": "stream",
     "text": [
      "Final Dataframe Shape: (758, 49)\n",
      "\n"
     ]
    },
    {
     "data": {
      "text/html": [
       "<div>\n",
       "<style scoped>\n",
       "    .dataframe tbody tr th:only-of-type {\n",
       "        vertical-align: middle;\n",
       "    }\n",
       "\n",
       "    .dataframe tbody tr th {\n",
       "        vertical-align: top;\n",
       "    }\n",
       "\n",
       "    .dataframe thead th {\n",
       "        text-align: right;\n",
       "    }\n",
       "</style>\n",
       "<table border=\"1\" class=\"dataframe\">\n",
       "  <thead>\n",
       "    <tr style=\"text-align: right;\">\n",
       "      <th></th>\n",
       "      <th>playerid</th>\n",
       "      <th>Name_x</th>\n",
       "      <th>throws</th>\n",
       "      <th>BB_PitchStyle</th>\n",
       "      <th>tjSurgery</th>\n",
       "      <th>Name_y</th>\n",
       "      <th>Team</th>\n",
       "      <th>IP</th>\n",
       "      <th>Swing%</th>\n",
       "      <th>Contact%</th>\n",
       "      <th>...</th>\n",
       "      <th>CH-X</th>\n",
       "      <th>SL-X</th>\n",
       "      <th>CU-X</th>\n",
       "      <th>FA-Z</th>\n",
       "      <th>FC-Z</th>\n",
       "      <th>FS-Z</th>\n",
       "      <th>SI-Z</th>\n",
       "      <th>CH-Z</th>\n",
       "      <th>SL-Z</th>\n",
       "      <th>CU-Z</th>\n",
       "    </tr>\n",
       "  </thead>\n",
       "  <tbody>\n",
       "    <tr>\n",
       "      <th>0</th>\n",
       "      <td>13172</td>\n",
       "      <td>Carson Smith</td>\n",
       "      <td>R</td>\n",
       "      <td>Although he has not thrown an MLB pitch in 201...</td>\n",
       "      <td>Yes</td>\n",
       "      <td>Carson Smith</td>\n",
       "      <td>- - -</td>\n",
       "      <td>102.0</td>\n",
       "      <td>0.405</td>\n",
       "      <td>0.711</td>\n",
       "      <td>...</td>\n",
       "      <td>-7.5</td>\n",
       "      <td>6.1</td>\n",
       "      <td>NaN</td>\n",
       "      <td>4.1</td>\n",
       "      <td>NaN</td>\n",
       "      <td>NaN</td>\n",
       "      <td>0.9</td>\n",
       "      <td>-2.0</td>\n",
       "      <td>-1.7</td>\n",
       "      <td>NaN</td>\n",
       "    </tr>\n",
       "    <tr>\n",
       "      <th>1</th>\n",
       "      <td>7196</td>\n",
       "      <td>Greg Holland</td>\n",
       "      <td>R</td>\n",
       "      <td>Greg Holland has thrown 7,718 pitches that hav...</td>\n",
       "      <td>Yes</td>\n",
       "      <td>Greg Holland</td>\n",
       "      <td>- - -</td>\n",
       "      <td>423.1</td>\n",
       "      <td>0.459</td>\n",
       "      <td>0.672</td>\n",
       "      <td>...</td>\n",
       "      <td>NaN</td>\n",
       "      <td>2.6</td>\n",
       "      <td>2.7</td>\n",
       "      <td>10.9</td>\n",
       "      <td>NaN</td>\n",
       "      <td>3.3</td>\n",
       "      <td>NaN</td>\n",
       "      <td>NaN</td>\n",
       "      <td>0.5</td>\n",
       "      <td>-5.7</td>\n",
       "    </tr>\n",
       "    <tr>\n",
       "      <th>2</th>\n",
       "      <td>10745</td>\n",
       "      <td>Trevor Rosenthal</td>\n",
       "      <td>R</td>\n",
       "      <td>Trevor Rosenthal has thrown 6,424 pitches that...</td>\n",
       "      <td>Yes</td>\n",
       "      <td>Trevor Rosenthal</td>\n",
       "      <td>Cardinals</td>\n",
       "      <td>325.0</td>\n",
       "      <td>0.492</td>\n",
       "      <td>0.732</td>\n",
       "      <td>...</td>\n",
       "      <td>-6.6</td>\n",
       "      <td>3.2</td>\n",
       "      <td>4.9</td>\n",
       "      <td>10.4</td>\n",
       "      <td>NaN</td>\n",
       "      <td>NaN</td>\n",
       "      <td>NaN</td>\n",
       "      <td>6.9</td>\n",
       "      <td>1.0</td>\n",
       "      <td>-4.7</td>\n",
       "    </tr>\n",
       "    <tr>\n",
       "      <th>3</th>\n",
       "      <td>15010</td>\n",
       "      <td>Corey Knebel</td>\n",
       "      <td>R</td>\n",
       "      <td>Although he has not thrown an MLB pitch in 201...</td>\n",
       "      <td>Yes</td>\n",
       "      <td>Corey Knebel</td>\n",
       "      <td>- - -</td>\n",
       "      <td>223.0</td>\n",
       "      <td>0.440</td>\n",
       "      <td>0.730</td>\n",
       "      <td>...</td>\n",
       "      <td>-8.4</td>\n",
       "      <td>NaN</td>\n",
       "      <td>5.7</td>\n",
       "      <td>10.2</td>\n",
       "      <td>NaN</td>\n",
       "      <td>NaN</td>\n",
       "      <td>NaN</td>\n",
       "      <td>5.4</td>\n",
       "      <td>NaN</td>\n",
       "      <td>-8.7</td>\n",
       "    </tr>\n",
       "    <tr>\n",
       "      <th>4</th>\n",
       "      <td>2520</td>\n",
       "      <td>Lance Lynn</td>\n",
       "      <td>R</td>\n",
       "      <td>Lance Lynn has thrown 21,120 pitches that have...</td>\n",
       "      <td>Yes</td>\n",
       "      <td>Lance Lynn</td>\n",
       "      <td>- - -</td>\n",
       "      <td>1134.1</td>\n",
       "      <td>0.457</td>\n",
       "      <td>0.795</td>\n",
       "      <td>...</td>\n",
       "      <td>-6.7</td>\n",
       "      <td>NaN</td>\n",
       "      <td>5.5</td>\n",
       "      <td>8.1</td>\n",
       "      <td>3.3</td>\n",
       "      <td>NaN</td>\n",
       "      <td>3.6</td>\n",
       "      <td>2.7</td>\n",
       "      <td>NaN</td>\n",
       "      <td>-5.9</td>\n",
       "    </tr>\n",
       "  </tbody>\n",
       "</table>\n",
       "<p>5 rows × 49 columns</p>\n",
       "</div>"
      ],
      "text/plain": [
       "   playerid            Name_x throws  \\\n",
       "0     13172      Carson Smith      R   \n",
       "1      7196      Greg Holland      R   \n",
       "2     10745  Trevor Rosenthal      R   \n",
       "3     15010      Corey Knebel      R   \n",
       "4      2520        Lance Lynn      R   \n",
       "\n",
       "                                       BB_PitchStyle tjSurgery  \\\n",
       "0  Although he has not thrown an MLB pitch in 201...       Yes   \n",
       "1  Greg Holland has thrown 7,718 pitches that hav...       Yes   \n",
       "2  Trevor Rosenthal has thrown 6,424 pitches that...       Yes   \n",
       "3  Although he has not thrown an MLB pitch in 201...       Yes   \n",
       "4  Lance Lynn has thrown 21,120 pitches that have...       Yes   \n",
       "\n",
       "             Name_y       Team      IP  Swing%  Contact%  ...   CH-X  SL-X  \\\n",
       "0      Carson Smith      - - -   102.0   0.405     0.711  ...   -7.5   6.1   \n",
       "1      Greg Holland      - - -   423.1   0.459     0.672  ...    NaN   2.6   \n",
       "2  Trevor Rosenthal  Cardinals   325.0   0.492     0.732  ...   -6.6   3.2   \n",
       "3      Corey Knebel      - - -   223.0   0.440     0.730  ...   -8.4   NaN   \n",
       "4        Lance Lynn      - - -  1134.1   0.457     0.795  ...   -6.7   NaN   \n",
       "\n",
       "   CU-X  FA-Z  FC-Z  FS-Z  SI-Z  CH-Z  SL-Z  CU-Z  \n",
       "0   NaN   4.1   NaN   NaN   0.9  -2.0  -1.7   NaN  \n",
       "1   2.7  10.9   NaN   3.3   NaN   NaN   0.5  -5.7  \n",
       "2   4.9  10.4   NaN   NaN   NaN   6.9   1.0  -4.7  \n",
       "3   5.7  10.2   NaN   NaN   NaN   5.4   NaN  -8.7  \n",
       "4   5.5   8.1   3.3   NaN   3.6   2.7   NaN  -5.9  \n",
       "\n",
       "[5 rows x 49 columns]"
      ]
     },
     "execution_count": 14,
     "metadata": {},
     "output_type": "execute_result"
    }
   ],
   "source": [
    "# Merge Final dataframe with TJ label and FanGraphs Stats\n",
    "df = pd.merge(tj_df, fg_df, on='playerid')\n",
    "print(f'Final Dataframe Shape: {df.shape}\\n')\n",
    "df.head()"
   ]
  },
  {
   "cell_type": "code",
   "execution_count": 15,
   "metadata": {},
   "outputs": [
    {
     "data": {
      "text/html": [
       "<div>\n",
       "<style scoped>\n",
       "    .dataframe tbody tr th:only-of-type {\n",
       "        vertical-align: middle;\n",
       "    }\n",
       "\n",
       "    .dataframe tbody tr th {\n",
       "        vertical-align: top;\n",
       "    }\n",
       "\n",
       "    .dataframe thead th {\n",
       "        text-align: right;\n",
       "    }\n",
       "</style>\n",
       "<table border=\"1\" class=\"dataframe\">\n",
       "  <thead>\n",
       "    <tr style=\"text-align: right;\">\n",
       "      <th></th>\n",
       "      <th>playerid</th>\n",
       "      <th>IP</th>\n",
       "      <th>Swing%</th>\n",
       "      <th>Contact%</th>\n",
       "      <th>Zone%</th>\n",
       "      <th>Pace</th>\n",
       "      <th>K/9</th>\n",
       "      <th>BB/9</th>\n",
       "      <th>K/BB</th>\n",
       "      <th>HR/9</th>\n",
       "      <th>...</th>\n",
       "      <th>CH-X</th>\n",
       "      <th>SL-X</th>\n",
       "      <th>CU-X</th>\n",
       "      <th>FA-Z</th>\n",
       "      <th>FC-Z</th>\n",
       "      <th>FS-Z</th>\n",
       "      <th>SI-Z</th>\n",
       "      <th>CH-Z</th>\n",
       "      <th>SL-Z</th>\n",
       "      <th>CU-Z</th>\n",
       "    </tr>\n",
       "  </thead>\n",
       "  <tbody>\n",
       "    <tr>\n",
       "      <th>count</th>\n",
       "      <td>758.000000</td>\n",
       "      <td>758.000000</td>\n",
       "      <td>758.000000</td>\n",
       "      <td>758.000000</td>\n",
       "      <td>758.000000</td>\n",
       "      <td>758.000000</td>\n",
       "      <td>758.000000</td>\n",
       "      <td>758.000000</td>\n",
       "      <td>758.000000</td>\n",
       "      <td>758.000000</td>\n",
       "      <td>...</td>\n",
       "      <td>691.000000</td>\n",
       "      <td>650.000000</td>\n",
       "      <td>583.000000</td>\n",
       "      <td>744.000000</td>\n",
       "      <td>355.000000</td>\n",
       "      <td>120.000000</td>\n",
       "      <td>650.000000</td>\n",
       "      <td>691.000000</td>\n",
       "      <td>650.000000</td>\n",
       "      <td>583.000000</td>\n",
       "    </tr>\n",
       "    <tr>\n",
       "      <th>mean</th>\n",
       "      <td>8241.166227</td>\n",
       "      <td>435.541425</td>\n",
       "      <td>0.462650</td>\n",
       "      <td>0.783538</td>\n",
       "      <td>0.486613</td>\n",
       "      <td>23.534433</td>\n",
       "      <td>7.958496</td>\n",
       "      <td>3.255475</td>\n",
       "      <td>2.586953</td>\n",
       "      <td>1.044710</td>\n",
       "      <td>...</td>\n",
       "      <td>-2.872214</td>\n",
       "      <td>1.640923</td>\n",
       "      <td>2.752659</td>\n",
       "      <td>8.967339</td>\n",
       "      <td>5.037183</td>\n",
       "      <td>3.000833</td>\n",
       "      <td>6.141538</td>\n",
       "      <td>4.743849</td>\n",
       "      <td>1.108308</td>\n",
       "      <td>-4.989708</td>\n",
       "    </tr>\n",
       "    <tr>\n",
       "      <th>std</th>\n",
       "      <td>4606.771033</td>\n",
       "      <td>369.937147</td>\n",
       "      <td>0.024252</td>\n",
       "      <td>0.042044</td>\n",
       "      <td>0.031358</td>\n",
       "      <td>1.989441</td>\n",
       "      <td>1.718047</td>\n",
       "      <td>0.827609</td>\n",
       "      <td>0.838824</td>\n",
       "      <td>0.312633</td>\n",
       "      <td>...</td>\n",
       "      <td>7.061158</td>\n",
       "      <td>2.810560</td>\n",
       "      <td>4.345372</td>\n",
       "      <td>1.498827</td>\n",
       "      <td>1.678132</td>\n",
       "      <td>1.828233</td>\n",
       "      <td>2.056685</td>\n",
       "      <td>2.317276</td>\n",
       "      <td>1.924770</td>\n",
       "      <td>2.556220</td>\n",
       "    </tr>\n",
       "    <tr>\n",
       "      <th>min</th>\n",
       "      <td>18.000000</td>\n",
       "      <td>100.000000</td>\n",
       "      <td>0.383000</td>\n",
       "      <td>0.638000</td>\n",
       "      <td>0.367000</td>\n",
       "      <td>18.500000</td>\n",
       "      <td>3.840000</td>\n",
       "      <td>1.240000</td>\n",
       "      <td>0.960000</td>\n",
       "      <td>0.260000</td>\n",
       "      <td>...</td>\n",
       "      <td>-10.800000</td>\n",
       "      <td>-7.500000</td>\n",
       "      <td>-9.200000</td>\n",
       "      <td>-5.500000</td>\n",
       "      <td>0.100000</td>\n",
       "      <td>-2.500000</td>\n",
       "      <td>-6.200000</td>\n",
       "      <td>-8.500000</td>\n",
       "      <td>-6.900000</td>\n",
       "      <td>-12.400000</td>\n",
       "    </tr>\n",
       "    <tr>\n",
       "      <th>25%</th>\n",
       "      <td>4300.250000</td>\n",
       "      <td>175.050000</td>\n",
       "      <td>0.447000</td>\n",
       "      <td>0.758000</td>\n",
       "      <td>0.467250</td>\n",
       "      <td>22.100000</td>\n",
       "      <td>6.795000</td>\n",
       "      <td>2.680000</td>\n",
       "      <td>2.040000</td>\n",
       "      <td>0.840000</td>\n",
       "      <td>...</td>\n",
       "      <td>-7.900000</td>\n",
       "      <td>0.100000</td>\n",
       "      <td>-0.400000</td>\n",
       "      <td>8.200000</td>\n",
       "      <td>3.900000</td>\n",
       "      <td>1.800000</td>\n",
       "      <td>5.100000</td>\n",
       "      <td>3.400000</td>\n",
       "      <td>-0.100000</td>\n",
       "      <td>-6.800000</td>\n",
       "    </tr>\n",
       "    <tr>\n",
       "      <th>50%</th>\n",
       "      <td>7944.500000</td>\n",
       "      <td>300.100000</td>\n",
       "      <td>0.462000</td>\n",
       "      <td>0.785000</td>\n",
       "      <td>0.488000</td>\n",
       "      <td>23.400000</td>\n",
       "      <td>7.905000</td>\n",
       "      <td>3.235000</td>\n",
       "      <td>2.440000</td>\n",
       "      <td>1.020000</td>\n",
       "      <td>...</td>\n",
       "      <td>-6.500000</td>\n",
       "      <td>1.900000</td>\n",
       "      <td>4.100000</td>\n",
       "      <td>9.100000</td>\n",
       "      <td>5.000000</td>\n",
       "      <td>3.050000</td>\n",
       "      <td>6.400000</td>\n",
       "      <td>4.900000</td>\n",
       "      <td>1.200000</td>\n",
       "      <td>-5.000000</td>\n",
       "    </tr>\n",
       "    <tr>\n",
       "      <th>75%</th>\n",
       "      <td>11891.000000</td>\n",
       "      <td>535.200000</td>\n",
       "      <td>0.478000</td>\n",
       "      <td>0.812750</td>\n",
       "      <td>0.507000</td>\n",
       "      <td>24.700000</td>\n",
       "      <td>9.000000</td>\n",
       "      <td>3.750000</td>\n",
       "      <td>2.970000</td>\n",
       "      <td>1.217500</td>\n",
       "      <td>...</td>\n",
       "      <td>6.100000</td>\n",
       "      <td>3.175000</td>\n",
       "      <td>5.900000</td>\n",
       "      <td>10.000000</td>\n",
       "      <td>6.100000</td>\n",
       "      <td>4.300000</td>\n",
       "      <td>7.500000</td>\n",
       "      <td>6.200000</td>\n",
       "      <td>2.400000</td>\n",
       "      <td>-3.200000</td>\n",
       "    </tr>\n",
       "    <tr>\n",
       "      <th>max</th>\n",
       "      <td>19427.000000</td>\n",
       "      <td>1919.000000</td>\n",
       "      <td>0.560000</td>\n",
       "      <td>0.891000</td>\n",
       "      <td>0.587000</td>\n",
       "      <td>31.200000</td>\n",
       "      <td>15.000000</td>\n",
       "      <td>6.520000</td>\n",
       "      <td>7.940000</td>\n",
       "      <td>2.260000</td>\n",
       "      <td>...</td>\n",
       "      <td>12.500000</td>\n",
       "      <td>10.300000</td>\n",
       "      <td>11.500000</td>\n",
       "      <td>12.300000</td>\n",
       "      <td>11.600000</td>\n",
       "      <td>7.400000</td>\n",
       "      <td>11.500000</td>\n",
       "      <td>10.700000</td>\n",
       "      <td>11.900000</td>\n",
       "      <td>7.700000</td>\n",
       "    </tr>\n",
       "  </tbody>\n",
       "</table>\n",
       "<p>8 rows × 43 columns</p>\n",
       "</div>"
      ],
      "text/plain": [
       "           playerid           IP      Swing%    Contact%       Zone%  \\\n",
       "count    758.000000   758.000000  758.000000  758.000000  758.000000   \n",
       "mean    8241.166227   435.541425    0.462650    0.783538    0.486613   \n",
       "std     4606.771033   369.937147    0.024252    0.042044    0.031358   \n",
       "min       18.000000   100.000000    0.383000    0.638000    0.367000   \n",
       "25%     4300.250000   175.050000    0.447000    0.758000    0.467250   \n",
       "50%     7944.500000   300.100000    0.462000    0.785000    0.488000   \n",
       "75%    11891.000000   535.200000    0.478000    0.812750    0.507000   \n",
       "max    19427.000000  1919.000000    0.560000    0.891000    0.587000   \n",
       "\n",
       "             Pace         K/9        BB/9        K/BB        HR/9     ...      \\\n",
       "count  758.000000  758.000000  758.000000  758.000000  758.000000     ...       \n",
       "mean    23.534433    7.958496    3.255475    2.586953    1.044710     ...       \n",
       "std      1.989441    1.718047    0.827609    0.838824    0.312633     ...       \n",
       "min     18.500000    3.840000    1.240000    0.960000    0.260000     ...       \n",
       "25%     22.100000    6.795000    2.680000    2.040000    0.840000     ...       \n",
       "50%     23.400000    7.905000    3.235000    2.440000    1.020000     ...       \n",
       "75%     24.700000    9.000000    3.750000    2.970000    1.217500     ...       \n",
       "max     31.200000   15.000000    6.520000    7.940000    2.260000     ...       \n",
       "\n",
       "             CH-X        SL-X        CU-X        FA-Z        FC-Z        FS-Z  \\\n",
       "count  691.000000  650.000000  583.000000  744.000000  355.000000  120.000000   \n",
       "mean    -2.872214    1.640923    2.752659    8.967339    5.037183    3.000833   \n",
       "std      7.061158    2.810560    4.345372    1.498827    1.678132    1.828233   \n",
       "min    -10.800000   -7.500000   -9.200000   -5.500000    0.100000   -2.500000   \n",
       "25%     -7.900000    0.100000   -0.400000    8.200000    3.900000    1.800000   \n",
       "50%     -6.500000    1.900000    4.100000    9.100000    5.000000    3.050000   \n",
       "75%      6.100000    3.175000    5.900000   10.000000    6.100000    4.300000   \n",
       "max     12.500000   10.300000   11.500000   12.300000   11.600000    7.400000   \n",
       "\n",
       "             SI-Z        CH-Z        SL-Z        CU-Z  \n",
       "count  650.000000  691.000000  650.000000  583.000000  \n",
       "mean     6.141538    4.743849    1.108308   -4.989708  \n",
       "std      2.056685    2.317276    1.924770    2.556220  \n",
       "min     -6.200000   -8.500000   -6.900000  -12.400000  \n",
       "25%      5.100000    3.400000   -0.100000   -6.800000  \n",
       "50%      6.400000    4.900000    1.200000   -5.000000  \n",
       "75%      7.500000    6.200000    2.400000   -3.200000  \n",
       "max     11.500000   10.700000   11.900000    7.700000  \n",
       "\n",
       "[8 rows x 43 columns]"
      ]
     },
     "execution_count": 15,
     "metadata": {},
     "output_type": "execute_result"
    }
   ],
   "source": [
    "df.describe()"
   ]
  },
  {
   "cell_type": "markdown",
   "metadata": {},
   "source": [
    "We can see right away that some features like IP (Innings Pitched) have skewed distributions and we can also see that many of the features have different units (i.e. innings, time, etc.). Feature scaling may help improve our model performance. We will use the sklearn MinMax scaler to normalize all the numerical features between 0 and 1 or -1 and 1 (for features with negative values). "
   ]
  },
  {
   "cell_type": "code",
   "execution_count": 16,
   "metadata": {},
   "outputs": [],
   "source": [
    "import numpy as np\n",
    "from sklearn import preprocessing\n",
    "\n",
    "# Find numeric columns\n",
    "num_cols = df.columns[df.dtypes.apply(lambda c: np.issubdtype(c, np.number))]\n",
    "\n",
    "# Scale the numeric columns from 0-1 with Standard Scaler\n",
    "scaler = preprocessing.RobustScaler()\n",
    "df[num_cols] = scaler.fit_transform(df[num_cols])"
   ]
  },
  {
   "cell_type": "code",
   "execution_count": 17,
   "metadata": {},
   "outputs": [
    {
     "data": {
      "text/html": [
       "<div>\n",
       "<style scoped>\n",
       "    .dataframe tbody tr th:only-of-type {\n",
       "        vertical-align: middle;\n",
       "    }\n",
       "\n",
       "    .dataframe tbody tr th {\n",
       "        vertical-align: top;\n",
       "    }\n",
       "\n",
       "    .dataframe thead th {\n",
       "        text-align: right;\n",
       "    }\n",
       "</style>\n",
       "<table border=\"1\" class=\"dataframe\">\n",
       "  <thead>\n",
       "    <tr style=\"text-align: right;\">\n",
       "      <th></th>\n",
       "      <th>playerid</th>\n",
       "      <th>IP</th>\n",
       "      <th>Swing%</th>\n",
       "      <th>Contact%</th>\n",
       "      <th>Zone%</th>\n",
       "      <th>Pace</th>\n",
       "      <th>K/9</th>\n",
       "      <th>BB/9</th>\n",
       "      <th>K/BB</th>\n",
       "      <th>HR/9</th>\n",
       "      <th>...</th>\n",
       "      <th>CH-X</th>\n",
       "      <th>SL-X</th>\n",
       "      <th>CU-X</th>\n",
       "      <th>FA-Z</th>\n",
       "      <th>FC-Z</th>\n",
       "      <th>FS-Z</th>\n",
       "      <th>SI-Z</th>\n",
       "      <th>CH-Z</th>\n",
       "      <th>SL-Z</th>\n",
       "      <th>CU-Z</th>\n",
       "    </tr>\n",
       "  </thead>\n",
       "  <tbody>\n",
       "    <tr>\n",
       "      <th>count</th>\n",
       "      <td>758.000000</td>\n",
       "      <td>758.000000</td>\n",
       "      <td>758.000000</td>\n",
       "      <td>758.000000</td>\n",
       "      <td>758.000000</td>\n",
       "      <td>758.000000</td>\n",
       "      <td>758.000000</td>\n",
       "      <td>7.580000e+02</td>\n",
       "      <td>758.000000</td>\n",
       "      <td>758.000000</td>\n",
       "      <td>...</td>\n",
       "      <td>691.000000</td>\n",
       "      <td>650.000000</td>\n",
       "      <td>583.000000</td>\n",
       "      <td>744.000000</td>\n",
       "      <td>355.000000</td>\n",
       "      <td>1.200000e+02</td>\n",
       "      <td>650.000000</td>\n",
       "      <td>691.000000</td>\n",
       "      <td>650.000000</td>\n",
       "      <td>583.000000</td>\n",
       "    </tr>\n",
       "    <tr>\n",
       "      <th>mean</th>\n",
       "      <td>0.039083</td>\n",
       "      <td>0.376069</td>\n",
       "      <td>0.020981</td>\n",
       "      <td>-0.026698</td>\n",
       "      <td>-0.034882</td>\n",
       "      <td>0.051705</td>\n",
       "      <td>0.024261</td>\n",
       "      <td>1.913545e-02</td>\n",
       "      <td>0.158013</td>\n",
       "      <td>0.065456</td>\n",
       "      <td>...</td>\n",
       "      <td>0.259128</td>\n",
       "      <td>-0.084253</td>\n",
       "      <td>-0.213864</td>\n",
       "      <td>-0.073701</td>\n",
       "      <td>0.016901</td>\n",
       "      <td>-1.966667e-02</td>\n",
       "      <td>-0.107692</td>\n",
       "      <td>-0.055768</td>\n",
       "      <td>-0.036677</td>\n",
       "      <td>0.002859</td>\n",
       "    </tr>\n",
       "    <tr>\n",
       "      <th>std</th>\n",
       "      <td>0.606893</td>\n",
       "      <td>1.027175</td>\n",
       "      <td>0.782335</td>\n",
       "      <td>0.767934</td>\n",
       "      <td>0.788884</td>\n",
       "      <td>0.765170</td>\n",
       "      <td>0.779160</td>\n",
       "      <td>7.734665e-01</td>\n",
       "      <td>0.901962</td>\n",
       "      <td>0.828168</td>\n",
       "      <td>...</td>\n",
       "      <td>0.504368</td>\n",
       "      <td>0.914003</td>\n",
       "      <td>0.689742</td>\n",
       "      <td>0.832682</td>\n",
       "      <td>0.762787</td>\n",
       "      <td>7.312932e-01</td>\n",
       "      <td>0.856952</td>\n",
       "      <td>0.827599</td>\n",
       "      <td>0.769908</td>\n",
       "      <td>0.710061</td>\n",
       "    </tr>\n",
       "    <tr>\n",
       "      <th>min</th>\n",
       "      <td>-1.044231</td>\n",
       "      <td>-0.555602</td>\n",
       "      <td>-2.548387</td>\n",
       "      <td>-2.684932</td>\n",
       "      <td>-3.044025</td>\n",
       "      <td>-1.884615</td>\n",
       "      <td>-1.843537</td>\n",
       "      <td>-1.864486e+00</td>\n",
       "      <td>-1.591398</td>\n",
       "      <td>-2.013245</td>\n",
       "      <td>...</td>\n",
       "      <td>-0.307143</td>\n",
       "      <td>-3.056911</td>\n",
       "      <td>-2.111111</td>\n",
       "      <td>-8.111111</td>\n",
       "      <td>-2.227273</td>\n",
       "      <td>-2.220000e+00</td>\n",
       "      <td>-5.250000</td>\n",
       "      <td>-4.785714</td>\n",
       "      <td>-3.240000</td>\n",
       "      <td>-2.055556</td>\n",
       "    </tr>\n",
       "    <tr>\n",
       "      <th>25%</th>\n",
       "      <td>-0.480091</td>\n",
       "      <td>-0.347216</td>\n",
       "      <td>-0.483871</td>\n",
       "      <td>-0.493151</td>\n",
       "      <td>-0.522013</td>\n",
       "      <td>-0.500000</td>\n",
       "      <td>-0.503401</td>\n",
       "      <td>-5.186916e-01</td>\n",
       "      <td>-0.430108</td>\n",
       "      <td>-0.476821</td>\n",
       "      <td>...</td>\n",
       "      <td>-0.100000</td>\n",
       "      <td>-0.585366</td>\n",
       "      <td>-0.714286</td>\n",
       "      <td>-0.500000</td>\n",
       "      <td>-0.500000</td>\n",
       "      <td>-5.000000e-01</td>\n",
       "      <td>-0.541667</td>\n",
       "      <td>-0.535714</td>\n",
       "      <td>-0.520000</td>\n",
       "      <td>-0.500000</td>\n",
       "    </tr>\n",
       "    <tr>\n",
       "      <th>50%</th>\n",
       "      <td>0.000000</td>\n",
       "      <td>0.000000</td>\n",
       "      <td>0.000000</td>\n",
       "      <td>0.000000</td>\n",
       "      <td>0.000000</td>\n",
       "      <td>0.000000</td>\n",
       "      <td>0.000000</td>\n",
       "      <td>-2.077331e-16</td>\n",
       "      <td>0.000000</td>\n",
       "      <td>0.000000</td>\n",
       "      <td>...</td>\n",
       "      <td>0.000000</td>\n",
       "      <td>0.000000</td>\n",
       "      <td>0.000000</td>\n",
       "      <td>0.000000</td>\n",
       "      <td>0.000000</td>\n",
       "      <td>9.020562e-17</td>\n",
       "      <td>0.000000</td>\n",
       "      <td>0.000000</td>\n",
       "      <td>0.000000</td>\n",
       "      <td>0.000000</td>\n",
       "    </tr>\n",
       "    <tr>\n",
       "      <th>75%</th>\n",
       "      <td>0.519909</td>\n",
       "      <td>0.652784</td>\n",
       "      <td>0.516129</td>\n",
       "      <td>0.506849</td>\n",
       "      <td>0.477987</td>\n",
       "      <td>0.500000</td>\n",
       "      <td>0.496599</td>\n",
       "      <td>4.813084e-01</td>\n",
       "      <td>0.569892</td>\n",
       "      <td>0.523179</td>\n",
       "      <td>...</td>\n",
       "      <td>0.900000</td>\n",
       "      <td>0.414634</td>\n",
       "      <td>0.285714</td>\n",
       "      <td>0.500000</td>\n",
       "      <td>0.500000</td>\n",
       "      <td>5.000000e-01</td>\n",
       "      <td>0.458333</td>\n",
       "      <td>0.464286</td>\n",
       "      <td>0.480000</td>\n",
       "      <td>0.500000</td>\n",
       "    </tr>\n",
       "    <tr>\n",
       "      <th>max</th>\n",
       "      <td>1.512696</td>\n",
       "      <td>4.495071</td>\n",
       "      <td>3.161290</td>\n",
       "      <td>1.936073</td>\n",
       "      <td>2.490566</td>\n",
       "      <td>3.000000</td>\n",
       "      <td>3.217687</td>\n",
       "      <td>3.070093e+00</td>\n",
       "      <td>5.913978</td>\n",
       "      <td>3.284768</td>\n",
       "      <td>...</td>\n",
       "      <td>1.357143</td>\n",
       "      <td>2.731707</td>\n",
       "      <td>1.174603</td>\n",
       "      <td>1.777778</td>\n",
       "      <td>3.000000</td>\n",
       "      <td>1.740000e+00</td>\n",
       "      <td>2.125000</td>\n",
       "      <td>2.071429</td>\n",
       "      <td>4.280000</td>\n",
       "      <td>3.527778</td>\n",
       "    </tr>\n",
       "  </tbody>\n",
       "</table>\n",
       "<p>8 rows × 43 columns</p>\n",
       "</div>"
      ],
      "text/plain": [
       "         playerid          IP      Swing%    Contact%       Zone%        Pace  \\\n",
       "count  758.000000  758.000000  758.000000  758.000000  758.000000  758.000000   \n",
       "mean     0.039083    0.376069    0.020981   -0.026698   -0.034882    0.051705   \n",
       "std      0.606893    1.027175    0.782335    0.767934    0.788884    0.765170   \n",
       "min     -1.044231   -0.555602   -2.548387   -2.684932   -3.044025   -1.884615   \n",
       "25%     -0.480091   -0.347216   -0.483871   -0.493151   -0.522013   -0.500000   \n",
       "50%      0.000000    0.000000    0.000000    0.000000    0.000000    0.000000   \n",
       "75%      0.519909    0.652784    0.516129    0.506849    0.477987    0.500000   \n",
       "max      1.512696    4.495071    3.161290    1.936073    2.490566    3.000000   \n",
       "\n",
       "              K/9          BB/9        K/BB        HR/9     ...      \\\n",
       "count  758.000000  7.580000e+02  758.000000  758.000000     ...       \n",
       "mean     0.024261  1.913545e-02    0.158013    0.065456     ...       \n",
       "std      0.779160  7.734665e-01    0.901962    0.828168     ...       \n",
       "min     -1.843537 -1.864486e+00   -1.591398   -2.013245     ...       \n",
       "25%     -0.503401 -5.186916e-01   -0.430108   -0.476821     ...       \n",
       "50%      0.000000 -2.077331e-16    0.000000    0.000000     ...       \n",
       "75%      0.496599  4.813084e-01    0.569892    0.523179     ...       \n",
       "max      3.217687  3.070093e+00    5.913978    3.284768     ...       \n",
       "\n",
       "             CH-X        SL-X        CU-X        FA-Z        FC-Z  \\\n",
       "count  691.000000  650.000000  583.000000  744.000000  355.000000   \n",
       "mean     0.259128   -0.084253   -0.213864   -0.073701    0.016901   \n",
       "std      0.504368    0.914003    0.689742    0.832682    0.762787   \n",
       "min     -0.307143   -3.056911   -2.111111   -8.111111   -2.227273   \n",
       "25%     -0.100000   -0.585366   -0.714286   -0.500000   -0.500000   \n",
       "50%      0.000000    0.000000    0.000000    0.000000    0.000000   \n",
       "75%      0.900000    0.414634    0.285714    0.500000    0.500000   \n",
       "max      1.357143    2.731707    1.174603    1.777778    3.000000   \n",
       "\n",
       "               FS-Z        SI-Z        CH-Z        SL-Z        CU-Z  \n",
       "count  1.200000e+02  650.000000  691.000000  650.000000  583.000000  \n",
       "mean  -1.966667e-02   -0.107692   -0.055768   -0.036677    0.002859  \n",
       "std    7.312932e-01    0.856952    0.827599    0.769908    0.710061  \n",
       "min   -2.220000e+00   -5.250000   -4.785714   -3.240000   -2.055556  \n",
       "25%   -5.000000e-01   -0.541667   -0.535714   -0.520000   -0.500000  \n",
       "50%    9.020562e-17    0.000000    0.000000    0.000000    0.000000  \n",
       "75%    5.000000e-01    0.458333    0.464286    0.480000    0.500000  \n",
       "max    1.740000e+00    2.125000    2.071429    4.280000    3.527778  \n",
       "\n",
       "[8 rows x 43 columns]"
      ]
     },
     "execution_count": 17,
     "metadata": {},
     "output_type": "execute_result"
    }
   ],
   "source": [
    "df.describe()"
   ]
  },
  {
   "cell_type": "code",
   "execution_count": 18,
   "metadata": {},
   "outputs": [
    {
     "name": "stdout",
     "output_type": "stream",
     "text": [
      "Columns in our Dataset: \n",
      "['playerid', 'Name_x', 'throws', 'BB_PitchStyle', 'tjSurgery', 'Name_y', 'Team', 'IP', 'Swing%', 'Contact%', 'Zone%', 'Pace', 'K/9', 'BB/9', 'K/BB', 'HR/9', 'K%', 'BB%', 'WHIP', 'BABIP', 'ERA', 'vFA', 'vFC', 'vFS', 'vSI', 'vCH', 'vSL', 'vCU', 'FA%', 'FC%', 'FS%', 'SI%', 'CH%', 'SL%', 'CU%', 'FA-X', 'FC-X', 'FS-X', 'SI-X', 'CH-X', 'SL-X', 'CU-X', 'FA-Z', 'FC-Z', 'FS-Z', 'SI-Z', 'CH-Z', 'SL-Z', 'CU-Z']\n"
     ]
    }
   ],
   "source": [
    "# Review list of columns in our dataset\n",
    "print('Columns in our Dataset: \\n{}'.format(list(df.columns)))"
   ]
  },
  {
   "cell_type": "code",
   "execution_count": 19,
   "metadata": {},
   "outputs": [
    {
     "name": "stdout",
     "output_type": "stream",
     "text": [
      "Player Name: \n",
      "Clayton Kershaw\n",
      "\n",
      "Pitch Style Description: \n",
      "[\"Clayton Kershaw has thrown 34,601 pitches that have been tracked by the PITCHf/x system between 2007 and 2019, including pitches thrown in the MLB Regular Season, the MLB Postseason and Spring Training. In 2019, he has relied primarily on his Slider (87mph) and Fourseam Fastball (90mph), also mixing in a Curve (74mph).BETA Feature:Basic description of 2019 pitches compared to other LHP:His slider  is thrown extremely hard, has much less depth than expected and results in many more groundballs compared to other pitchers' sliders. His fourseam fastball generates an extremely high number of swings & misses compared to other pitchers' fourseamers, is straight as an arrow, has essentially average velo and has some added backspin. His curve  has an exceptional bite, generates a high number of swings & misses compared to other pitchers' curves, is an extreme flyball pitch compared to other pitchers' curves, has primarily 12-6 movement and has slightly below average velo. \\r\\n\\r\\n\\r\\n\\r\\n\\r\\n      \\r\\n\"]\n"
     ]
    }
   ],
   "source": [
    "# Let's look at the Pitch Style Description for Clayton Kershaw\n",
    "player = 'Clayton Kershaw'\n",
    "print('Player Name: \\n{}\\n'.format(player))\n",
    "print('Pitch Style Description: \\n{}'.format(list(df[df.Name_x == player][\"BB_PitchStyle\"])))"
   ]
  },
  {
   "cell_type": "markdown",
   "metadata": {},
   "source": [
    "Let's look at how many pitchers in our dataset have gotten Tommy John surgery. "
   ]
  },
  {
   "cell_type": "code",
   "execution_count": 20,
   "metadata": {},
   "outputs": [
    {
     "data": {
      "text/plain": [
       "No     640\n",
       "Yes    118\n",
       "Name: tjSurgery, dtype: int64"
      ]
     },
     "execution_count": 20,
     "metadata": {},
     "output_type": "execute_result"
    }
   ],
   "source": [
    "df.tjSurgery.value_counts()"
   ]
  },
  {
   "cell_type": "code",
   "execution_count": 21,
   "metadata": {},
   "outputs": [
    {
     "data": {
      "text/plain": [
       "No     0.844327\n",
       "Yes    0.155673\n",
       "Name: tjSurgery, dtype: float64"
      ]
     },
     "execution_count": 21,
     "metadata": {},
     "output_type": "execute_result"
    }
   ],
   "source": [
    "# TJ surgery as a percentage\n",
    "df.tjSurgery.value_counts(normalize=True)"
   ]
  },
  {
   "cell_type": "markdown",
   "metadata": {},
   "source": [
    "Check if the dataset has any missing data."
   ]
  },
  {
   "cell_type": "code",
   "execution_count": 22,
   "metadata": {},
   "outputs": [
    {
     "data": {
      "image/png": "[encoded data removed]",
      "text/plain": [
       "<Figure size 1152x432 with 1 Axes>"
      ]
     },
     "metadata": {
      "needs_background": "light"
     },
     "output_type": "display_data"
    }
   ],
   "source": [
    "import matplotlib.pyplot as plt\n",
    "%matplotlib inline\n",
    "\n",
    "df.isna().sum().plot.bar(figsize=(16,6), color='blue')\n",
    "plt.title('Count of Missing Values per Column (n = 758)')\n",
    "plt.ylabel('Counts')\n",
    "plt.show()"
   ]
  },
  {
   "cell_type": "markdown",
   "metadata": {},
   "source": [
    "The missing data corresponds to velocity, percentage, and movement of pitches that a particular pitcher does not throw so we will fill with 0."
   ]
  },
  {
   "cell_type": "code",
   "execution_count": 23,
   "metadata": {},
   "outputs": [],
   "source": [
    "df = df.fillna(0)"
   ]
  },
  {
   "cell_type": "markdown",
   "metadata": {},
   "source": [
    "When performing analysis on text data it is always a good idea to check for duplicate entries for fields that should be unique identifiers (playerid) and dropping rows that do not have any text."
   ]
  },
  {
   "cell_type": "code",
   "execution_count": 24,
   "metadata": {},
   "outputs": [
    {
     "name": "stdout",
     "output_type": "stream",
     "text": [
      "Any Duplicate PlayerIDs? False\n"
     ]
    }
   ],
   "source": [
    "# Check for duplicates in playerid\n",
    "print('Any Duplicate PlayerIDs? {}'.format(any(df['playerid'].duplicated())))"
   ]
  },
  {
   "cell_type": "markdown",
   "metadata": {},
   "source": [
    "### Let's transition to looking at pitch style description and some basic metrics"
   ]
  },
  {
   "cell_type": "code",
   "execution_count": 25,
   "metadata": {},
   "outputs": [
    {
     "name": "stdout",
     "output_type": "stream",
     "text": [
      "The average number of words in a pitch style description is: 209.33905013192611.\n",
      "The minimum number of words in a pitch style description is: 101.\n",
      "The maximum number of words in a pitch style description is: 353.\n"
     ]
    }
   ],
   "source": [
    "document_lengths = np.array(list(map(len, df.BB_PitchStyle.str.split(' '))))\n",
    "\n",
    "print(\"The average number of words in a pitch style description is: {}.\".format(np.mean(document_lengths)))\n",
    "print(\"The minimum number of words in a pitch style description is: {}.\".format(min(document_lengths)))\n",
    "print(\"The maximum number of words in a pitch style description is: {}.\".format(max(document_lengths)))"
   ]
  },
  {
   "cell_type": "markdown",
   "metadata": {},
   "source": [
    "Let's take a look at the distribution of pitch style descriptions by whether or not a pitcher got Tommy John Surgery."
   ]
  },
  {
   "cell_type": "code",
   "execution_count": 26,
   "metadata": {},
   "outputs": [
    {
     "data": {
      "image/png": "[encoded data removed]",
      "text/plain": [
       "<Figure size 720x432 with 1 Axes>"
      ]
     },
     "metadata": {
      "needs_background": "light"
     },
     "output_type": "display_data"
    }
   ],
   "source": [
    "import seaborn as sns\n",
    "import matplotlib.pyplot as plt\n",
    "import warnings\n",
    "warnings.filterwarnings(\"ignore\")\n",
    "\n",
    "fig, ax = plt.subplots(figsize=(10,6))\n",
    "\n",
    "sns.distplot(document_lengths[df.tjSurgery == 'Yes'], ax=ax, label='Injured')\n",
    "sns.distplot(document_lengths[df.tjSurgery == 'No'], ax=ax, label='Not Injured')\n",
    "\n",
    "ax.set_title(\"Distribution of Number of Words\", fontsize=16)\n",
    "ax.set_xlabel(\"Number of Words\")\n",
    "plt.legend()\n",
    "plt.show()"
   ]
  },
  {
   "cell_type": "markdown",
   "metadata": {},
   "source": [
    "### Pre-Process Text and Build Vector Representation"
   ]
  },
  {
   "cell_type": "markdown",
   "metadata": {},
   "source": [
    "Convert raw text to document-term matrix."
   ]
  },
  {
   "cell_type": "code",
   "execution_count": 27,
   "metadata": {},
   "outputs": [],
   "source": [
    "# Function to preprocess raw test from job description\n",
    "def lemmatize(text):\n",
    "    text = text.split()    \n",
    "    lemmatizer = WordNetLemmatizer()\n",
    "    lem_words = [lemmatizer.lemmatize(word) for word in text]\n",
    "    text = \" \".join(lem_words)\n",
    "    return text\n",
    "\n",
    "# Remove extra white space\n",
    "df['BB_PitchStyle_Clean'] = df['BB_PitchStyle'].apply(lambda x: ' '.join(x.split()))\n",
    "\n",
    "# Remove punctuation and numbers\n",
    "df['BB_PitchStyle_Clean'] = df['BB_PitchStyle_Clean'].str.replace('[^\\w\\s]', ' ').str.replace('\\d+', '')\n",
    "\n",
    "# Convert to lower case\n",
    "df['BB_PitchStyle_Clean'] = df['BB_PitchStyle_Clean'].str.lower()\n",
    "\n",
    "# Lemmatize\n",
    "df['BB_PitchStyle_Clean'] = df['BB_PitchStyle_Clean'].map(lambda x: lemmatize(x))"
   ]
  },
  {
   "cell_type": "markdown",
   "metadata": {},
   "source": [
    "Let's look at the pitch style description before and after cleaning."
   ]
  },
  {
   "cell_type": "code",
   "execution_count": 28,
   "metadata": {},
   "outputs": [
    {
     "name": "stdout",
     "output_type": "stream",
     "text": [
      "Original Text: \n",
      "[\"Clayton Kershaw has thrown 34,601 pitches that have been tracked by the PITCHf/x system between 2007 and 2019, including pitches thrown in the MLB Regular Season, the MLB Postseason and Spring Training. In 2019, he has relied primarily on his Slider (87mph) and Fourseam Fastball (90mph), also mixing in a Curve (74mph).BETA Feature:Basic description of 2019 pitches compared to other LHP:His slider  is thrown extremely hard, has much less depth than expected and results in many more groundballs compared to other pitchers' sliders. His fourseam fastball generates an extremely high number of swings & misses compared to other pitchers' fourseamers, is straight as an arrow, has essentially average velo and has some added backspin. His curve  has an exceptional bite, generates a high number of swings & misses compared to other pitchers' curves, is an extreme flyball pitch compared to other pitchers' curves, has primarily 12-6 movement and has slightly below average velo. \\r\\n\\r\\n\\r\\n\\r\\n\\r\\n      \\r\\n\"]\n",
      "\n",
      "After Cleaning: \n",
      "['clayton kershaw ha thrown pitch that have been tracked by the pitchf x system between and including pitch thrown in the mlb regular season the mlb postseason and spring training in he ha relied primarily on his slider mph and fourseam fastball mph also mixing in a curve mph beta feature basic description of pitch compared to other lhp his slider is thrown extremely hard ha much le depth than expected and result in many more groundball compared to other pitcher slider his fourseam fastball generates an extremely high number of swing miss compared to other pitcher fourseamers is straight a an arrow ha essentially average velo and ha some added backspin his curve ha an exceptional bite generates a high number of swing miss compared to other pitcher curve is an extreme flyball pitch compared to other pitcher curve ha primarily movement and ha slightly below average velo']\n"
     ]
    }
   ],
   "source": [
    "player = 'Clayton Kershaw'\n",
    "print('Original Text: \\n{}\\n'.format(list(df[df.Name_x == player][\"BB_PitchStyle\"])))\n",
    "print('After Cleaning: \\n{}'.format(list(df[df.Name_x == player][\"BB_PitchStyle_Clean\"])))"
   ]
  },
  {
   "cell_type": "markdown",
   "metadata": {},
   "source": [
    "### Let's build a Document Term Matrix for use in building our LDA topic model"
   ]
  },
  {
   "cell_type": "code",
   "execution_count": 29,
   "metadata": {},
   "outputs": [
    {
     "name": "stdout",
     "output_type": "stream",
     "text": [
      "Document Term Matrix Shape: (758, 1099)\n"
     ]
    }
   ],
   "source": [
    "from sklearn.feature_extraction.text import CountVectorizer\n",
    "\n",
    "stop_words.extend(['mph','beta','feature'])\n",
    "tf_vectorizer = CountVectorizer(ngram_range = (1,2),\n",
    "                                stop_words = stop_words,\n",
    "                                max_df = 0.8, \n",
    "                                min_df = 2)\n",
    "\n",
    "dtm_tf = tf_vectorizer.fit_transform(df.BB_PitchStyle_Clean)\n",
    "dtm_feature_names = tf_vectorizer.get_feature_names()\n",
    "\n",
    "print('Document Term Matrix Shape: {}'.format(dtm_tf.shape))"
   ]
  },
  {
   "cell_type": "markdown",
   "metadata": {},
   "source": [
    "Look at top 50 most frequent words in the pitch style descriptions."
   ]
  },
  {
   "cell_type": "code",
   "execution_count": 30,
   "metadata": {},
   "outputs": [
    {
     "data": {
      "image/png": "[encoded data removed]",
      "text/plain": [
       "<Figure size 1152x432 with 1 Axes>"
      ]
     },
     "metadata": {
      "needs_background": "light"
     },
     "output_type": "display_data"
    }
   ],
   "source": [
    "plt.figure(figsize=(16,6))\n",
    "term_df = pd.DataFrame(dtm_tf.toarray(), columns=dtm_feature_names)\n",
    "term_df.sum(axis=0).sort_values(ascending=False)[0:50].plot.bar(color='blue')\n",
    "plt.title(\"Top 50 Most Frequent Words in Pitch Style Descriptions\")\n",
    "plt.ylabel(\"Frequency\")\n",
    "plt.show()"
   ]
  },
  {
   "cell_type": "markdown",
   "metadata": {},
   "source": [
    "### Build the Topic Model\n",
    "\n",
    "We have everything required to train the LDA model. In addition to the document term matrix, you need to provide:\n",
    "- the number of topics"
   ]
  },
  {
   "cell_type": "code",
   "execution_count": 31,
   "metadata": {},
   "outputs": [
    {
     "data": {
      "text/plain": [
       "LatentDirichletAllocation(batch_size=128, doc_topic_prior=None,\n",
       "             evaluate_every=-1, learning_decay=0.7,\n",
       "             learning_method='batch', learning_offset=10.0,\n",
       "             max_doc_update_iter=100, max_iter=10, mean_change_tol=0.001,\n",
       "             n_components=10, n_jobs=None, n_topics=None, perp_tol=0.1,\n",
       "             random_state=10, topic_word_prior=None,\n",
       "             total_samples=1000000.0, verbose=0)"
      ]
     },
     "execution_count": 31,
     "metadata": {},
     "output_type": "execute_result"
    }
   ],
   "source": [
    "from sklearn.decomposition import LatentDirichletAllocation\n",
    "\n",
    "n_topics = 10\n",
    "lda_tf = LatentDirichletAllocation(n_components=n_topics, random_state=10)\n",
    "lda_tf.fit(dtm_tf)"
   ]
  },
  {
   "cell_type": "markdown",
   "metadata": {},
   "source": [
    "### View the topics with pyLDAvis\n",
    "\n",
    "The above LDA model is built with 10 topics where each topic is a combination of keywords and each keyword contributes a certain weight to the topic. You can see the keywords for each topic and the importance of each keyword using lda_model.print_topics() as shown next.\n",
    "\n",
    "![](images/Inferring-Topic-from-Keywords.png)"
   ]
  },
  {
   "cell_type": "code",
   "execution_count": 32,
   "metadata": {},
   "outputs": [
    {
     "data": {
      "text/html": [
       "\n",
       "<link rel=\"stylesheet\" type=\"text/css\" href=\"https://cdn.rawgit.com/bmabey/pyLDAvis/files/ldavis.v1.0.0.css\">\n",
       "\n",
       "\n",
       "<div id=\"ldavis_el172823502014700724612618830\"></div>\n",
       "<script type=\"text/javascript\">\n",
       "\n",
       "var ldavis_el172823502014700724612618830_data = {\"mdsDat\": {\"x\": [-0.02373387122264296, 0.08690901171683041, -0.06088272699971425, 0.015035684443367421, 0.15288888324958597, 0.0918777724841585, 0.016377959720180853, 0.17373146250488553, -0.1282355366781314, -0.3239686392185205], \"y\": [-0.05532658223209467, 0.06924629870911723, -0.09430288165338901, -0.02004539141611868, 0.056283015359110455, 0.05036979909588725, -0.11387169927568223, 0.11214844064294541, -0.23031915708413145, 0.22581815785435586], \"topics\": [1, 2, 3, 4, 5, 6, 7, 8, 9, 10], \"cluster\": [1, 1, 1, 1, 1, 1, 1, 1, 1, 1], \"Freq\": [18.65334545180567, 17.58481059540567, 10.986512464423207, 10.47794269374142, 10.288857189278197, 9.573328436219652, 9.328398284350419, 8.40891073474039, 2.537926335963225, 2.1599678140721355]}, \"tinfo\": {\"Category\": [\"Default\", \"Default\", \"Default\", \"Default\", \"Default\", \"Default\", \"Default\", \"Default\", \"Default\", \"Default\", \"Default\", \"Default\", \"Default\", \"Default\", \"Default\", \"Default\", \"Default\", \"Default\", \"Default\", \"Default\", \"Default\", \"Default\", \"Default\", \"Default\", \"Default\", \"Default\", \"Default\", \"Default\", \"Default\", \"Default\", \"Topic1\", \"Topic1\", \"Topic1\", \"Topic1\", \"Topic1\", \"Topic1\", \"Topic1\", \"Topic1\", \"Topic1\", \"Topic1\", \"Topic1\", \"Topic1\", \"Topic1\", \"Topic1\", \"Topic1\", \"Topic1\", \"Topic1\", \"Topic1\", \"Topic1\", \"Topic1\", \"Topic1\", \"Topic1\", \"Topic1\", \"Topic1\", \"Topic1\", \"Topic1\", \"Topic1\", \"Topic1\", \"Topic1\", \"Topic1\", \"Topic1\", \"Topic1\", \"Topic1\", \"Topic1\", \"Topic1\", \"Topic1\", \"Topic1\", \"Topic1\", \"Topic1\", \"Topic1\", \"Topic1\", \"Topic1\", \"Topic1\", \"Topic1\", \"Topic1\", \"Topic1\", \"Topic1\", \"Topic1\", \"Topic1\", \"Topic1\", \"Topic1\", \"Topic1\", \"Topic1\", \"Topic1\", \"Topic1\", \"Topic1\", \"Topic1\", \"Topic1\", \"Topic1\", \"Topic1\", \"Topic1\", \"Topic1\", \"Topic1\", \"Topic1\", \"Topic1\", \"Topic1\", \"Topic1\", \"Topic1\", \"Topic1\", \"Topic1\", \"Topic1\", \"Topic1\", \"Topic1\", \"Topic1\", \"Topic1\", \"Topic1\", \"Topic1\", \"Topic1\", \"Topic1\", \"Topic1\", \"Topic1\", \"Topic1\", \"Topic1\", \"Topic1\", \"Topic1\", \"Topic1\", \"Topic1\", \"Topic2\", \"Topic2\", \"Topic2\", \"Topic2\", \"Topic2\", \"Topic2\", \"Topic2\", \"Topic2\", \"Topic2\", \"Topic2\", \"Topic2\", \"Topic2\", \"Topic2\", \"Topic2\", \"Topic2\", \"Topic2\", \"Topic2\", \"Topic2\", \"Topic2\", \"Topic2\", \"Topic2\", \"Topic2\", \"Topic2\", \"Topic2\", \"Topic2\", \"Topic2\", \"Topic2\", \"Topic2\", \"Topic2\", \"Topic2\", \"Topic2\", \"Topic2\", \"Topic2\", \"Topic2\", \"Topic2\", \"Topic2\", \"Topic2\", \"Topic2\", \"Topic2\", \"Topic2\", \"Topic2\", \"Topic2\", \"Topic2\", \"Topic2\", \"Topic2\", \"Topic2\", \"Topic2\", \"Topic2\", \"Topic2\", \"Topic2\", \"Topic2\", \"Topic2\", \"Topic2\", \"Topic2\", \"Topic2\", \"Topic2\", \"Topic2\", \"Topic2\", \"Topic2\", \"Topic2\", \"Topic2\", \"Topic2\", \"Topic2\", \"Topic2\", \"Topic2\", \"Topic2\", \"Topic2\", \"Topic2\", \"Topic2\", \"Topic2\", \"Topic2\", \"Topic2\", \"Topic2\", \"Topic2\", \"Topic3\", \"Topic3\", \"Topic3\", \"Topic3\", \"Topic3\", \"Topic3\", \"Topic3\", \"Topic3\", \"Topic3\", \"Topic3\", \"Topic3\", \"Topic3\", \"Topic3\", \"Topic3\", \"Topic3\", \"Topic3\", \"Topic3\", \"Topic3\", \"Topic3\", \"Topic3\", \"Topic3\", \"Topic3\", \"Topic3\", \"Topic3\", \"Topic3\", \"Topic3\", \"Topic3\", \"Topic3\", \"Topic3\", \"Topic3\", \"Topic3\", \"Topic3\", \"Topic3\", \"Topic3\", \"Topic3\", \"Topic3\", \"Topic3\", \"Topic3\", \"Topic3\", \"Topic3\", \"Topic3\", \"Topic3\", \"Topic3\", \"Topic3\", \"Topic3\", \"Topic3\", \"Topic3\", \"Topic3\", \"Topic3\", \"Topic3\", \"Topic3\", \"Topic3\", \"Topic3\", \"Topic3\", \"Topic3\", \"Topic3\", \"Topic3\", \"Topic3\", \"Topic3\", \"Topic3\", \"Topic3\", \"Topic3\", \"Topic3\", \"Topic3\", \"Topic3\", \"Topic3\", \"Topic3\", \"Topic3\", \"Topic3\", \"Topic3\", \"Topic4\", \"Topic4\", \"Topic4\", \"Topic4\", \"Topic4\", \"Topic4\", \"Topic4\", \"Topic4\", \"Topic4\", \"Topic4\", \"Topic4\", \"Topic4\", \"Topic4\", \"Topic4\", \"Topic4\", \"Topic4\", \"Topic4\", \"Topic4\", \"Topic4\", \"Topic4\", \"Topic4\", \"Topic4\", \"Topic4\", \"Topic4\", \"Topic4\", \"Topic4\", \"Topic4\", \"Topic4\", \"Topic4\", \"Topic4\", \"Topic4\", \"Topic4\", \"Topic4\", \"Topic4\", \"Topic4\", \"Topic4\", \"Topic4\", \"Topic4\", \"Topic4\", \"Topic4\", \"Topic4\", \"Topic4\", \"Topic4\", \"Topic4\", \"Topic4\", \"Topic4\", \"Topic4\", \"Topic4\", \"Topic4\", \"Topic4\", \"Topic4\", \"Topic4\", \"Topic4\", \"Topic4\", \"Topic4\", \"Topic4\", \"Topic4\", \"Topic4\", \"Topic4\", \"Topic4\", \"Topic4\", \"Topic4\", \"Topic4\", \"Topic4\", \"Topic4\", \"Topic4\", \"Topic4\", \"Topic4\", \"Topic4\", \"Topic4\", \"Topic4\", \"Topic5\", \"Topic5\", \"Topic5\", \"Topic5\", \"Topic5\", \"Topic5\", \"Topic5\", \"Topic5\", \"Topic5\", \"Topic5\", \"Topic5\", \"Topic5\", \"Topic5\", \"Topic5\", \"Topic5\", \"Topic5\", \"Topic5\", \"Topic5\", \"Topic5\", \"Topic5\", \"Topic5\", \"Topic5\", \"Topic5\", \"Topic5\", \"Topic5\", \"Topic5\", \"Topic5\", \"Topic5\", \"Topic5\", \"Topic5\", \"Topic5\", \"Topic5\", \"Topic5\", \"Topic5\", \"Topic5\", \"Topic5\", \"Topic5\", \"Topic5\", \"Topic5\", \"Topic5\", \"Topic5\", \"Topic5\", \"Topic5\", \"Topic5\", \"Topic5\", \"Topic5\", \"Topic5\", \"Topic5\", \"Topic5\", \"Topic5\", \"Topic5\", \"Topic5\", \"Topic5\", \"Topic5\", \"Topic5\", \"Topic5\", \"Topic5\", \"Topic5\", \"Topic5\", \"Topic5\", \"Topic5\", \"Topic5\", \"Topic6\", \"Topic6\", \"Topic6\", \"Topic6\", \"Topic6\", \"Topic6\", \"Topic6\", \"Topic6\", \"Topic6\", \"Topic6\", \"Topic6\", \"Topic6\", \"Topic6\", \"Topic6\", \"Topic6\", \"Topic6\", \"Topic6\", \"Topic6\", \"Topic6\", \"Topic6\", \"Topic6\", \"Topic6\", \"Topic6\", \"Topic6\", \"Topic6\", \"Topic6\", \"Topic6\", \"Topic6\", \"Topic6\", \"Topic6\", \"Topic6\", \"Topic6\", \"Topic6\", \"Topic6\", \"Topic6\", \"Topic6\", \"Topic6\", \"Topic6\", \"Topic6\", \"Topic6\", \"Topic6\", \"Topic6\", \"Topic6\", \"Topic6\", \"Topic6\", \"Topic6\", \"Topic6\", \"Topic6\", \"Topic6\", \"Topic6\", \"Topic6\", \"Topic6\", \"Topic6\", \"Topic6\", \"Topic6\", \"Topic6\", \"Topic7\", \"Topic7\", \"Topic7\", \"Topic7\", \"Topic7\", \"Topic7\", \"Topic7\", \"Topic7\", \"Topic7\", \"Topic7\", \"Topic7\", \"Topic7\", \"Topic7\", \"Topic7\", \"Topic7\", \"Topic7\", \"Topic7\", \"Topic7\", \"Topic7\", \"Topic7\", \"Topic7\", \"Topic7\", \"Topic7\", \"Topic7\", \"Topic7\", \"Topic7\", \"Topic7\", \"Topic7\", \"Topic7\", \"Topic7\", \"Topic7\", \"Topic7\", \"Topic7\", \"Topic7\", \"Topic7\", \"Topic7\", \"Topic7\", \"Topic7\", \"Topic7\", \"Topic7\", \"Topic7\", \"Topic7\", \"Topic7\", \"Topic7\", \"Topic7\", \"Topic7\", \"Topic7\", \"Topic7\", \"Topic7\", \"Topic7\", \"Topic7\", \"Topic7\", \"Topic7\", \"Topic7\", \"Topic7\", \"Topic7\", \"Topic7\", \"Topic7\", \"Topic7\", \"Topic7\", \"Topic7\", \"Topic7\", \"Topic7\", \"Topic7\", \"Topic7\", \"Topic7\", \"Topic7\", \"Topic7\", \"Topic8\", \"Topic8\", \"Topic8\", \"Topic8\", \"Topic8\", \"Topic8\", \"Topic8\", \"Topic8\", \"Topic8\", \"Topic8\", \"Topic8\", \"Topic8\", \"Topic8\", \"Topic8\", \"Topic8\", \"Topic8\", \"Topic8\", \"Topic8\", \"Topic8\", \"Topic8\", \"Topic8\", \"Topic8\", \"Topic8\", \"Topic8\", \"Topic8\", \"Topic8\", \"Topic8\", \"Topic8\", \"Topic8\", \"Topic8\", \"Topic8\", \"Topic8\", \"Topic8\", \"Topic8\", \"Topic8\", \"Topic8\", \"Topic8\", \"Topic8\", \"Topic8\", \"Topic8\", \"Topic8\", \"Topic8\", \"Topic8\", \"Topic8\", \"Topic8\", \"Topic8\", \"Topic8\", \"Topic8\", \"Topic8\", \"Topic8\", \"Topic8\", \"Topic8\", \"Topic8\", \"Topic8\", \"Topic8\", \"Topic8\", \"Topic8\", \"Topic8\", \"Topic8\", \"Topic8\", \"Topic8\", \"Topic8\", \"Topic9\", \"Topic9\", \"Topic9\", \"Topic9\", \"Topic9\", \"Topic9\", \"Topic9\", \"Topic9\", \"Topic9\", \"Topic9\", \"Topic9\", \"Topic9\", \"Topic9\", \"Topic9\", \"Topic9\", \"Topic9\", \"Topic9\", \"Topic9\", \"Topic9\", \"Topic9\", \"Topic9\", \"Topic9\", \"Topic9\", \"Topic9\", \"Topic9\", \"Topic9\", \"Topic9\", \"Topic9\", \"Topic9\", \"Topic9\", \"Topic9\", \"Topic9\", \"Topic9\", \"Topic9\", \"Topic9\", \"Topic9\", \"Topic9\", \"Topic9\", \"Topic9\", \"Topic9\", \"Topic9\", \"Topic9\", \"Topic9\", \"Topic9\", \"Topic9\", \"Topic9\", \"Topic9\", \"Topic9\", \"Topic9\", \"Topic9\", \"Topic9\", \"Topic9\", \"Topic9\", \"Topic9\", \"Topic9\", \"Topic9\", \"Topic10\", \"Topic10\", \"Topic10\", \"Topic10\", \"Topic10\", \"Topic10\", \"Topic10\", \"Topic10\", \"Topic10\", \"Topic10\", \"Topic10\", \"Topic10\", \"Topic10\", \"Topic10\", \"Topic10\", \"Topic10\", \"Topic10\", \"Topic10\", \"Topic10\", \"Topic10\", \"Topic10\", \"Topic10\", \"Topic10\", \"Topic10\", \"Topic10\", \"Topic10\", \"Topic10\", \"Topic10\", \"Topic10\", \"Topic10\", \"Topic10\", \"Topic10\", \"Topic10\", \"Topic10\", \"Topic10\", \"Topic10\", \"Topic10\", \"Topic10\", \"Topic10\", \"Topic10\", \"Topic10\", \"Topic10\", \"Topic10\", \"Topic10\"], \"Freq\": [1718.0, 836.0, 321.0, 810.0, 810.0, 810.0, 810.0, 810.0, 810.0, 845.0, 1869.0, 636.0, 636.0, 636.0, 636.0, 636.0, 646.0, 711.0, 456.0, 456.0, 354.0, 151.0, 151.0, 136.0, 661.0, 964.0, 209.0, 209.0, 209.0, 209.0, 12.110776570172561, 11.111579747375835, 22.024476069852838, 22.02447606584653, 22.024475927995496, 22.024475701982862, 22.02447567710141, 22.024475537078608, 6.106360272507727, 5.105266280135252, 5.10521556390712, 4.104240385332809, 4.104121731072508, 4.1040558592297245, 4.104046527558604, 4.103877690617018, 9.343331312527203, 3.103190628022763, 3.103159709594417, 3.103139623361096, 3.1031382861281576, 3.1031149147237738, 3.103111354840054, 3.1030938937809482, 3.1030938937753, 3.1030880735815645, 3.102763730520242, 3.1026866237287383, 2.9905104605254555, 2.990510450775999, 29.885998040718633, 92.19011522513479, 92.1812189941217, 92.17909845087684, 30.460862324425, 93.18123817291884, 93.1595865770347, 26.461815721306454, 72.59896055304577, 30.87681879078832, 72.4206583471594, 71.9905031402013, 77.91236538634948, 77.714485276346, 171.9964639626763, 25.657871578451697, 22.19210488319076, 192.60261064486872, 166.34680115085874, 94.20012678712791, 59.1055232922576, 160.911323106239, 160.79242648450452, 177.2157359073599, 77.89644026952234, 114.976417283401, 114.96148406777232, 226.74708022851394, 584.1351605134346, 114.94781045347194, 512.9671960303916, 189.1974681893085, 189.15406851335948, 189.13119316811293, 252.7221545388922, 252.6789268824974, 231.69137211286846, 202.68729724977382, 463.09334013127705, 190.07944537525492, 278.6028843442637, 313.8048887395617, 160.20556901964267, 160.16581385801013, 252.0646854464077, 160.15296269722674, 160.09787864231498, 188.5298336338618, 186.40309364424368, 189.94034624478044, 173.36046389207354, 145.98486787646846, 162.2479023056499, 162.12911870892597, 162.89782760121943, 162.6808830172457, 160.93539376700554, 8.032069481534029, 8.879561163225295, 7.040391709824908, 7.029292057447799, 6.0490314606485756, 6.048885789886273, 6.048885776361997, 5.056803243191131, 5.038197423791026, 7.524931233128129, 4.954184891281409, 4.065686386428621, 4.0656839044956135, 4.06567138188889, 4.06566220373956, 4.064915733228921, 4.06448699921449, 4.061216326843194, 7.040688684472513, 11.70284661982188, 18.60124110022974, 3.074038168089627, 3.074023829135272, 3.0739734196534627, 3.0739204599442607, 3.073846403314115, 3.0733613522688907, 3.0720153097680574, 14.553285663474004, 4.484205439428162, 246.73929907359448, 94.55129334062794, 29.709091111773898, 8.922592486287305, 21.393605144450216, 8.101854748531904, 14.307648144688569, 8.788392882987123, 426.04854466107184, 426.04662319043973, 426.03151239838405, 425.8837232328785, 425.8679176613372, 425.8479862335596, 425.8171974298857, 425.68031847340865, 443.5200874631023, 443.4806474236623, 443.4193322632217, 443.4069245422314, 443.3624849748447, 443.3264333676016, 49.82717097215567, 320.4836083090805, 320.44051920418667, 320.4011164585614, 64.42888574419051, 108.77477981287707, 64.90657249033906, 45.28614812104081, 344.04741465423473, 53.25732280244926, 440.99217574353196, 204.0454348617463, 193.04267559424346, 192.85432780936995, 134.7603402905382, 133.6396641448984, 157.13390255700816, 209.65399495998986, 141.73410407332238, 137.56260326352682, 137.55078829285753, 136.82506882262305, 43.11623602385506, 43.116236023855066, 43.8972014322529, 30.406143435878203, 29.428473548889336, 26.495439215375225, 30.20228473452391, 21.606918473228692, 18.673870597452442, 18.67128550019499, 15.740793245682898, 15.740362199617646, 29.562577306472168, 14.763100201414472, 14.763078199470367, 27.471383961015636, 36.640437387867124, 29.948027708770027, 134.00302378458136, 133.99385669538975, 133.99184003807918, 133.98752874665936, 9.87465846889786, 9.87462902977224, 9.874629029357104, 9.874629028684511, 9.874629027256004, 9.874629024884614, 9.87462902355839, 9.874602963691826, 40.69932270448077, 52.36257929330265, 617.9935025388336, 147.8252310942599, 105.10361676790306, 105.09746905204048, 29.20005667934955, 29.199238536492732, 260.464029683101, 56.665375324488686, 173.29858837612085, 29.19886958182539, 59.287707937699565, 59.285273148691346, 53.784004390604366, 52.38715746446155, 52.38584293127581, 52.38496772555831, 55.75461960235724, 117.2620595482491, 238.44989696822475, 49.56241343164283, 307.2170807372768, 124.56998070517984, 121.58998191272717, 119.53243102573614, 119.49929771441282, 155.1239575574241, 98.39641453260688, 97.91144298530517, 82.02402567833502, 102.67672812398497, 93.4557256683233, 84.14232200146445, 84.0538341094509, 84.04774708424965, 97.47911988135743, 81.28825828900143, 73.60721222101508, 73.57596889999581, 53.845121461868416, 149.17842033762014, 149.17074921950737, 94.9045451271005, 94.89763572217628, 20.38199581620526, 20.38198143189511, 15.311783111285486, 30.249039557054925, 12.269739258198953, 11.255706533251228, 10.226689484835518, 23.95249105841276, 6.121077976784638, 7.822601582137464, 9.333353346871997, 9.341405381928771, 4.157487378168904, 6.546627438601534, 3.143452394593033, 3.1433934696030934, 3.143364152446605, 69.57638944546125, 69.55187276721624, 40.41454935309999, 9.283927772958277, 2.129423718191027, 2.1294211487020593, 2.1294211487020593, 2.129298291566805, 103.42069873341627, 76.76414983278538, 76.69870849622063, 76.60408355134422, 76.46117093855146, 26.318964097323533, 123.08387615796481, 122.87226640559173, 77.82717511908342, 48.77484305809616, 48.77321027621654, 48.75963148176048, 48.75835909014564, 143.0451236228795, 264.9032811401925, 164.15011149233624, 163.88240632820242, 347.66065306758486, 135.14499438202438, 164.5639672282581, 164.2435985110013, 114.96591405375607, 82.73019432238051, 82.720684245126, 82.64789766756181, 145.1092529490463, 145.09984695940767, 154.06364250187508, 132.83827438954987, 120.16777860924017, 113.09022641232426, 103.32915499716499, 103.29684942248961, 101.76347582024317, 101.64763003793408, 101.94185607132741, 85.10543821314573, 90.2192209675327, 94.43708478939003, 93.32711814818565, 93.14024490747079, 3.071787506732076, 2.0812689227764984, 2.0812689227764984, 2.081245676624747, 2.081205972166765, 2.0812037567474713, 2.0812004365298495, 2.0812004365290795, 2.0809410787115707, 2.079873214312333, 4.813515244139353, 6.679149206369395, 2.003286326377856, 9.816301354954522, 3.0598984611062408, 116.13702873881282, 79.57043256868587, 2.068455946231861, 3.042197078414379, 50.06892979802255, 10.376327791184673, 4.397738411096664, 13.911094648587111, 1.576959818054522, 3.4077202168630207, 13.733789042541384, 1.9101957437402568, 1.4946090538239614, 170.95670482588764, 170.94806055881688, 287.32308131802625, 287.28947557639356, 287.26403882774696, 287.26299861918744, 287.2395246100249, 287.2243327452203, 77.93315400209592, 207.4687405239353, 207.42312353560825, 207.41990279554165, 207.41822883464752, 207.39444220141777, 205.04303864143085, 196.65527376049562, 201.00894638808418, 165.48598866770124, 165.45857511971306, 165.44395277003582, 148.00184451026658, 84.39383469943031, 291.2613400194818, 172.5379029526716, 122.66509215023731, 226.85138530508036, 114.28518263268337, 123.24052316220892, 123.15492709432972, 118.3343050206845, 118.27335882785165, 118.26153259043829, 119.26957443608951, 119.17693298271088, 39.50222450887864, 28.846306013044735, 18.859693684804647, 16.983125079437606, 198.54273801552083, 198.54109701156347, 198.53939237094573, 198.53271929292833, 198.53231091525967, 198.52708735424807, 198.5274535577118, 198.5232259430573, 10.415030480084914, 26.60494427819525, 26.604555303295058, 26.55491098637865, 26.55276919587545, 26.552405173200395, 20.501821423297258, 32.41127015436808, 194.5771175999032, 21.696512788035385, 4.784083096638329, 4.739295751246124, 3.8469608127864485, 40.02932784485245, 2.908659499656432, 2.90861498099749, 2.908538356085369, 2.907900382643218, 14.000550253454271, 112.76538811394724, 112.7377344147947, 112.73328705990406, 26.5672695993282, 213.57391466834156, 213.545725516894, 264.8896239027899, 154.3887092312073, 52.550462484509296, 178.48968991405863, 242.89723796222384, 52.544552905897014, 52.54232003834903, 210.28828966488558, 93.50630054335029, 100.15445809595485, 100.05119161450058, 88.66653708095781, 87.2539914728296, 92.15224569892803, 81.60862352385527, 96.04999635326169, 68.86198585454555, 68.79032390858849, 68.7856237812429, 9.124633045299436, 4.108791764914513, 4.108785725674715, 21.43690063317328, 107.90531042055063, 107.89155652614983, 107.84984061001582, 107.82574942604481, 3.108347437210884, 3.1083140073722415, 107.38101265991496, 24.043959526418085, 2.105613159531593, 2.105596566223923, 2.1055921052124926, 2.1055650518310225, 2.1055650518310225, 2.105552384619597, 2.1055523846195623, 2.105429149297743, 2.105048019714776, 118.37307592707644, 37.22159724718081, 25.377564316323117, 3.107269216970907, 7.880034031952198, 8.391538897871389, 11.302667181758396, 5.74183747787122, 25.673282746037508, 75.10069640905796, 29.347175369563022, 29.34409269256343, 47.858772825905405, 36.34416817702407, 10.756945007275597, 20.221186479097504, 87.09324843430505, 93.01000464220643, 417.25414528289195, 62.30305361441661, 213.50921049697192, 132.11402045000528, 164.64040065529392, 76.61744521678953, 76.58588985879811, 76.55301032763056, 156.50764310925857, 127.5745247592947, 90.33144772078478, 90.31359387612791, 91.70271136580217, 156.3544157378171, 51.75025170096892, 89.19296365372723, 107.59626945997412, 65.68160643656266, 51.72294552445707, 93.0776365362124, 92.95891400030091, 116.34616146132606, 93.40162078027815, 93.4013683670689, 99.55490987049292, 87.21595317194674, 84.82605858915161, 84.7171390399392, 80.57595400210553, 3.146552415983716, 3.146552415983716, 6.191550405973705, 16.58940762749869, 2.1314728070993585, 2.1314730616394435, 2.130330638540633, 6.803089103719775, 4.05457916524358, 60.84720777598437, 13.870394643656264, 6.521952101306811, 3.538061445098788, 12.26714112681527, 27.10839172180194, 85.81589541854906, 85.81629547552686, 85.81459353218769, 85.80886127783667, 68.0283420949166, 86.17064125887372, 5.864366442380822, 5.473016617276521, 4.779435509647111, 4.783965803786101, 1.9204326078047929, 216.19027690480797, 216.17076513301325, 41.227558839917, 41.2265227798927, 41.225159764869815, 276.06239023491923, 276.05323324981185, 276.04934002481883, 276.01768107536, 275.95994566875424, 261.71397344122965, 225.99859642375685, 248.35660597676386, 46.645028210296886, 19.328156554643922, 42.54690718921937, 42.54215236465674, 303.37711474300016, 145.49293683511667, 54.66469617158524, 36.018288841503804, 41.79141951297595, 119.70761693019752, 119.627941874923, 119.49238611397179, 182.11728094219427, 121.06486180813488, 120.89004370780397, 70.02850487034046, 69.92866017592478, 68.42504380355074, 101.83671722240607, 77.43567215465285, 77.41801338788244, 83.07672737644481, 75.28844929728668, 70.02846344908505, 70.02846344794638, 70.02846344788213, 70.02846344724126, 70.02846344633687, 60.51123509383758, 148.89155899836578, 148.89052963385447, 32.16830537870484, 47.76005696233174, 47.758839572141206, 47.75380690486737, 51.266749993905904, 52.93920939161797, 12.380146872375255, 5.7647899402624265, 5.764785949027188, 2.9296245843411635, 2.9296245843411635, 2.9296245843411635, 2.9296245843411635, 2.9296245843411635, 2.9296245843411635, 2.9296245843411635, 2.9296245843411635, 2.9296245843411635, 5.521461130874081, 1.9845718346772385, 1.9845718346772385, 1.9845718346772385, 1.9845718346772385, 3.217147779154928, 3.2171469321304436, 3.2171347552170237, 3.725235325539827, 158.46607391265303, 24.671269248318737, 23.864458929785872, 23.854466308616324, 23.84090022431422, 23.82427448448488, 37.494808176119456, 22.705825941732325, 13.763374948056034, 11.5689435680405, 34.209979569089164, 34.19577830244778, 39.96486939322805, 30.41516967491221, 45.22070099540471, 25.850759302145537, 21.791887626359472, 23.380456320186667, 23.14693160539596, 23.40771319572454, 23.32861536008004, 95.59817456333207, 95.5981745354601, 95.5981744610672, 95.59817444959639, 95.59817441488497, 79.1988913273109, 76.30489610048288, 82.46647533736648, 28.067561863245306, 27.03423871610815, 306.58810658303537, 27.52157509377544, 27.521286910656983, 27.520428073711233, 129.19700640147042, 15.53097460707072, 10.703802143894192, 22.12798719665954, 12.192659352011177, 6.849083960834485, 22.16303395545088, 8.47508473968243, 26.33523035614653, 3.9549442956741276, 3.9548199220441806, 2.9902332022047324, 2.0257865915872317, 2.0257865915872317, 2.025754525673075, 2.0257155009809673, 3.8217124106830087, 3.606547214940395, 44.8563205082285, 44.78723409535188, 44.78640679570617, 23.846629464608874, 21.173108013088605, 26.757567824218153, 21.024197796140772, 20.99003527399053, 25.455986110145197, 25.053558151713943, 20.9876773605257, 20.972393869077084], \"Term\": [\"curve\", \"cutter\", \"splitter\", \"take\", \"grain salt\", \"salt\", \"take grain\", \"grain\", \"salt thrown\", \"number\", \"slider\", \"miss compared\", \"high number\", \"swing miss\", \"number swing\", \"miss\", \"extremely\", \"high\", \"extremely high\", \"generates extremely\", \"pitcher cutter\", \"using\", \"grip\", \"pitcher splitter\", \"pitcher curve\", \"extreme\", \"number groundball\", \"generates extreme\", \"killer generates\", \"worm killer\", \"expected generates\", \"slider prototypical\", \"prototypical pitch\", \"remarkable quality\", \"pitch remarkable\", \"prototypical\", \"remarkable\", \"quality\", \"quality sinker\", \"quality change\", \"action much\", \"change prototypical\", \"pitch mike\", \"splitter change\", \"fade slightly\", \"johnson\", \"grip slider\", \"quality curve\", \"johnson threw\", \"brett\", \"curve slow\", \"lopez\", \"wilson threw\", \"tom\", \"pitch tom\", \"german\", \"hernandez\", \"bite much\", \"wood\", \"wood threw\", \"fastball result\", \"action compared\", \"compared true\", \"little sinking\", \"change basically\", \"true sinker\", \"true\", \"season relied\", \"result many\", \"slider basically\", \"many groundball\", \"many\", \"le expected\", \"expected depth\", \"ha little\", \"threw curve\", \"curve slightly\", \"little\", \"ha le\", \"expected\", \"depth ha\", \"ha primarily\", \"primarily movement\", \"depth\", \"little depth\", \"fewer\", \"generates fewer\", \"le\", \"sinker\", \"fewer whiff\", \"curve\", \"whiff swing\", \"swing compared\", \"whiff\", \"result somewhat\", \"somewhat\", \"threw\", \"sinker ha\", \"slider\", \"somewhat flyballs\", \"slightly\", \"change\", \"threw pitch\", \"although ha\", \"movement\", \"although\", \"mlb pitch\", \"pitcher curve\", \"ha slightly\", \"armside\", \"pitcher sinker\", \"usual\", \"groundball compared\", \"groundball\", \"changeups\", \"pitcher changeups\", \"pitcher slider\", \"splitter sinker\", \"bite basically\", \"ha dive\", \"sean\", \"pitch scott\", \"primarily splitter\", \"rhp splitter\", \"splitter thrown\", \"pitch sean\", \"scott\", \"splitter slightly\", \"fourseamers explodes\", \"cut fourseam\", \"tony\", \"zone basically\", \"depth splitter\", \"jacob\", \"arrow extreme\", \"pitch brandon\", \"fastball extreme\", \"action basically\", \"pitch luis\", \"sink basically\", \"steve\", \"expected curve\", \"pitch kyle\", \"francisco\", \"erik\", \"thrown result\", \"tommy\", \"thrown basically\", \"slider take\", \"thrown extreme\", \"brandon\", \"splitter also\", \"cut much\", \"threw slider\", \"splitter fourseam\", \"basically\", \"never\", \"basically never\", \"never swung\", \"missed\", \"swung missed\", \"swung\", \"missed compared\", \"take\", \"grain salt\", \"salt\", \"grain\", \"take grain\", \"salt thrown\", \"thrown ha\", \"flyball\", \"extreme flyball\", \"flyball pitch\", \"fastball take\", \"change take\", \"sinker take\", \"slider extreme\", \"extreme\", \"fourseamers extreme\", \"slider\", \"pitcher slider\", \"pitcher fourseamers\", \"fourseamers\", \"le\", \"result flyballs\", \"movement\", \"sinker\", \"armside\", \"pitcher changeups\", \"changeups\", \"change\", \"good rise\", \"rise\", \"primarily cutter\", \"rhp cutter\", \"cutter fourseam\", \"rise ha\", \"fastball come\", \"cutter sinker\", \"threw cutter\", \"curve come\", \"cutter explodes\", \"change come\", \"speed generates\", \"gravitational ha\", \"backspin cutter\", \"sinker slow\", \"speed ha\", \"slider come\", \"hitting speed\", \"come\", \"hitting\", \"come hitting\", \"speed result\", \"reminiscent\", \"virtually sinking\", \"reminiscent true\", \"ha virtually\", \"virtually\", \"action reminiscent\", \"fade cutter\", \"sinker cutter\", \"little cutting\", \"cutter\", \"speed\", \"cutting\", \"cutting action\", \"substantially\", \"slow substantially\", \"pitcher cutter\", \"slow\", \"cutter ha\", \"substantially gravitational\", \"ha good\", \"good\", \"cutter extreme\", \"ha strong\", \"strong cutting\", \"strong\", \"cutter also\", \"ha average\", \"action\", \"cutter generates\", \"sinker\", \"little\", \"threw\", \"somewhat\", \"result somewhat\", \"curve\", \"somewhat flyballs\", \"sinker ha\", \"ha little\", \"pitcher sinker\", \"ha slightly\", \"swing compared\", \"whiff\", \"whiff swing\", \"change\", \"slightly average\", \"sinking action\", \"sinking\", \"obvious armside\", \"obvious\", \"ha obvious\", \"obvious tail\", \"tail\", \"change dive\", \"tail generates\", \"fade result\", \"tail ha\", \"fade dive\", \"fade generates\", \"action dive\", \"tail extreme\", \"cut curve\", \"zone much\", \"cut result\", \"tail result\", \"juan\", \"cut change\", \"pitch juan\", \"zone slightly\", \"pitch danny\", \"dive zone\", \"dive\", \"zone result\", \"changeups slider\", \"tail change\", \"webb\", \"webb threw\", \"classic fall\", \"zone\", \"two plane\", \"plane\", \"ha two\", \"plane movement\", \"cut ha\", \"fade\", \"armside fade\", \"two\", \"short glove\", \"ha short\", \"side cut\", \"short\", \"slight armside\", \"change\", \"slight\", \"ha slight\", \"slider\", \"ha natural\", \"pitcher changeups\", \"changeups\", \"slider ha\", \"side\", \"glove\", \"glove side\", \"somewhat\", \"result somewhat\", \"armside\", \"natural\", \"movement\", \"pitcher slider\", \"compared rhp\", \"rhp\", \"sinking action\", \"sinking\", \"action\", \"natural sinking\", \"somewhat flyballs\", \"slightly\", \"pitcher fourseamers\", \"fourseamers\", \"wright\", \"romero\", \"romero threw\", \"felipe\", \"arrow blazing\", \"unfair explodes\", \"phil\", \"pitch phil\", \"lyon\", \"wright threw\", \"hector\", \"movement extreme\", \"rise curve\", \"throw fourseam\", \"unfair extreme\", \"thrown generates\", \"curve take\", \"cody\", \"fastball thrown\", \"sinker take\", \"usual sinker\", \"sinker thrown\", \"depth slightly\", \"pitch hector\", \"luis\", \"throw sinker\", \"bite come\", \"clayton\", \"generates extremely\", \"extremely high\", \"take\", \"grain salt\", \"grain\", \"salt\", \"take grain\", \"salt thrown\", \"change take\", \"miss compared\", \"number swing\", \"swing miss\", \"high number\", \"miss\", \"extremely\", \"high\", \"number\", \"flyball\", \"flyball pitch\", \"extreme flyball\", \"pitcher curve\", \"thrown basically\", \"curve\", \"extreme\", \"result flyballs\", \"sinker\", \"pitcher sinker\", \"pitcher changeups\", \"changeups\", \"basically\", \"basically never\", \"never\", \"pitcher fourseamers\", \"fourseamers\", \"change thrown\", \"slider real\", \"action real\", \"hard real\", \"killer generates\", \"killer\", \"real worm\", \"worm killer\", \"number groundball\", \"extreme number\", \"generates extreme\", \"worm\", \"unfair generates\", \"speed borderline\", \"thrown speed\", \"unfair\", \"borderline unfair\", \"borderline\", \"change real\", \"fastball real\", \"real\", \"sinker real\", \"bite generates\", \"fourseamers thrown\", \"changeups real\", \"slider thrown\", \"sink real\", \"hard sinker\", \"robbie\", \"pitch zach\", \"hard result\", \"extremely hard\", \"hard\", \"thrown extremely\", \"hard generates\", \"groundball\", \"groundball compared\", \"number\", \"extremely\", \"well\", \"extreme\", \"slider\", \"well average\", \"ha well\", \"sinker\", \"pitcher slider\", \"pitcher fourseamers\", \"fourseamers\", \"high\", \"pitcher sinker\", \"action\", \"natural\", \"change\", \"miss compared\", \"swing miss\", \"number swing\", \"throw cutter\", \"anderson\", \"anderson ha\", \"bite slightly\", \"ha sharp\", \"sharp downward\", \"sharp\", \"downward bite\", \"bite cutter\", \"jon\", \"downward\", \"bite result\", \"lance\", \"marco\", \"torres\", \"gray\", \"gray ha\", \"holland\", \"holland ha\", \"throw slow\", \"robert\", \"bite\", \"bite ha\", \"sink curve\", \"thrown sweep\", \"rhp curve\", \"typical curve\", \"postseason ha\", \"bite change\", \"sweeping glove\", \"side movement\", \"ha sweeping\", \"sweeping\", \"slight glove\", \"curve generates\", \"primarily curve\", \"action curve\", \"natural sink\", \"sink\", \"curve\", \"training ha\", \"cutter\", \"curve ha\", \"pitcher curve\", \"glove\", \"glove side\", \"side\", \"natural\", \"ha natural\", \"ha relied\", \"thrown pitch\", \"pitcher cutter\", \"slightly\", \"throw\", \"usual\", \"ha slightly\", \"generates high\", \"rarely throw\", \"slight\", \"ha slight\", \"change\", \"result somewhat\", \"somewhat\", \"movement\", \"high\", \"groundball compared\", \"groundball\", \"slightly average\", \"pitch manny\", \"manny\", \"cutter thrown\", \"depth extreme\", \"sergio\", \"flaherty\", \"mejia\", \"movement much\", \"fast extreme\", \"ball ha\", \"fourseamers blazing\", \"unfair ha\", \"thrown dive\", \"fast result\", \"slider much\", \"fall winter\", \"winter\", \"winter ball\", \"fall\", \"training fall\", \"ball\", \"postseason fall\", \"fastball blazing\", \"fast generates\", \"kyle\", \"dylan\", \"generates extremely\", \"extremely high\", \"blazing\", \"blazing fast\", \"fast\", \"miss compared\", \"high number\", \"swing miss\", \"number swing\", \"miss\", \"high\", \"extremely\", \"number\", \"much harder\", \"action slider\", \"heavy\", \"ha heavy\", \"slider\", \"pitcher slider\", \"thrown generates\", \"sinker slider\", \"well average\", \"extreme flyball\", \"flyball\", \"flyball pitch\", \"sinker\", \"fourseamers\", \"pitcher fourseamers\", \"ha relied\", \"thrown pitch\", \"much\", \"extreme\", \"sinking\", \"sinking action\", \"action\", \"pitcher sinker\", \"knuckle\", \"knuckle curve\", \"curve grip\", \"curve using\", \"using knuckle\", \"grip also\", \"grip\", \"using\", \"grip basic\", \"using circle\", \"circle change\", \"circle\", \"change grip\", \"change using\", \"grip fourseam\", \"knuckleball\", \"grip change\", \"flutter float\", \"toward\", \"toward plate\", \"float unpredictably\", \"unpredictably\", \"unpredictably toward\", \"float\", \"flutter\", \"plate\", \"bite fourseam\", \"knuckleball flutter\", \"rhp knuckleball\", \"knuckleball also\", \"primarily knuckleball\", \"using vulcan\", \"vulcan\", \"vulcan change\", \"jeremy\", \"curve\", \"downward\", \"ha sharp\", \"sharp downward\", \"sharp\", \"downward bite\", \"curve ha\", \"bite\", \"fastball curve\", \"slow\", \"somewhat\", \"result somewhat\", \"change\", \"pitcher curve\", \"sinker\", \"somewhat flyballs\", \"season mlb\", \"ha slight\", \"slight\", \"fourseamers\", \"pitcher fourseamers\", \"classic\", \"world baseball\", \"baseball\", \"baseball classic\", \"world\", \"classic spring\", \"postseason world\", \"splitter ha\", \"splitter basic\", \"velo splitter\", \"splitter\", \"ha movement\", \"movement suggests\", \"suggests\", \"pitcher splitter\", \"movement splitter\", \"threw splitter\", \"fastball splitter\", \"splitter result\", \"suggests extreme\", \"splitter extreme\", \"splitter much\", \"splitter take\", \"fernando\", \"pitch jonathan\", \"pitch fernando\", \"pitch joel\", \"joel\", \"oliver\", \"perez ha\", \"speed real\", \"fade extreme\", \"season mlb\", \"postseason\", \"mlb postseason\", \"training relied\", \"backspin\", \"threw\", \"threw pitch\", \"although\", \"movement\", \"extreme\", \"although ha\", \"mlb pitch\"], \"Total\": [1718.0, 836.0, 321.0, 810.0, 810.0, 810.0, 810.0, 810.0, 810.0, 845.0, 1869.0, 636.0, 636.0, 636.0, 636.0, 636.0, 646.0, 711.0, 456.0, 456.0, 354.0, 151.0, 151.0, 136.0, 661.0, 964.0, 209.0, 209.0, 209.0, 209.0, 12.996587320930065, 11.995653363821555, 24.8917712653899, 24.891771265165804, 24.89177125745509, 24.89177124481303, 24.89177124342128, 24.89177123558908, 6.990414710682193, 5.989364949686361, 5.989364251387577, 4.988317952056375, 4.988317750927066, 4.988314945696349, 4.988315732032101, 4.9883133481595685, 11.97897682270759, 3.9872696367924436, 3.9872681105058505, 3.9872685723861188, 3.9872689961642975, 3.987269005848836, 3.9872702190999467, 3.987271754370678, 3.9872717543707505, 3.9872697588608155, 3.987260705162378, 3.987257168363223, 3.986209139777817, 3.986209139686345, 41.677771853537045, 134.0868178181653, 134.08662073355362, 134.08629905951395, 43.03912559112445, 143.9092204696341, 143.90828821897475, 39.00198152740105, 115.51510709784401, 46.17354518496076, 115.52950482034582, 115.56186499643124, 128.82617308252364, 128.85795838254796, 318.72814689944454, 38.79768024376907, 33.76169644284779, 393.5014065409065, 333.7180394462714, 174.8689069393733, 105.67468985638142, 348.42568947567514, 348.393989615951, 395.5139899042132, 147.2084497785371, 236.69747574900035, 236.69988376600358, 548.4500700725114, 1870.8030765167375, 236.69705502583693, 1718.8794948635618, 465.01474425380087, 465.0187749364727, 465.01291869083633, 704.6266694497499, 704.6396617847735, 632.0655787518259, 543.8483982641621, 1869.7339390151049, 499.0012113729786, 891.4424961426494, 1197.7508804088675, 418.98173605802225, 418.98144955861153, 911.4964564731617, 418.97656973266413, 418.9728055937912, 661.7564124463213, 670.803936391992, 819.8158313568758, 694.7959664172585, 449.9395440902476, 607.2858278667375, 607.280060318804, 789.4509018351607, 789.4237082023539, 744.6165334189496, 8.917370346307179, 9.91040002206682, 7.925717191509116, 7.925846470203772, 6.934064283704255, 6.934060665058345, 6.934060664867072, 5.942404769309014, 5.9426207649241425, 8.923035090859912, 5.937566814232006, 4.950750419950921, 4.950753209871448, 4.95074982034222, 4.950749985642395, 4.950750146875529, 4.950730029116464, 4.950857537418672, 8.864017276599208, 14.892724262606809, 23.76718735098452, 3.9590943026063408, 3.9590946848502093, 3.959093634180331, 3.959091805646103, 3.9590917125377834, 3.9590871381882757, 3.9590486891697285, 18.866087182513546, 5.911567978462983, 334.15695346548887, 131.42623479946695, 40.65443924815001, 11.787622401632566, 29.645403400131634, 10.797725510253759, 19.86946481250854, 11.913351216907351, 752.5021517424656, 752.5133979155846, 752.4958924696031, 752.4919631631152, 752.4887165766237, 752.4806140450048, 752.4945701379098, 752.4654661778283, 810.582499028146, 810.5806394379257, 810.5774791608874, 810.5769848909734, 810.5762156233835, 810.5732572556088, 80.67422538286117, 698.6756580774006, 698.6718210796097, 698.6804797523001, 116.39349123681116, 219.65444153046045, 118.87359632025003, 77.79506748727638, 964.2095419844945, 106.48681183734838, 1869.7339390151049, 744.6165334189496, 905.3439144046775, 905.3283442839662, 548.4500700725114, 631.3027864027248, 911.4964564731617, 1870.8030765167375, 819.8158313568758, 789.4237082023539, 789.4509018351607, 1197.7508804088675, 44.002680972702805, 44.00268097270281, 44.98318449890905, 31.292655038521737, 30.314959809717983, 27.38187660912805, 31.2858461996737, 22.49340584096321, 19.5603216595472, 19.560382871011715, 16.627238829716877, 16.62722397416129, 31.264491269333412, 15.649543945969414, 15.649544396933205, 29.304571050277488, 39.13687704603678, 32.212491148025926, 145.78706509368448, 145.78691529531764, 145.78660789078324, 145.78653856497098, 10.761072069014189, 10.761073287192973, 10.7610732871989, 10.761073287208514, 10.761073287228925, 10.76107328726281, 10.761073287281764, 10.761072865516054, 46.07222383765808, 59.80948089970547, 836.2767524341252, 185.93473147022, 131.65791955935921, 131.65807687650118, 34.08901851945166, 34.08895562146291, 354.2359177255738, 69.026436335219, 235.17764060641403, 34.088915027435476, 78.66033535224545, 78.66035067349904, 72.78899109427772, 72.84411824070808, 72.84415142566937, 72.84417536570281, 81.77921003004323, 247.55935414631128, 841.2060132749825, 72.82465604367293, 1870.8030765167375, 393.5014065409065, 632.0655787518259, 704.6396617847735, 704.6266694497499, 1718.8794948635618, 499.0012113729786, 543.8483982641621, 318.72814689944454, 694.7959664172585, 670.803936391992, 465.0187749364727, 465.01291869083633, 465.01474425380087, 1197.7508804088675, 551.6563053339358, 525.4594391027133, 525.4578579175192, 54.72797953017531, 152.01234999272316, 152.01236151852575, 98.27001148874976, 98.27000653276919, 21.264825286458553, 21.26482376289884, 16.194647809918514, 32.35653346637934, 13.152545675241813, 12.138510935395615, 11.123357278625594, 26.319710097187823, 7.0676144053396905, 9.087560592986186, 11.104974768836112, 11.125101583010743, 5.040266540531536, 8.033957087569608, 4.026231227875913, 4.026231577089289, 4.026228602068358, 91.37284015543524, 91.37463947871713, 55.180320869146875, 12.971738011018378, 3.0121969955808465, 3.012196736289179, 3.012196736289179, 3.012193962914195, 172.64048837398028, 132.70133343478625, 132.7065697404727, 132.71305242994828, 132.7210829516215, 43.21213284609194, 248.1413919954813, 248.13968803034558, 158.62690394516918, 93.15675230569832, 93.15746694396263, 93.15517490212966, 93.15681821513635, 458.32817772998527, 1197.7508804088675, 613.4684963776575, 613.4671223317132, 1869.7339390151049, 526.7787137011852, 789.4237082023539, 789.4509018351607, 423.65686911877157, 246.06914142355095, 246.07151160207874, 246.0674298152921, 704.6396617847735, 704.6266694497499, 819.8158313568758, 645.4532489513233, 911.4964564731617, 744.6165334189496, 550.9957849234477, 551.0042029474812, 525.4594391027133, 525.4578579175192, 841.2060132749825, 278.9843894352517, 499.0012113729786, 891.4424961426494, 905.3439144046775, 905.3283442839662, 3.9574098447914112, 2.966313537806451, 2.966313537806451, 2.966313205920492, 2.966312854479928, 2.9663139549559343, 2.966312525817028, 2.9663125258170266, 2.966315066641919, 2.9662483843083436, 6.943056201932769, 9.877919710498718, 2.967092646501648, 15.58432244105053, 4.949064321878908, 188.60601731145667, 142.80636881599787, 3.9039307670140744, 5.940726142687548, 118.87359632025003, 25.12929849935968, 10.979784892282987, 34.88146946288066, 3.9724240573324874, 8.73118679839452, 35.29267549254227, 4.949723326941145, 3.873401325351582, 456.1482527628214, 456.15213257179363, 810.582499028146, 810.5806394379257, 810.5769848909734, 810.5774791608874, 810.5762156233835, 810.5732572556088, 219.65444153046045, 636.9699364996338, 636.97132433117, 636.9707907264673, 636.9729868425379, 636.9738227753534, 646.5643911980472, 711.8760141279469, 845.566546999969, 698.6756580774006, 698.6804797523001, 698.6718210796097, 661.7564124463213, 334.15695346548887, 1718.8794948635618, 964.2095419844945, 631.3027864027248, 1870.8030765167375, 694.7959664172585, 789.4237082023539, 789.4509018351607, 752.5021517424656, 752.4958924696031, 752.5133979155846, 905.3439144046775, 905.3283442839662, 40.392605927177875, 30.093719421340367, 19.75007218470454, 17.873476359536177, 209.93670220887068, 209.93667031638736, 209.93673264657946, 209.93735617631978, 209.93754800906186, 209.9373786589594, 209.93792537459913, 209.93757756051565, 11.305397971306597, 29.23036974438818, 29.23043921561996, 29.233517118974813, 29.23372279548098, 29.233742604895966, 22.618741996729764, 35.860439910650186, 223.03165141213836, 25.57144892109647, 5.6757098320410595, 5.6782300625826245, 4.737319539769512, 50.43046820081873, 3.7990224478406986, 3.7990261422647444, 3.799031590159183, 3.7990604974184015, 19.071467756003834, 191.32871797953405, 191.33282001114313, 191.33213698985364, 45.16701991365624, 607.280060318804, 607.2858278667375, 845.566546999969, 646.5643911980472, 133.07390947209598, 964.2095419844945, 1869.7339390151049, 133.07536952304056, 133.07488326289652, 1870.8030765167375, 744.6165334189496, 905.3439144046775, 905.3283442839662, 711.8760141279469, 694.7959664172585, 841.2060132749825, 645.4532489513233, 1197.7508804088675, 636.9699364996338, 636.9707907264673, 636.97132433117, 10.008544910952963, 4.994922482654362, 4.9949223319697955, 26.88055152284597, 137.85773797371783, 137.85797858265602, 137.8568218482417, 137.85723460374552, 3.9922669028155138, 3.992264137078112, 138.8082726792018, 33.714046017891725, 2.9895523147662746, 2.9895508415967815, 2.989552756178062, 2.98954983379327, 2.98954983379327, 2.9895524747374, 2.9895524747373976, 2.989542678738312, 2.9895508084171305, 184.85748967349443, 58.659459642795234, 40.088400703254365, 4.9699587245050445, 12.931840009316877, 13.96554826553704, 19.5606403123534, 9.9794076469453, 47.049875092036665, 153.8101041723799, 57.825986274909766, 57.82659608921491, 107.7310729444075, 81.34272368912418, 19.84675328790484, 42.70552649753228, 248.8420915053683, 273.41299625874865, 1718.8794948635618, 181.69825108786642, 836.2767524341252, 479.5942581851627, 661.7564124463213, 246.07151160207874, 246.0674298152921, 246.06914142355095, 645.4532489513233, 526.7787137011852, 335.29618940702466, 335.29092846971776, 354.2359177255738, 891.4424961426494, 162.78014405142545, 449.9395440902476, 670.803936391992, 256.8777767060307, 162.76645398244446, 613.4684963776575, 613.4671223317132, 1197.7508804088675, 704.6266694497499, 704.6396617847735, 911.4964564731617, 711.8760141279469, 607.2858278667375, 607.280060318804, 551.6563053339358, 4.029211376822374, 4.029211376822374, 8.019347992069985, 23.180210396861522, 3.0141815449897593, 3.014183737592092, 3.0141563403873968, 9.94640910998405, 6.045625165416764, 95.35847763757228, 22.784265856643675, 11.048513106542202, 6.021538638432867, 21.617526992867067, 50.3846003763196, 159.51651726582784, 159.52084039890383, 159.51776758842806, 159.52311452924783, 127.35259448561426, 161.5681088066706, 11.763541511991143, 11.028986592708442, 9.782436265333839, 9.804814530319122, 4.012322534972455, 456.1482527628214, 456.15213257179363, 87.01195864448454, 87.01177123422757, 87.01145556606424, 636.9699364996338, 636.9729868425379, 636.9707907264673, 636.97132433117, 636.9738227753534, 711.8760141279469, 646.5643911980472, 845.566546999969, 116.33281025219549, 46.00399320776962, 130.3539126182466, 130.35308716167543, 1869.7339390151049, 744.6165334189496, 188.60601731145667, 106.1750216574471, 133.07536952304056, 698.6718210796097, 698.6756580774006, 698.6804797523001, 1870.8030765167375, 905.3283442839662, 905.3439144046775, 335.29618940702466, 335.29092846971776, 325.5150674689414, 964.2095419844945, 525.4578579175192, 525.4594391027133, 841.2060132749825, 694.7959664172585, 70.91813761859324, 70.9181376186169, 70.91813761861822, 70.91813761863158, 70.9181376186504, 61.47154434556888, 151.33348307020148, 151.33357588065758, 33.119408010344586, 49.21342212427375, 49.213494247161414, 49.213792413638025, 53.00984485009006, 54.91284867780593, 13.269835315015577, 6.654455022253563, 6.654454840756886, 3.819292704806894, 3.819292704806894, 3.819292704806894, 3.819292704806894, 3.819292704806894, 3.819292704806894, 3.819292704806894, 3.819292704806894, 3.819292704806894, 7.672013285239095, 2.8742383951328194, 2.8742383951328194, 2.8742383951328194, 2.8742383951328194, 4.803304741734268, 4.80330479191959, 4.803305513389095, 5.763371036667957, 1718.8794948635618, 138.8082726792018, 137.85773797371783, 137.85797858265602, 137.8568218482417, 137.85723460374552, 479.5942581851627, 184.85748967349443, 92.02997156795787, 69.026436335219, 704.6396617847735, 704.6266694497499, 1197.7508804088675, 661.7564124463213, 1870.8030765167375, 499.0012113729786, 402.16041204186445, 613.4671223317132, 613.4684963776575, 905.3283442839662, 905.3439144046775, 96.48592655903641, 96.48592655912441, 96.4859265553011, 96.48592655780196, 96.4859265534202, 80.08662786364573, 77.19263409473533, 84.94974676101306, 28.9595184026774, 27.996775169745977, 321.6316974798583, 28.9746351977182, 28.97464560878883, 28.97466411859927, 136.20367814732978, 16.41876561511485, 11.595550033342393, 24.167428222741773, 13.535373500599407, 7.736781066808428, 25.158103969129286, 9.67459778468157, 31.982957144889106, 4.842790830046631, 4.842786671331291, 3.8781269150072197, 2.9134578045352386, 2.9134578045352386, 2.9134585625541707, 2.9134573188258064, 5.822283309299657, 5.844196878602482, 402.16041204186445, 402.15195965995196, 402.150187390184, 303.08421017037756, 261.0322669336543, 632.0655787518259, 418.98173605802225, 418.97656973266413, 911.4964564731617, 964.2095419844945, 418.98144955861153, 418.9728055937912], \"loglift\": [30.0, 29.0, 28.0, 27.0, 26.0, 25.0, 24.0, 23.0, 22.0, 21.0, 20.0, 19.0, 18.0, 17.0, 16.0, 15.0, 14.0, 13.0, 12.0, 11.0, 10.0, 9.0, 8.0, 7.0, 6.0, 5.0, 4.0, 3.0, 2.0, 1.0, 1.6086, 1.6026, 1.5568, 1.5568, 1.5568, 1.5568, 1.5568, 1.5568, 1.5439, 1.5194, 1.5194, 1.4841, 1.484, 1.484, 1.484, 1.484, 1.4307, 1.4285, 1.4285, 1.4285, 1.4285, 1.4284, 1.4284, 1.4284, 1.4284, 1.4284, 1.4283, 1.4283, 1.3917, 1.3917, 1.3466, 1.3045, 1.3044, 1.3044, 1.3335, 1.2445, 1.2443, 1.2912, 1.2147, 1.2767, 1.2121, 1.2059, 1.1763, 1.1735, 1.0623, 1.2656, 1.2596, 0.9647, 0.9829, 1.0605, 1.0981, 0.9066, 0.9059, 0.8763, 1.0427, 0.9571, 0.9569, 0.7959, 0.5152, 0.9568, 0.4699, 0.7799, 0.7796, 0.7795, 0.6538, 0.6536, 0.6756, 0.6921, 0.2835, 0.714, 0.5161, 0.3397, 0.7178, 0.7175, 0.3937, 0.7175, 0.7171, 0.4235, 0.3986, 0.2168, 0.2909, 0.5535, 0.3593, 0.3585, 0.1009, 0.0996, 0.1473, 1.6336, 1.6283, 1.6197, 1.6181, 1.6016, 1.6016, 1.6016, 1.5768, 1.573, 1.5677, 1.5571, 1.5412, 1.5412, 1.5412, 1.5412, 1.541, 1.5409, 1.5401, 1.5078, 1.4971, 1.4931, 1.4851, 1.4851, 1.4851, 1.4851, 1.485, 1.4849, 1.4845, 1.4786, 1.4618, 1.4349, 1.4088, 1.4245, 1.4597, 1.4119, 1.4509, 1.4097, 1.4339, 1.1693, 1.1693, 1.1693, 1.1689, 1.1689, 1.1688, 1.1688, 1.1685, 1.1351, 1.135, 1.1349, 1.1349, 1.1348, 1.1347, 1.2563, 0.9588, 0.9587, 0.9585, 1.1467, 1.0354, 1.133, 1.1971, 0.7076, 1.0452, 0.2936, 0.4436, 0.1927, 0.1918, 0.3345, 0.1855, -0.0199, -0.4505, -0.017, -0.0091, -0.0092, -0.4314, 2.1882, 2.1882, 2.1841, 2.1798, 2.1788, 2.1756, 2.1733, 2.1683, 2.1621, 2.162, 2.1537, 2.1537, 2.1525, 2.1502, 2.1502, 2.1439, 2.1426, 2.1356, 2.1242, 2.1241, 2.1241, 2.1241, 2.1225, 2.1225, 2.1225, 2.1225, 2.1225, 2.1225, 2.1225, 2.1225, 2.0845, 2.0755, 1.906, 1.9791, 1.9832, 1.9832, 2.0537, 2.0537, 1.901, 2.0112, 1.9032, 2.0537, 1.9258, 1.9257, 1.9059, 1.8788, 1.8788, 1.8788, 1.8254, 1.4613, 0.9478, 1.8237, 0.4019, 1.0583, 0.5602, 0.4344, 0.4341, -0.1967, 0.5849, 0.4939, 0.8512, 0.2965, 0.2375, 0.4989, 0.4979, 0.4978, -0.3001, 0.2936, 0.243, 0.2426, 2.2396, 2.2371, 2.237, 2.2211, 2.221, 2.2135, 2.2135, 2.1998, 2.1885, 2.1864, 2.1804, 2.1719, 2.1617, 2.1121, 2.106, 2.0821, 2.0812, 2.0633, 2.0512, 2.0084, 2.0084, 2.0084, 1.9834, 1.983, 1.9445, 1.9214, 1.9091, 1.9091, 1.9091, 1.909, 1.7435, 1.7085, 1.7076, 1.7064, 1.7044, 1.7601, 1.5548, 1.5531, 1.5438, 1.6088, 1.6088, 1.6085, 1.6085, 1.0915, 0.7471, 0.9376, 0.9359, 0.5736, 0.8955, 0.6879, 0.6859, 0.9516, 1.1659, 1.1657, 1.1649, 0.6757, 0.6757, 0.5842, 0.6751, 0.2297, 0.3712, 0.5821, 0.5818, 0.6143, 0.6131, 0.1455, 1.0686, 0.5455, 0.011, -0.0163, -0.0183, 2.0208, 1.9198, 1.9198, 1.9198, 1.9197, 1.9197, 1.9197, 1.9197, 1.9196, 1.9191, 1.9078, 1.8828, 1.8813, 1.8119, 1.7933, 1.7892, 1.6893, 1.6389, 1.6049, 1.4094, 1.3896, 1.3591, 1.3548, 1.3502, 1.3333, 1.3303, 1.322, 1.3218, 1.2927, 1.2926, 1.237, 1.2368, 1.2368, 1.2368, 1.2367, 1.2366, 1.2379, 1.1524, 1.1521, 1.1521, 1.1521, 1.152, 1.1257, 0.9877, 0.8375, 0.8338, 0.8336, 0.8336, 0.7764, 0.898, 0.4989, 0.5534, 0.6358, 0.1643, 0.4692, 0.4169, 0.4162, 0.4242, 0.4237, 0.4236, 0.2472, 0.2464, 2.3239, 2.3039, 2.3001, 2.2951, 2.2904, 2.2904, 2.2904, 2.2903, 2.2903, 2.2903, 2.2903, 2.2903, 2.2642, 2.2521, 2.2521, 2.2501, 2.25, 2.25, 2.2479, 2.2451, 2.2097, 2.1819, 2.1753, 2.1654, 2.138, 2.1152, 2.0791, 2.0791, 2.0791, 2.0789, 2.0371, 1.8175, 1.8172, 1.8172, 1.8155, 1.3012, 1.301, 1.1855, 0.914, 1.4171, 0.6594, 0.3053, 1.4169, 1.4169, 0.1605, 0.2713, 0.1446, 0.1436, 0.2632, 0.2714, 0.1348, 0.2782, -0.1771, 0.1216, 0.1205, 0.1205, 2.2796, 2.1768, 2.1768, 2.1458, 2.1271, 2.127, 2.1266, 2.1264, 2.1218, 2.1218, 2.1154, 2.0341, 2.0216, 2.0216, 2.0216, 2.0216, 2.0216, 2.0216, 2.0216, 2.0215, 2.0213, 1.9264, 1.9172, 1.9149, 1.9024, 1.8767, 1.8627, 1.8236, 1.8194, 1.7663, 1.6552, 1.6939, 1.6937, 1.5607, 1.5665, 1.7596, 1.6245, 1.3223, 1.2938, 0.9564, 1.3018, 1.0068, 1.0828, 0.981, 1.2053, 1.2049, 1.2045, 0.9553, 0.954, 1.0606, 1.0604, 1.0207, 0.6314, 1.2261, 0.7538, 0.542, 1.0083, 1.2257, 0.4864, 0.4851, 0.0405, 0.3513, 0.3513, 0.1577, 0.2726, 0.4037, 0.4024, 0.4484, 2.2286, 2.2286, 2.2172, 2.1413, 2.1294, 2.1294, 2.1288, 2.096, 2.0764, 2.0266, 1.9796, 1.9488, 1.9441, 1.9093, 1.856, 1.8559, 1.8559, 1.8559, 1.8558, 1.8488, 1.8473, 1.7798, 1.7752, 1.7596, 1.7583, 1.7391, 1.7292, 1.7291, 1.7289, 1.7289, 1.7289, 1.6398, 1.6397, 1.6397, 1.6396, 1.6394, 1.4752, 1.4247, 1.2507, 1.562, 1.6087, 1.3562, 1.3561, 0.6573, 0.8431, 1.2374, 1.3948, 1.3177, 0.7117, 0.7111, 0.7099, 0.1464, 0.4639, 0.4624, 0.9098, 0.9084, 0.9162, 0.2279, 0.5611, 0.5608, 0.1608, 0.2536, 3.6612, 3.6612, 3.6612, 3.6612, 3.6612, 3.6581, 3.6576, 3.6575, 3.6447, 3.6438, 3.6438, 3.6437, 3.6404, 3.6372, 3.6044, 3.5303, 3.5303, 3.4086, 3.4086, 3.4086, 3.4086, 3.4086, 3.4086, 3.4086, 3.4086, 3.4086, 3.3449, 3.3034, 3.3034, 3.3034, 3.3034, 3.273, 3.273, 3.273, 3.2374, 1.2899, 1.9464, 1.92, 1.9196, 1.919, 1.9183, 1.1251, 1.5769, 1.7737, 1.8877, 0.6487, 0.6483, 0.2736, 0.5939, -0.0487, 0.7136, 0.7585, 0.4066, 0.3966, 0.0186, 0.0152, 3.8258, 3.8258, 3.8258, 3.8258, 3.8258, 3.8239, 3.8235, 3.8054, 3.8038, 3.8001, 3.7872, 3.7836, 3.7836, 3.7836, 3.7823, 3.7795, 3.7551, 3.7469, 3.7306, 3.7132, 3.7083, 3.7027, 3.6408, 3.6326, 3.6325, 3.5751, 3.4717, 3.4717, 3.4717, 3.4717, 3.4141, 3.3524, 1.6417, 1.6402, 1.6402, 1.2927, 1.3232, 0.6729, 0.8429, 0.8413, 0.2569, 0.1848, 0.8412, 0.8405], \"logprob\": [30.0, 29.0, 28.0, 27.0, 26.0, 25.0, 24.0, 23.0, 22.0, 21.0, 20.0, 19.0, 18.0, 17.0, 16.0, 15.0, 14.0, 13.0, 12.0, 11.0, 10.0, 9.0, 8.0, 7.0, 6.0, 5.0, 4.0, 3.0, 2.0, 1.0, -7.4016, -7.4877, -6.8035, -6.8035, -6.8035, -6.8035, -6.8035, -6.8035, -8.0864, -8.2654, -8.2654, -8.4837, -8.4837, -8.4837, -8.4837, -8.4838, -7.661, -8.7633, -8.7633, -8.7633, -8.7633, -8.7633, -8.7633, -8.7633, -8.7633, -8.7633, -8.7634, -8.7634, -8.8002, -8.8002, -6.4983, -5.3718, -5.3719, -5.372, -6.4793, -5.3611, -5.3614, -6.62, -5.6107, -6.4657, -5.6132, -5.6192, -5.5401, -5.5427, -4.7482, -6.6508, -6.796, -4.6351, -4.7816, -5.3503, -5.8164, -4.8148, -4.8156, -4.7183, -5.5403, -5.151, -5.1511, -4.4719, -3.5256, -5.1512, -3.6555, -4.6529, -4.6531, -4.6533, -4.3634, -4.3636, -4.4503, -4.584, -3.7578, -4.6483, -4.2659, -4.1469, -4.8192, -4.8195, -4.366, -4.8196, -4.8199, -4.6564, -4.6678, -4.649, -4.7403, -4.9122, -4.8066, -4.8073, -4.8026, -4.8039, -4.8147, -7.7533, -7.653, -7.885, -7.8866, -8.0368, -8.0368, -8.0368, -8.216, -8.2197, -7.8185, -8.2365, -8.4341, -8.4341, -8.4341, -8.4341, -8.4343, -8.4344, -8.4352, -7.885, -7.3769, -6.9135, -8.7137, -8.7137, -8.7137, -8.7138, -8.7138, -8.7139, -8.7144, -7.1589, -8.3361, -4.3284, -5.2876, -6.4453, -7.6481, -6.7736, -7.7446, -7.1759, -7.6633, -3.7822, -3.7822, -3.7822, -3.7825, -3.7826, -3.7826, -3.7827, -3.783, -3.742, -3.742, -3.7422, -3.7422, -3.7423, -3.7424, -5.9281, -4.0669, -4.067, -4.0671, -5.6711, -5.1474, -5.6638, -6.0237, -3.9959, -5.8616, -3.7477, -4.5184, -4.5738, -4.5748, -4.9332, -4.9416, -4.7796, -4.4912, -4.8828, -4.9126, -4.9127, -4.918, -5.6024, -5.6024, -5.5845, -5.9517, -5.9844, -6.0894, -5.9584, -6.2933, -6.4392, -6.4394, -6.6101, -6.6101, -5.9798, -6.6742, -6.6742, -6.0532, -5.7652, -5.9669, -4.4685, -4.4685, -4.4686, -4.4686, -7.0764, -7.0764, -7.0764, -7.0764, -7.0764, -7.0764, -7.0764, -7.0764, -5.6601, -5.4081, -2.9399, -4.3703, -4.7114, -4.7114, -5.9922, -5.9922, -3.8039, -5.3292, -4.2113, -5.9922, -5.2839, -5.284, -5.3814, -5.4077, -5.4077, -5.4077, -5.3454, -4.6019, -3.8922, -5.4631, -3.6388, -4.5415, -4.5657, -4.5827, -4.583, -4.3221, -4.7773, -4.7823, -4.9593, -4.7348, -4.8288, -4.9338, -4.9349, -4.935, -4.7867, -4.9683, -5.0676, -5.068, -5.3328, -4.3138, -4.3138, -4.7661, -4.7661, -6.3043, -6.3043, -6.5903, -5.9095, -6.8118, -6.8981, -6.9939, -6.1429, -7.5072, -7.2619, -7.0853, -7.0845, -7.894, -7.44, -8.1736, -8.1736, -8.1736, -5.0765, -5.0769, -5.6198, -7.0907, -8.5631, -8.5631, -8.5631, -8.5631, -4.6801, -4.9782, -4.9791, -4.9803, -4.9822, -6.0487, -4.5061, -4.5078, -4.9645, -5.4317, -5.4318, -5.432, -5.4321, -4.3558, -3.7396, -4.2182, -4.2198, -3.4677, -4.4126, -4.2156, -4.2176, -4.5743, -4.9034, -4.9035, -4.9044, -4.3415, -4.3415, -4.2816, -4.4298, -4.5301, -4.5908, -4.681, -4.6813, -4.6963, -4.6974, -4.6945, -4.875, -4.8167, -4.771, -4.7828, -4.7848, -8.1785, -8.5678, -8.5678, -8.5678, -8.5678, -8.5678, -8.5678, -8.5678, -8.5679, -8.5684, -7.7293, -7.4017, -8.6059, -7.0167, -8.1823, -4.546, -4.9241, -8.5739, -8.1881, -5.3873, -6.9612, -7.8196, -6.668, -8.8452, -8.0747, -6.6809, -8.6535, -8.8989, -4.1593, -4.1594, -3.6401, -3.6402, -3.6403, -3.6403, -3.6404, -3.6405, -4.9449, -3.9657, -3.966, -3.966, -3.966, -3.9661, -3.9775, -4.0193, -3.9974, -4.1918, -4.192, -4.1921, -4.3035, -4.8652, -3.6265, -4.1501, -4.4913, -3.8764, -4.562, -4.4866, -4.4873, -4.5272, -4.5277, -4.5278, -4.5193, -4.5201, -5.5523, -5.8667, -6.2916, -6.3964, -3.9376, -3.9377, -3.9377, -3.9377, -3.9377, -3.9377, -3.9377, -3.9377, -6.8854, -5.9476, -5.9476, -5.9494, -5.9495, -5.9495, -6.2081, -5.7501, -3.9578, -6.1515, -7.6634, -7.6728, -7.8814, -5.539, -8.161, -8.161, -8.161, -8.1612, -6.5896, -4.5033, -4.5036, -4.5036, -5.949, -3.8647, -3.8648, -3.6493, -4.1892, -5.2669, -4.0441, -3.736, -5.267, -5.267, -3.8802, -4.6906, -4.6219, -4.623, -4.7438, -4.7598, -4.7052, -4.8267, -4.6638, -4.9965, -4.9976, -4.9977, -6.9918, -7.7896, -7.7896, -6.1376, -4.5215, -4.5216, -4.522, -4.5222, -8.0686, -8.0687, -4.5263, -6.0228, -8.4581, -8.4581, -8.4581, -8.4581, -8.4581, -8.4582, -8.4582, -8.4582, -8.4584, -4.4289, -5.5858, -5.9689, -8.069, -7.1384, -7.0755, -6.7777, -7.455, -5.9573, -4.8839, -5.8235, -5.8236, -5.3345, -5.6097, -6.8272, -6.196, -4.7358, -4.67, -3.169, -5.0707, -3.8391, -4.3191, -4.099, -4.8639, -4.8643, -4.8647, -4.1496, -4.354, -4.6992, -4.6994, -4.6842, -4.1506, -5.2563, -4.7119, -4.5243, -5.0179, -5.2568, -4.6693, -4.6706, -4.4462, -4.6658, -4.6658, -4.602, -4.7343, -4.7621, -4.7634, -4.8135, -7.9527, -7.9527, -7.2758, -6.2902, -8.3421, -8.3421, -8.3427, -7.1816, -7.6991, -4.9906, -6.4692, -7.2238, -7.8354, -6.592, -5.7991, -4.6468, -4.6468, -4.6468, -4.6468, -4.879, -4.6426, -7.3301, -7.3991, -7.5346, -7.5337, -8.4464, -3.7228, -3.7229, -5.3799, -5.3799, -5.3799, -3.4783, -3.4784, -3.4784, -3.4785, -3.4787, -3.5317, -3.6784, -3.5841, -5.2564, -6.1374, -5.3484, -5.3485, -3.384, -4.1188, -5.0977, -5.5149, -5.3663, -4.3139, -4.3146, -4.3157, -3.8943, -4.3026, -4.3041, -4.8501, -4.8515, -4.8732, -4.4756, -4.7495, -4.7497, -4.6792, -4.7776, -3.6521, -3.6521, -3.6521, -3.6521, -3.6521, -3.7982, -2.8978, -2.8978, -4.43, -4.0348, -4.0349, -4.035, -3.964, -3.9319, -5.3849, -6.1492, -6.1492, -6.8261, -6.8261, -6.8261, -6.8261, -6.8261, -6.8261, -6.8261, -6.8261, -6.8261, -6.1924, -7.2156, -7.2156, -7.2156, -7.2156, -6.7325, -6.7325, -6.7325, -6.5859, -2.8355, -4.6954, -4.7286, -4.729, -4.7296, -4.7303, -4.2768, -4.7784, -5.279, -5.4527, -4.3685, -4.3689, -4.213, -4.4861, -4.0895, -4.6487, -4.8195, -4.7491, -4.7592, -4.748, -4.7513, -3.1796, -3.1796, -3.1796, -3.1796, -3.1796, -3.3678, -3.405, -3.3274, -4.4051, -4.4427, -2.0143, -4.4248, -4.4248, -4.4248, -2.8784, -4.9969, -5.3692, -4.6429, -5.2389, -5.8156, -4.6413, -5.6026, -4.4689, -6.3648, -6.3648, -6.6444, -7.0338, -7.0338, -7.0338, -7.0338, -6.3991, -6.457, -3.9363, -3.9378, -3.9379, -4.5681, -4.687, -4.4529, -4.6941, -4.6957, -4.5028, -4.5187, -4.6958, -4.6966]}, \"token.table\": {\"Topic\": [1, 2, 3, 4, 5, 6, 7, 8, 10, 2, 3, 5, 8, 1, 2, 3, 6, 1, 2, 3, 5, 7, 4, 1, 6, 3, 1, 2, 3, 6, 8, 1, 2, 3, 4, 5, 6, 8, 9, 10, 1, 2, 3, 4, 5, 6, 8, 9, 10, 7, 7, 1, 2, 3, 4, 5, 6, 7, 8, 9, 1, 2, 3, 4, 5, 6, 7, 8, 9, 5, 2, 1, 2, 3, 4, 5, 6, 7, 10, 3, 2, 4, 6, 8, 9, 2, 4, 6, 7, 8, 9, 10, 10, 1, 2, 3, 5, 6, 7, 9, 1, 2, 3, 5, 6, 7, 9, 1, 2, 3, 4, 5, 7, 9, 2, 1, 2, 7, 2, 5, 7, 7, 9, 6, 1, 2, 3, 5, 7, 9, 1, 1, 7, 9, 1, 7, 9, 5, 6, 8, 5, 6, 8, 5, 6, 5, 6, 2, 6, 9, 1, 1, 2, 3, 4, 5, 6, 7, 8, 9, 1, 3, 4, 7, 3, 4, 1, 9, 1, 3, 6, 1, 2, 4, 5, 6, 7, 8, 6, 1, 9, 1, 2, 3, 4, 5, 6, 7, 8, 9, 6, 4, 5, 6, 1, 9, 1, 9, 10, 4, 10, 5, 6, 5, 6, 2, 3, 9, 2, 3, 9, 1, 2, 3, 4, 5, 6, 7, 8, 9, 10, 1, 2, 3, 6, 1, 2, 3, 4, 5, 6, 7, 9, 10, 3, 1, 3, 4, 5, 7, 9, 10, 9, 1, 2, 3, 4, 5, 7, 9, 10, 1, 2, 5, 7, 9, 1, 1, 2, 3, 5, 7, 9, 4, 6, 4, 2, 2, 4, 2, 6, 1, 4, 3, 5, 6, 7, 3, 7, 8, 3, 3, 5, 7, 3, 3, 6, 7, 3, 7, 3, 8, 9, 3, 7, 3, 7, 1, 2, 3, 4, 5, 6, 8, 9, 10, 2, 8, 1, 2, 4, 5, 6, 9, 1, 5, 7, 2, 2, 4, 5, 6, 8, 2, 4, 5, 6, 8, 1, 2, 3, 7, 9, 1, 2, 3, 7, 9, 1, 8, 2, 1, 2, 4, 5, 6, 8, 9, 2, 1, 2, 4, 6, 8, 9, 1, 1, 2, 3, 4, 5, 6, 7, 8, 9, 10, 1, 2, 3, 4, 5, 6, 7, 8, 9, 10, 1, 6, 7, 10, 1, 2, 4, 5, 6, 7, 8, 9, 1, 2, 4, 5, 6, 3, 4, 5, 6, 7, 8, 1, 2, 3, 4, 5, 6, 7, 8, 9, 3, 4, 2, 10, 4, 4, 1, 2, 4, 6, 8, 9, 2, 4, 6, 8, 9, 5, 6, 8, 7, 8, 6, 8, 6, 8, 1, 2, 8, 3, 1, 2, 3, 4, 5, 7, 9, 10, 2, 7, 1, 6, 1, 2, 3, 6, 9, 10, 2, 10, 2, 5, 8, 2, 5, 5, 10, 1, 2, 3, 4, 6, 7, 10, 1, 2, 3, 4, 6, 7, 10, 8, 9, 9, 9, 9, 1, 2, 3, 4, 5, 6, 7, 8, 9, 10, 1, 2, 3, 4, 5, 6, 7, 8, 9, 10, 1, 2, 3, 4, 5, 6, 7, 8, 9, 10, 5, 6, 8, 2, 2, 5, 7, 8, 6, 2, 1, 6, 7, 3, 4, 5, 6, 7, 8, 1, 2, 3, 4, 6, 7, 10, 1, 2, 3, 4, 5, 6, 7, 8, 1, 1, 2, 3, 4, 5, 6, 7, 9, 1, 2, 3, 4, 5, 6, 7, 9, 2, 3, 4, 8, 3, 1, 2, 3, 4, 5, 6, 7, 8, 1, 2, 3, 4, 5, 6, 7, 8, 3, 7, 7, 1, 9, 9, 9, 9, 9, 1, 2, 1, 2, 3, 4, 6, 7, 8, 9, 10, 1, 2, 3, 4, 6, 7, 8, 9, 10, 1, 2, 3, 4, 5, 6, 7, 8, 9, 10, 2, 2, 3, 4, 8, 2, 3, 4, 5, 6, 8, 1, 2, 3, 4, 5, 6, 7, 8, 9, 1, 2, 3, 5, 6, 7, 8, 10, 2, 10, 1, 2, 3, 4, 5, 6, 7, 8, 10, 4, 8, 10, 1, 2, 3, 4, 5, 6, 7, 8, 9, 10, 1, 2, 3, 4, 5, 6, 7, 8, 9, 1, 2, 3, 7, 9, 2, 4, 6, 7, 8, 1, 2, 3, 4, 5, 6, 7, 8, 9, 1, 2, 3, 4, 5, 6, 7, 8, 9, 3, 7, 3, 4, 5, 7, 1, 2, 3, 4, 5, 6, 7, 8, 3, 1, 2, 5, 6, 7, 8, 1, 2, 4, 5, 6, 4, 5, 6, 6, 1, 2, 4, 6, 6, 2, 3, 4, 5, 6, 8, 1, 5, 1, 1, 2, 3, 4, 5, 6, 7, 8, 3, 4, 5, 6, 7, 8, 2, 3, 9, 2, 3, 9, 7, 7, 2, 2, 9, 10, 1, 1, 7, 4, 1, 6, 7, 10, 1, 6, 7, 10, 9, 9, 9, 9, 9, 6, 8, 9, 7, 1, 2, 3, 4, 5, 6, 7, 8, 9, 1, 2, 4, 6, 8, 9, 1, 2, 3, 5, 6, 7, 8, 3, 7, 1, 2, 3, 5, 7, 10, 1, 2, 3, 6, 1, 5, 6, 7, 5, 8, 1, 3, 4, 6, 7, 8, 1, 3, 4, 6, 7, 8, 7, 8, 3, 4, 5, 6, 7, 8, 3, 4, 5, 6, 7, 8, 1, 2, 3, 5, 6, 7, 9, 1, 2, 3, 5, 6, 7, 9, 1, 2, 3, 4, 5, 6, 8, 9, 10, 1, 2, 3, 4, 5, 6, 7, 8, 9, 10, 1, 2, 3, 4, 5, 6, 7, 8, 9, 10, 5, 7, 9, 6, 8, 9, 10, 2, 10, 1, 2, 4, 5, 6, 7, 8, 9, 1, 2, 5, 6, 7, 8, 9, 1, 2, 3, 4, 5, 6, 7, 8, 10, 1, 2, 3, 4, 6, 7, 8, 1, 2, 3, 4, 5, 6, 7, 8, 10, 1, 2, 3, 5, 6, 7, 9, 1, 2, 3, 5, 6, 7, 9, 1, 2, 3, 4, 5, 6, 7, 8, 10, 1, 6, 7, 3, 4, 5, 6, 7, 8, 4, 8, 10, 4, 4, 8, 10, 10, 10, 5, 2, 6, 4, 10, 1, 5, 10, 10, 4, 2, 2, 8, 1, 5, 1, 9, 2, 2, 1, 6, 1, 2, 3, 4, 5, 6, 7, 8, 9, 1, 2, 3, 4, 5, 7, 9, 10, 3, 5, 6, 7, 1, 2, 3, 4, 5, 6, 7, 8, 9, 10, 1, 2, 3, 4, 5, 6, 7, 8, 9, 1, 2, 3, 4, 5, 6, 7, 8, 10, 2, 10, 1, 2, 3, 4, 5, 6, 7, 1, 2, 3, 4, 5, 6, 7, 8, 9, 1, 2, 3, 4, 5, 6, 7, 8, 9, 10, 6, 8, 9, 6, 7, 9, 10, 1, 3, 5, 7, 10, 3, 9, 1, 2, 3, 4, 5, 6, 7, 8, 9, 10, 2, 1, 9, 1, 9, 1, 9, 1, 1, 1, 2, 5, 6, 7, 8, 9, 1, 3, 6, 7, 9, 10, 1, 6, 7, 10, 1, 9, 1, 9, 3, 3, 1, 2, 3, 4, 5, 6, 7, 8, 9, 1, 3, 6, 7, 8, 1, 2, 3, 4, 5, 6, 7, 8, 9, 10, 1, 2, 3, 4, 5, 6, 7, 8, 9, 10, 3, 5, 7, 3, 9, 2, 3, 5, 3, 6, 7, 5, 5, 1, 2, 3, 4, 5, 6, 7, 8, 1, 2, 3, 4, 5, 6, 7, 8, 2, 7, 2, 1, 2, 3, 4, 5, 6, 7, 8, 9, 10, 1, 2, 4, 9, 8, 1, 2, 3, 7, 9, 1, 2, 3, 7, 9, 2, 4, 6, 7, 8, 2, 4, 6, 7, 8, 1, 2, 3, 4, 5, 6, 7, 9, 2, 4, 6, 7, 8, 1, 2, 3, 4, 5, 7, 9, 1, 2, 3, 4, 6, 7, 8, 2, 1, 4, 7, 6, 1, 2, 3, 4, 5, 6, 7, 8, 9, 3, 7, 1, 2, 3, 4, 5, 6, 7, 8, 9, 6, 7, 1, 2, 3, 5, 6, 8, 9, 10, 3, 9, 2, 5, 6, 8, 2, 5, 8, 1, 2, 3, 4, 5, 6, 7, 8, 10, 1, 2, 3, 4, 5, 6, 7, 8, 10, 1, 2, 3, 4, 5, 6, 7, 8, 9, 10, 1, 5, 6, 3, 6, 2, 5, 8, 10, 1, 2, 3, 4, 5, 6, 7, 8, 10, 1, 5, 8, 1, 6, 2, 5, 8, 1, 4, 6, 1, 2, 3, 4, 5, 6, 7, 8, 9, 1, 2, 3, 4, 5, 6, 7, 8, 9, 1, 2, 3, 4, 7, 9, 1, 2, 3, 4, 5, 6, 7, 8, 9, 10, 1, 2, 3, 4, 5, 6, 7, 8, 9, 3, 9, 3, 9, 1, 2, 3, 4, 5, 6, 7, 8, 9, 10, 1, 2, 3, 4, 5, 6, 7, 8, 9, 10, 2, 3, 5, 6, 9, 5, 6, 3, 9, 2, 3, 3, 10, 3, 2, 3, 10, 2, 3, 10, 1, 2, 10, 1, 2, 2, 10, 10, 10, 2, 2, 2, 10, 2, 2, 3, 7, 3, 7, 3, 9, 3, 9, 2, 10, 10, 3, 4, 5, 7, 3, 4, 5, 7, 1, 2, 3, 4, 6, 7, 8, 9, 10, 3, 4, 5, 6, 7, 8, 1, 2, 3, 5, 6, 7, 9, 1, 2, 3, 5, 6, 7, 9, 4, 8, 10, 4, 4, 5, 8, 4, 4, 10, 4, 8, 1, 2, 3, 4, 5, 6, 7, 8, 1, 2, 3, 4, 5, 6, 7, 8, 1, 2, 3, 4, 5, 6, 8, 9, 10, 1, 2, 3, 3, 1, 2, 3, 4, 5, 6, 8, 9, 10, 1, 2, 10, 2, 5, 6, 7, 8, 9, 7, 5, 6, 9, 2, 3, 5, 6, 7, 2, 5, 7, 2, 8, 2, 5, 7, 1, 2, 4, 5, 6, 2, 5, 8, 2, 4, 5, 8, 1, 2, 3, 4, 5, 6, 7, 8, 9, 1, 2, 5, 6, 3, 7, 1, 2, 6, 2, 7, 9, 9, 2, 4, 6, 8, 9, 1, 2, 3, 4, 5, 6, 7, 8, 9, 1, 2, 3, 4, 5, 6, 8, 10, 1, 2, 3, 6, 1, 2, 3, 6, 1, 2, 3, 4, 5, 6, 7, 8, 1, 2, 3, 4, 5, 6, 7, 2, 5, 7, 5, 6, 5, 2, 5, 6, 2, 8, 9, 9, 1, 9, 1, 9, 9, 1, 9, 1, 2, 4, 5, 6, 7, 8, 9, 10, 2, 3, 5, 6, 10, 3, 3, 1, 9, 1, 9, 4, 4, 1, 2, 5, 6, 7, 8, 1, 2, 5, 6, 7, 8, 1, 2, 3, 4, 6, 7, 8, 9, 10, 1, 2, 3, 4, 6, 7, 8, 9, 10, 1, 2, 4, 6, 8, 9, 2, 4, 6, 8, 9, 1, 1, 10, 10, 1, 6, 7, 10, 1, 6, 7, 10, 5, 5, 2, 3, 4, 5, 6, 8, 2, 4, 2, 3, 4, 5, 6, 8, 4], \"Freq\": [0.1747491074483642, 0.10698924945818217, 0.2829271263449706, 0.12125448271927311, 0.02496415820690917, 0.10936678833503065, 0.07013739686703052, 0.09866786338921243, 0.00951015550739397, 0.7994214763158735, 0.12622444362882212, 0.04207481454294071, 0.04207481454294071, 0.6861226293308035, 0.007457854666639168, 0.2908563319989276, 0.014915709333278336, 0.07024851924430328, 0.023416173081434424, 0.2809940769772131, 0.14049703848860656, 0.4683234616286885, 0.89900915249893, 0.8348131437892816, 0.9620218003412953, 0.9292753364869973, 0.2608469213923221, 0.15216070414552121, 0.10868621724680086, 0.04347448689872035, 0.41300762553784326, 0.3818829298786111, 0.18139439169234028, 0.16946055013363368, 0.1217251838988073, 0.050122134546567707, 0.023867683117413194, 0.016707378182189238, 0.004773536623482639, 0.050122134546567707, 0.38187848213460707, 0.18139227901393834, 0.17184531696057317, 0.12172376618040599, 0.050121550780167175, 0.02386740513341294, 0.016707183593389057, 0.004773481026682588, 0.050121550780167175, 0.8008132286117786, 0.8008132527703512, 0.23175936927874558, 0.17320963388200986, 0.08904438924920226, 0.18784706773119378, 0.04757166000984778, 0.08050588617051162, 0.09758289232789288, 0.07074759693772234, 0.021956150773775898, 0.12492963236178864, 0.11283966793968006, 0.04432986954773146, 0.49568854130645174, 0.028209916984920015, 0.028209916984920015, 0.11283966793968006, 0.00805997628140572, 0.05238984582913717, 0.6742377146697334, 0.8079408405044836, 0.4137419533174035, 0.24901136079288175, 0.16856153653671993, 0.015323776048792722, 0.011492832036594541, 0.045971328146378165, 0.015323776048792722, 0.08044982425616179, 0.9584943573781934, 0.2785203115414699, 0.1299761453860193, 0.03713604153886265, 0.5322832620570314, 0.018568020769431325, 0.18876140271882658, 0.0629204675729422, 0.0629204675729422, 0.020973489190980733, 0.6396914203249123, 0.010486744595490366, 0.9949637571752747, 0.9949637571494859, 0.16877028152799775, 0.5661113380387957, 0.05049819447294421, 0.1568101828370373, 0.00398669956365349, 0.051827094327495375, 0.0013288998545511635, 0.16877168536189735, 0.5661160469619549, 0.051827525426094465, 0.15681148718664478, 0.0039867327250841895, 0.051827525426094465, 0.0013289109083613965, 0.1136010233455586, 0.06491487048317635, 0.027047862701323477, 0.027047862701323477, 0.0054095725402646955, 0.6383295597512341, 0.124420168426088, 0.9081369046618003, 0.10020634845056163, 0.3006190453516849, 0.6012380907033698, 0.40406298855414413, 0.40406298855414413, 0.7514527643139978, 0.1303438827359689, 0.7820632964158133, 0.8809470793897042, 0.03409509757128571, 0.11933284149949999, 0.1534279390707857, 0.017047548785642856, 0.6307593050687856, 0.05114264635692857, 0.752396916808731, 0.08898368348930676, 0.711869467914454, 0.1779673669786135, 0.07440323530193144, 0.78123397067028, 0.11160485295289715, 0.06895603884191297, 0.4367215793321154, 0.4711995987530719, 0.06895618736284037, 0.43672251996465566, 0.47120061364607585, 0.06841409350252153, 0.9235902622840407, 0.06841413986141939, 0.9235908881291618, 0.763512750353584, 0.08483475003928712, 0.08483475003928712, 0.7523947648715062, 0.2621580206167848, 0.1143810472117819, 0.0809851210185609, 0.22124801103008906, 0.0876643062572051, 0.08015022286373037, 0.09684818596034088, 0.02254225018042417, 0.03339592619322099, 0.6970401835065769, 0.04646934556710513, 0.09293869113421026, 0.13940803670131538, 0.9622772884315508, 0.9405203066839212, 0.018864420426582346, 0.9620854417556997, 0.8018735049459, 0.04421112368426948, 0.928433597369659, 0.009105210830542897, 0.4962339902645879, 0.04097344873744304, 0.355103222391173, 0.009105210830542897, 0.009105210830542897, 0.08649950289015752, 0.9902802525817302, 0.018210674260724865, 0.9651657358184179, 0.20647262498667054, 0.17480504446724254, 0.030400877298650878, 0.20773932820744767, 0.15580449615558575, 0.08486911579206703, 0.1013362576621696, 0.030400877298650878, 0.0063335161038856, 0.8443593400065672, 0.69381604780757, 0.0770906719786189, 0.1541813439572378, 0.020319507011267883, 0.9753363365408584, 0.02031963011969383, 0.9753422457453037, 0.9949637571367562, 0.663967866818599, 0.9864318439590714, 0.25817102747782833, 0.5163420549556567, 0.5123041670971287, 0.25615208354856434, 0.06859326147167048, 0.9191497037203845, 0.006859326147167048, 0.06859343872509475, 0.9191520789162697, 0.006859343872509475, 0.246825844627641, 0.13067250597933935, 0.09981927540088423, 0.18693427938711046, 0.0671511489060494, 0.0816703162370871, 0.07804052440432767, 0.0689660448224291, 0.025408542829315987, 0.014519167331037707, 0.686123637814806, 0.007457865628421804, 0.29085675950845036, 0.014915731256843609, 0.2984502412955482, 0.07155824498899109, 0.09017502417311885, 0.022107425281151716, 0.16929633570566183, 0.0017453230485119777, 0.2425999037431649, 0.09192034722163082, 0.011053712640575858, 0.971351129744899, 0.27046057720023803, 0.08605563820007572, 0.012293662600010817, 0.036880987800032454, 0.4425718536003895, 0.09834930080008654, 0.036880987800032454, 0.9870535571089619, 0.30025380317294, 0.05838268395029389, 0.10008460105764666, 0.03961682125198514, 0.14387161402036708, 0.27523265290852833, 0.07714854664860264, 0.0020850958553676386, 0.6516260235098632, 0.02961936470499378, 0.11847745881997512, 0.08885809411498134, 0.11847745881997512, 0.7523946849048715, 0.02800995525034245, 0.35712692944186625, 0.014004977625171226, 0.560199105006849, 0.03501244406292806, 0.9870535571087761, 0.8713016417315225, 0.12447166310450321, 0.848942748697058, 0.8079578662948268, 0.37026637997682227, 0.6016828674623361, 0.7408967742700092, 0.1852241935675023, 0.09004973183786961, 0.8104475865408266, 0.7389898119267411, 0.0011957763947034645, 0.0035873291841103934, 0.2558961484665414, 0.684770615654361, 0.29347312099472617, 0.02445609341622718, 0.9622764286878559, 0.7418704283187295, 0.027476682530323315, 0.23355180150774818, 0.9566234025058331, 0.6865806543599053, 0.013731613087198108, 0.28836387483116027, 0.7356141491763981, 0.2593783994205797, 0.9780644227711991, 0.7481905020125279, 0.12469841700208799, 0.7975213367446518, 0.19748147386058046, 0.797520383793034, 0.19748123789160843, 0.44751893616422117, 0.16687146772225198, 0.03792533357323908, 0.07079395600337962, 0.08596408943267525, 0.08090737828957671, 0.09354915614732306, 0.010113422286197089, 0.0025283555715492722, 0.2588414814738855, 0.7333841975093423, 0.5583172288481256, 0.04731501939390895, 0.04731501939390895, 0.15140806206050864, 0.11355604654538147, 0.07570403103025432, 0.5447018228466256, 0.40135923788698724, 0.05733703398385532, 0.807958366172941, 0.06566373376934104, 0.7660768939756454, 0.04377582251289402, 0.08755164502578804, 0.03283186688467052, 0.06566502682627946, 0.766091979639927, 0.04377668455085297, 0.08755336910170594, 0.03283251341313973, 0.021612544714343256, 0.014408363142895503, 0.007204181571447752, 0.7708474281449095, 0.1801045392861938, 0.014507762365528119, 0.014507762365528119, 0.007253881182764059, 0.7834191677385184, 0.17409314838633744, 0.2492322068536958, 0.4984644137073916, 0.7577577937363394, 0.5375455342246156, 0.25733562808625216, 0.10293425123450085, 0.01143713902605565, 0.01143713902605565, 0.0686228341563339, 0.01143713902605565, 0.7577495413775623, 0.6053176767587529, 0.20953304195495293, 0.09312579642442352, 0.02328144910610588, 0.05432338124758039, 0.007760483035368627, 0.923319307113404, 0.019705260291134456, 0.3567689231658028, 0.060152899836094655, 0.004148475850765148, 0.17942158054559268, 0.1846071753590491, 0.06119001879878594, 0.10578613419451129, 0.002074237925382574, 0.025927974067282176, 0.0014312871506035102, 0.4580118881931232, 0.045801188819312326, 0.00429386145181053, 0.23616237984957916, 0.01717544580724212, 0.04723247596991584, 0.1717544580724212, 0.0028625743012070204, 0.015744158656638613, 0.023816625852618824, 0.9479017089342292, 0.028579951023142588, 0.004763325170523765, 0.004639909096201803, 0.02165290911560841, 0.03866590913501502, 0.31706045490712315, 0.23818200027169253, 0.026292818211810214, 0.3495398185805358, 0.0015466363654006007, 0.02613303456376495, 0.12543856590607178, 0.08885231751680084, 0.1672514212080957, 0.5906065811410879, 0.002192251068436275, 0.0175380085474902, 0.374874932702603, 0.087690042737451, 0.04165277030028923, 0.47352623078223544, 0.12492877448098023, 0.11283889307959505, 0.044329565138412345, 0.49568513745679255, 0.028209723269898762, 0.024179762802770368, 0.11283889307959505, 0.00805992093425679, 0.052389486072669134, 0.9292753729086884, 0.9123709049411363, 0.17110990967147727, 0.6844396386859091, 0.9062067051341739, 0.9262319363816702, 0.8018738618155815, 0.2820907812187271, 0.11910499651457367, 0.04388078818957977, 0.539106826329123, 0.018806052081248473, 0.2821024478926487, 0.11284097915705948, 0.04388260300552314, 0.5391291226392843, 0.018806829859509915, 0.06895643752844066, 0.4367241043467909, 0.47120232311101123, 0.16540886552483833, 0.6616354620993533, 0.4088960961774786, 0.5111201202218483, 0.37007008260656665, 0.55510512390985, 0.09067016190418861, 0.36268064761675445, 0.4533508095209431, 0.9589000664560222, 0.0977942277571401, 0.0651961518380934, 0.0434641012253956, 0.0977942277571401, 0.2281865314333269, 0.3042487085777692, 0.1521243542888846, 0.0108660253063489, 0.8057625850315402, 0.13429376417192337, 0.0836576463499833, 0.8923482277331553, 0.7198081535026687, 0.11996802558377813, 0.04798721023351125, 0.04798721023351125, 0.04798721023351125, 0.023993605116755624, 0.041378006413565795, 0.9103161410984474, 0.5498589252708923, 0.2921125540501615, 0.14605627702508076, 0.3366591813800076, 0.5049887720700114, 0.6742376347879183, 0.8259700119985327, 0.48585224509089714, 0.02112401065612596, 0.2365889193486108, 0.10562005328062982, 0.02112401065612596, 0.10984485541185501, 0.02112401065612596, 0.485853108681251, 0.021124048203532652, 0.2365893398795657, 0.10562024101766326, 0.021124048203532652, 0.10984505065836979, 0.021124048203532652, 0.6635295569598283, 0.785485751386442, 0.785485751386442, 0.785485751386442, 0.785485751386442, 0.0014312792902385874, 0.458009372876348, 0.0458009372876348, 0.0042938378707157625, 0.23616108288936694, 0.01717535148286305, 0.04723221657787339, 0.1717535148286305, 0.002862558580477175, 0.015744072192624463, 0.0014312694128144603, 0.4580062121006273, 0.04580062121006273, 0.004293808238443381, 0.23615945311438594, 0.017175232953773524, 0.047231890622877186, 0.17032106012492076, 0.0028625388256289207, 0.015743963540959062, 0.13586230982007086, 0.2131823235388104, 0.05191486635401082, 0.10272516108346821, 0.13144402332185717, 0.11045716245534216, 0.08394744346606005, 0.13365316657096402, 0.025405147364728698, 0.011045716245534217, 0.0877798746110057, 0.26333962383301707, 0.6144591222770398, 0.8079583216072632, 0.4977142153617485, 0.30989753031957923, 0.037563337008433846, 0.15025334803373538, 0.8805560790761363, 0.7577504347057223, 0.023816563829895603, 0.947899240429845, 0.028579876595874725, 0.002192269714820018, 0.017538157718560144, 0.3748781212342231, 0.08769078859280072, 0.04165312458158034, 0.4735302584011239, 0.485847302374202, 0.021123795755400087, 0.23658651246048096, 0.10561897877700042, 0.021123795755400087, 0.10984373792808044, 0.021123795755400087, 0.08564384308408532, 0.003892901958367514, 0.054500627417145196, 0.136251568542863, 0.08953674504245283, 0.17907349008490567, 0.25693152925225593, 0.1946450979183757, 0.7523945409846351, 0.024383155778319336, 0.17068209044823535, 0.08534104522411767, 0.33730032160008416, 0.04876631155663867, 0.008127718592773113, 0.3129171658217648, 0.012191577889159668, 0.024383560248115065, 0.17068492173680547, 0.08534246086840273, 0.33730591676559174, 0.04876712049623013, 0.008127853416038356, 0.3129223565174767, 0.012191780124057533, 0.13984173609469988, 0.7500602208715721, 0.06356442549759085, 0.03813865529855451, 0.9772131845028983, 0.0012336891111391535, 0.546524276234645, 0.004934756444556614, 0.0012336891111391535, 0.354068774896937, 0.0012336891111391535, 0.006168445555695767, 0.08389085955746244, 0.0012336835489846166, 0.5465218122001851, 0.0049347341959384665, 0.0012336835489846166, 0.35406717855858494, 0.0012336835489846166, 0.006168417744923082, 0.08389048133095392, 0.9584943849985669, 0.6689970434318914, 0.6689970434318914, 0.013215845954409363, 0.9845805236034975, 0.9923290629739503, 0.9662008448340941, 0.9016516218956793, 0.9043066259022307, 0.7513162545685387, 0.16695916768189747, 0.2667632457995654, 0.006586746809865812, 0.06422078139619167, 0.1366749963047156, 0.35239095432782097, 0.13996836970964852, 0.01646686702466453, 0.006586746809865812, 0.009880120214798718, 0.26676071228118503, 0.00658668425385642, 0.06422017147510009, 0.13832036933098482, 0.3523876075813185, 0.13996704039444893, 0.01646671063464105, 0.00658668425385642, 0.00988002638078463, 0.07270983583743611, 0.19389289556649628, 0.4726139329433347, 0.1413802363505702, 0.012118305972906017, 0.024236611945812035, 0.020197176621510028, 0.016157741297208022, 0.02827604727011404, 0.012118305972906017, 0.8832008297620253, 0.13984176333270606, 0.7500603669663325, 0.06356443787850276, 0.03813866272710165, 0.08438618708244959, 0.06904324397654966, 0.32987327677684836, 0.007671471552949962, 0.18411531727079908, 0.32987327677684836, 0.4974259116331828, 0.23373024763486902, 0.03895504127247817, 0.008989624909033423, 0.005993083272688949, 0.08090662418130082, 0.06892045763592292, 0.056934291090545014, 0.005993083272688949, 0.5396448405112594, 0.03137470002972438, 0.2572725402437399, 0.1223613301159251, 0.006274940005944876, 0.03137470002972438, 0.006274940005944876, 0.006274940005944876, 0.03451294531151687, 0.9663624687224723, 0.09681484591826106, 0.08542486404552446, 0.10061150654250658, 0.2562745921365734, 0.011389981872736595, 0.10061150654250658, 0.242986279951714, 0.09871317623038382, 0.005694990936368298, 0.9801834437118547, 0.006578412373905065, 0.006578412373905065, 0.4620784427298665, 0.10906199269400575, 0.022960419514527527, 0.07462136342221447, 0.15785288416237675, 0.022960419514527527, 0.02870052439315941, 0.07175131098289853, 0.037310681711107234, 0.017220314635895646, 0.014912188560336936, 0.10438531992235855, 0.0029824377120673874, 0.13122725933096505, 0.08052581822581946, 0.16105163645163892, 0.26841939408606486, 0.2087706398447171, 0.0238595016965391, 0.014507709392281586, 0.014507709392281586, 0.007253854696140793, 0.7834163071832057, 0.17409251270737902, 0.3649734274167432, 0.5259911159829534, 0.04293805028432273, 0.010734512571080683, 0.053672562855403415, 0.1662680790656075, 0.153227445413403, 0.08313403953280375, 0.26733298987019244, 0.06520316826102256, 0.04401213857619022, 0.15159736620687742, 0.03260158413051128, 0.037491821750087966, 0.27727923154480233, 0.16249159267948093, 0.13863961577240116, 0.08199117061808671, 0.08050042206139423, 0.06857443360785434, 0.16100084412278845, 0.025342725463772257, 0.002981497113384971, 0.7138531051768625, 0.2745588866064856, 0.17293263192190325, 0.12105284234533227, 0.17293263192190325, 0.5015046325735194, 0.04521032325111399, 0.1733062391292703, 0.015070107750371329, 0.5801991483892961, 0.05274537712629965, 0.12056086200297063, 0.007535053875185664, 0.007535053875185664, 0.9292753364915604, 0.1277476228659588, 0.060116528407510035, 0.03757283025469377, 0.39827200069975394, 0.060116528407510035, 0.31561177413942765, 0.026132474291179122, 0.12543587659765978, 0.08885041259000902, 0.16724783546354638, 0.5905939189806482, 0.08856019298254833, 0.30996067543891914, 0.5977813026322012, 0.9511300240666307, 0.05243434919607553, 0.10486869839215106, 0.05243434919607553, 0.7340808887450574, 0.789676061089589, 0.08438565271312193, 0.06904280676528159, 0.32987118787856756, 0.007671422973920175, 0.1841141513740842, 0.32987118787856756, 0.14402879235251267, 0.7201439617625633, 0.7523962494140015, 0.009833172997934268, 0.0014047389997048952, 0.022475823995278324, 0.07445116698435945, 0.2767335829418644, 0.12502177097373568, 0.1222122929743259, 0.3680416179226826, 0.010989477018011166, 0.0329684310540335, 0.3249745346754731, 0.10832484489182437, 0.08791581614408933, 0.43329937956729747, 0.06859340610690078, 0.9191516418324703, 0.006859340610690078, 0.06859319099107923, 0.9191487592804618, 0.006859319099107923, 0.6689964524458393, 0.6689964524458397, 0.8079616493880728, 0.17350956473871954, 0.6940382589548781, 0.6864695266520411, 0.8018742450242815, 0.7523948520279968, 0.7514532849010492, 0.7936088236274442, 0.023816706211757552, 0.9479049072279505, 0.02858004745410906, 0.00476334124235151, 0.02381670259364839, 0.9479047632272058, 0.028580043112378068, 0.004763340518729678, 0.9870535571093096, 0.9870535571089804, 0.9016515973036168, 0.695836505206653, 0.695836505206653, 0.10199071047266944, 0.5099535523633472, 0.30597213141800833, 0.6689964882438799, 0.41389364754751146, 0.24614820448860816, 0.05469960099746848, 0.03099644056523214, 0.02552648046548529, 0.09663596176219431, 0.07840276142970481, 0.05105296093097058, 0.0036466400664978984, 0.6054670268753125, 0.20958474007222355, 0.10091117114588542, 0.023287193341358172, 0.046574386682716344, 0.015524795560905448, 0.49046838662300096, 0.027954156750533733, 0.31766087216515604, 0.1041927660701712, 0.020330295818569988, 0.025412869773212485, 0.01778900884124874, 0.8694273753554025, 0.11703830052861186, 0.5298608885382906, 0.04755161820215428, 0.10189632471890205, 0.2649304442691453, 0.027172353258373878, 0.027172353258373878, 0.6861252838305723, 0.0074578835198975246, 0.29085745727600343, 0.014915767039795049, 0.7523946830774063, 0.34359590159629116, 0.4581278687950549, 0.11453196719876373, 0.6742372118495636, 0.7445625755097369, 0.6230429043545074, 0.12114723140226531, 0.01730674734318076, 0.05192024202954228, 0.060573615701132656, 0.11249385773067494, 0.6232174206231007, 0.12118116512115847, 0.008655797508654176, 0.06059058256057923, 0.06059058256057923, 0.11252536761250428, 0.6689968179071871, 0.6635355881184811, 0.010989462595967222, 0.03296838778790167, 0.3249741081950307, 0.10832470273167691, 0.08791570076773778, 0.43329881092670763, 0.010989529644785714, 0.03296858893435714, 0.32497609092437757, 0.10832536364145919, 0.08791623715828571, 0.43330145456583674, 0.16877329480470418, 0.5661214455653857, 0.05182801966443672, 0.15681298257444956, 0.002657847162278806, 0.05182801966443672, 0.001328923581139403, 0.1687785097236428, 0.5661389381281247, 0.053158585739730015, 0.15681782793220356, 0.0039868939304797514, 0.050500656452743514, 0.0013289646434932504, 0.3818863607943223, 0.1813960213773031, 0.17184886235744504, 0.12172627750319023, 0.050122584854254804, 0.023867897549645144, 0.0167075282847516, 0.004773579509929029, 0.050122584854254804, 0.15914452363018386, 0.13676482499468925, 0.11189849317747302, 0.0870321613602568, 0.029839598180659472, 0.09946532726886491, 0.11438512635919465, 0.09946532726886491, 0.0547059299978757, 0.11189849317747302, 0.27646843628450235, 0.1722442241931225, 0.06472872119359381, 0.1316516363259535, 0.09654453330569923, 0.06911710907112559, 0.10970969693829459, 0.03839839392840311, 0.01316516363259535, 0.027427424234573648, 0.7086512347898587, 0.20247178136853106, 0.10123589068426553, 0.10053879635779467, 0.7037715745045626, 0.10053879635779467, 0.9744946955860468, 0.03451293291044332, 0.966362121492413, 0.26726873406037027, 0.1628188839678118, 0.13824244865191568, 0.06451314270422731, 0.01843232648692209, 0.11981012216499358, 0.20889970018511703, 0.015360272072435075, 0.3266490332144525, 0.017192054379708024, 0.07736424470868611, 0.008596027189854012, 0.12034438065795618, 0.40401327792313857, 0.03438410875941605, 0.12549320982054363, 0.0991551287470962, 0.10225372652044296, 0.2060567519275593, 0.018591586640080537, 0.127042508707217, 0.24323992520772036, 0.07591564544699553, 0.004647896660020134, 0.08037225486657082, 0.06429780389325666, 0.1366328332731704, 0.2129864753964127, 0.0884094803532279, 0.3496193086695831, 0.06429780389325666, 0.11470175827678968, 0.0967796085460413, 0.06810416897684388, 0.3046765454227226, 0.02867543956919742, 0.11111732833064, 0.1433771978459871, 0.12545504811523872, 0.007168859892299355, 0.16876775928745205, 0.5661028776098785, 0.050497439786796675, 0.15680783933794756, 0.003986639983168158, 0.05182631978118606, 0.0013288799943893862, 0.16877256664131393, 0.5661190030645648, 0.05182779605520664, 0.15681230601318932, 0.003986753542708203, 0.05182779605520664, 0.001328917847569401, 0.015374307375479079, 0.002365278057766012, 0.01773958543324509, 0.02720069766430914, 0.23771044480548423, 0.3133993426539966, 0.09106320522399146, 0.2932944791629855, 0.001182639028883006, 0.023816606640486137, 0.9479009442913483, 0.028579927968583364, 0.010989505700825875, 0.032968517102477626, 0.32497538286727945, 0.10832512762242649, 0.087916045606607, 0.43330051048970597, 0.980183518030822, 0.006578412872690081, 0.006578412872690081, 0.9866982202444743, 0.9667242179052343, 0.010176044399002467, 0.010176044399002467, 0.6864693480475109, 0.6864696410950164, 0.674237789374243, 0.7897096521325416, 0.1128156645903631, 0.7451141742073057, 0.7735693198669892, 0.5034709213152372, 0.5034709213152372, 0.6864695266520411, 0.8259707212955537, 0.7451136882624315, 0.75774955919801, 0.7577490634726856, 0.7445625755097369, 0.8018735372774941, 0.6742377893742433, 0.8838262159994338, 0.08034783781813035, 0.8652933913665324, 0.8413796198323998, 0.7523941644337316, 0.7896689199970909, 0.20647973744185807, 0.17481106605507002, 0.030401924531316526, 0.2090132311528011, 0.1558098632229972, 0.08487203931659197, 0.10133974843772176, 0.029135177675845003, 0.0076004811328291315, 0.28560357927068947, 0.09217893299212729, 0.08008989259971715, 0.01662243053956394, 0.2236472472595875, 0.24933645809345906, 0.04533390147153801, 0.009066780294307603, 0.7339741313341966, 0.0028229774282084487, 0.0028229774282084487, 0.2597139233951773, 0.13585997325765478, 0.2131786572254258, 0.05191397352121768, 0.10272339441432435, 0.13144176274521074, 0.11045526281110146, 0.08394599973643711, 0.13365086800143275, 0.025404710446553336, 0.011045526281110146, 0.24899396133814797, 0.1496842310934531, 0.14824495964063145, 0.0071963572641083225, 0.16407694562166975, 0.12521661639548481, 0.030224700509254954, 0.10794535896162484, 0.01583198598103831, 0.216218674679112, 0.2739665194691854, 0.010743785077222956, 0.15175596421577425, 0.02283054328909878, 0.12623947465736973, 0.0013429731346528695, 0.19473110452466608, 0.002685946269305739, 0.044051673799219114, 0.9471109866832109, 0.04521253176639172, 0.1733147051045016, 0.015070843922130572, 0.5802274910020271, 0.052747953727457005, 0.12056675137704458, 0.007535421961065286, 0.04520758772128973, 0.17329575293161065, 0.015069195907096577, 0.5726294444696699, 0.05274218567483802, 0.12055356725677262, 0.007534597953548289, 0.007534597953548289, 0.785485751386442, 0.15914382228577612, 0.13676422227683885, 0.11189800004468634, 0.08703177781253381, 0.02983946667858302, 0.09946488892861008, 0.11438462226790158, 0.09946488892861008, 0.05470568891073554, 0.11189800004468634, 0.17001682681710298, 0.510050480451309, 0.2550252402256545, 0.2556153541069042, 0.5623537790351893, 0.15336921246414253, 0.9845498976849053, 0.10077215003316715, 0.2015443000663343, 0.05038607501658358, 0.5542468251824194, 0.10077215003316715, 0.9781432882117785, 0.695836505206653, 0.4621204865717601, 0.10907191608526014, 0.02296250864952845, 0.07462815311096746, 0.1578672469655081, 0.025832822230719508, 0.025832822230719508, 0.07175783952977641, 0.03731407655548373, 0.01722188148714634, 0.8652938429331603, 0.8838262164483125, 0.0803478378589375, 0.8838262157176944, 0.08034783779251767, 0.8838262167758251, 0.08034783788871137, 0.8348130464585949, 0.7523945640188378, 0.8583181754340382, 0.19045693532982894, 0.19660070743724276, 0.08601280950379371, 0.3194761495855195, 0.17202561900758742, 0.03071886053706918, 0.04932035399618322, 0.01793467418043026, 0.8743153662959752, 0.04483668545107565, 0.004483668545107565, 0.00896733709021513, 0.02381669914058018, 0.9479046257950912, 0.028580038968696216, 0.004763339828116036, 0.8838262164977289, 0.0803478378634299, 0.8838262157256512, 0.08034783779324102, 0.9292753364946649, 0.9292753364933228, 0.17741090711510377, 0.21225947815557059, 0.09345753142670644, 0.1267220765107884, 0.19483519263533716, 0.023760389345772827, 0.06494506421177906, 0.09820960929586102, 0.011088181694693985, 0.6319519743696146, 0.12985314541841395, 0.06059813452859318, 0.06059813452859318, 0.12119626905718636, 0.35905538488568745, 0.0056767649784298406, 0.16888375810828776, 0.20578273046808174, 0.0028383824892149203, 0.06528279725194316, 0.1319847857484938, 0.00425757373382238, 0.048252502316653643, 0.0056767649784298406, 0.24682207372012152, 0.13067050961653492, 0.09981775040151973, 0.18693142347920969, 0.067150122997386, 0.08166906851033433, 0.07803933213209724, 0.06896499118650454, 0.025408154647659567, 0.014518945512948325, 0.23198554867974078, 0.15465703245316054, 0.6186281298126421, 0.9586914233729782, 0.695836505206653, 0.8652938429570289, 0.9772131845028982, 0.6740605158919123, 0.9495331664496879, 0.7896749286768361, 0.6689968253320755, 0.6742375593508477, 0.6742375593508477, 0.0012336883588663276, 0.5465239429777832, 0.004934753435465311, 0.0012336883588663276, 0.354068558994636, 0.0012336883588663276, 0.006168441794331638, 0.08389080840291027, 0.001233694784584605, 0.54652678957098, 0.00493477913833842, 0.001233694784584605, 0.35407040317578165, 0.001233694784584605, 0.006168473922923025, 0.08389124535175314, 0.896555927275754, 0.11206949090946924, 0.8831864238495691, 0.15914047749020527, 0.13676134784314514, 0.11189564823530057, 0.087029948627456, 0.029838839529413484, 0.09946279843137829, 0.11438221819608503, 0.09946279843137829, 0.054704539137258056, 0.11189564823530057, 0.6666327961243087, 0.02563972292785803, 0.23075750635072226, 0.05127944585571606, 0.6635300396303087, 0.014507805803050356, 0.014507805803050356, 0.007253902901525178, 0.7834215133647192, 0.17409366963660425, 0.014507684071407246, 0.014507684071407246, 0.007253842035703623, 0.7834149398559913, 0.17409220885688695, 0.3649759690319221, 0.5259947788989465, 0.042938349297873185, 0.010734587324468296, 0.05367293662234148, 0.3649762272564782, 0.525995151046101, 0.04293837967723273, 0.010734594919308182, 0.05367297459654091, 0.024383390640894675, 0.1666198360461136, 0.08534186724313136, 0.3373035705323763, 0.04876678128178935, 0.008127796880298225, 0.31292017989148163, 0.012191695320447338, 0.36498240742632876, 0.5260040577614737, 0.053673883445048344, 0.010734776689009668, 0.053673883445048344, 0.03900914073418485, 0.032507617278487375, 0.09752285183546212, 0.2080487505823192, 0.09752285183546212, 0.4876142591773106, 0.032507617278487375, 0.06583447109794817, 0.05851952986484282, 0.1682436483614231, 0.1865310014441865, 0.09509423603036958, 0.3401447673393989, 0.08412182418071155, 0.7577489903133003, 0.2743935853521596, 0.04988974279130174, 0.6236217848912717, 0.7896768290235163, 0.31216540497001644, 0.11225125863647852, 0.16410064953047096, 0.023519311333357402, 0.12133826528800296, 0.11225125863647852, 0.0331408477879127, 0.09728442415161472, 0.02405384113638825, 0.8899071194060272, 0.08682020677131973, 0.3732657862888424, 0.09193738578542916, 0.18019727613944117, 0.09193738578542916, 0.07171116091263476, 0.07354990862834333, 0.027581215735628748, 0.08458239492259483, 0.00551624314712575, 0.8603345108790444, 0.11731834239259697, 0.4803389648889501, 0.0847656996862853, 0.009418411076253923, 0.02825523322876177, 0.018836822152507846, 0.3390627987451412, 0.009418411076253923, 0.02825523322876177, 0.9213579667716834, 0.034124369139691975, 0.5467993062554236, 0.4206148509657105, 0.01682459403862842, 0.00841229701931421, 0.1821529310110325, 0.364305862022065, 0.364305862022065, 0.23788777371299905, 0.07993029196756768, 0.14082956203809543, 0.19411642334980722, 0.0247403284661519, 0.11608923357194353, 0.053286861311711786, 0.1465388686072074, 0.0076124087588159695, 0.23788705787349237, 0.07993005144549344, 0.1408291382611075, 0.19411583922476977, 0.024740254018843208, 0.11608888424226428, 0.05328670096366229, 0.1465384276500713, 0.007612385851951756, 0.24762881516922586, 0.23586243518278316, 0.01069670907858427, 0.1861227379673663, 0.01818440543359326, 0.12996501530479887, 0.0016045063617876405, 0.1620551425405517, 0.0016045063617876405, 0.006418025447150562, 0.6713801133489106, 0.043314846022510366, 0.28154649914631735, 0.931315739044867, 0.031043857968162232, 0.578442842887949, 0.14139713937260975, 0.2699399933477095, 0.012854285397509976, 0.2572836839084557, 0.2549232831386533, 0.009441603079209382, 0.27144608852726976, 0.014162404618814075, 0.08733482848268678, 0.0023604007698023455, 0.09441603079209382, 0.011802003849011727, 0.41679401728211085, 0.03969466831258199, 0.5358780222198568, 0.9169988216878283, 0.9636562232129812, 0.7228389380929393, 0.09891480205482328, 0.18261194225505836, 0.09914641244434899, 0.09914641244434899, 0.7931712995547919, 0.16626770665857918, 0.15322710221476904, 0.08313385332928959, 0.2673323910981077, 0.06520302221905065, 0.044012039997859194, 0.15159702665929278, 0.030971435554049062, 0.037491737775954125, 0.14400161981505435, 0.15272899071293644, 0.058909753560704055, 0.3120035095992844, 0.06327343900964509, 0.05672791083623353, 0.11345582167246707, 0.05672791083623353, 0.03927316904046937, 0.09282372974378807, 0.07425898379503044, 0.1485179675900609, 0.19492983246195494, 0.4455539027701827, 0.03712949189751522, 0.31297588033693446, 0.14022216860973766, 0.0818897464680868, 0.10544707079452273, 0.08862041056135421, 0.06506308623491827, 0.1749972664249526, 0.019070214930924322, 0.010095996139901113, 0.0011217773488779014, 0.2791593216845019, 0.16133233525922513, 0.14683055231457567, 0.09244886627214025, 0.08882342053597787, 0.04169262596586717, 0.14683055231457567, 0.0380671802297048, 0.005438168604243543, 0.825770574670638, 0.17384643677276587, 0.8507154141660231, 0.11734005712634801, 0.3590487645262251, 0.005676660308715021, 0.17029980926145064, 0.2057789361909195, 0.0028383301543575103, 0.06528159355022274, 0.13198235217762425, 0.004257495231536266, 0.04825161262407768, 0.005676660308715021, 0.38076059871122125, 0.006012009453335072, 0.1963923088089457, 0.18036028360005216, 0.0040080063022233815, 0.05210408192890396, 0.12024018906670145, 0.0020040031511116907, 0.05210408192890396, 0.006012009453335072, 0.0645387760807989, 0.795978238329853, 0.0053782313400665745, 0.10218639546126493, 0.026891156700332874, 0.06842198773020898, 0.9236968343578212, 0.9595550345457333, 0.031985167818191114, 0.05110269778672929, 0.9453999090544918, 0.17175392313918278, 0.6870156925567311, 0.9292754416908287, 0.043528048105012186, 0.0031091462932151563, 0.954507912017053, 0.7083728872418297, 0.23612429574727656, 0.9668669074763104, 0.8018739882194058, 0.07949724678990662, 0.8744697146889727, 0.16787887501894622, 0.755454937585258, 0.011771665462561934, 0.9652765679300787, 0.8269077617538715, 0.886565856455205, 0.8971254629244959, 0.8420957871186036, 0.15633326141010082, 0.8129329593325242, 0.8414102024526685, 0.757749191405801, 0.713852545367452, 0.27455867129517386, 0.7138527799731613, 0.27455876152813896, 0.8507138445025104, 0.11733984062103592, 0.8507164272215818, 0.11734019685814923, 0.03451291086263481, 0.9663615041537749, 0.9047690427781014, 0.17293080824906232, 0.12105156577434362, 0.17293080824906232, 0.5014993439222807, 0.021254041547269762, 0.19128637392542786, 0.23379445701996737, 0.5526050802290138, 0.4064352025911636, 0.025805409688327847, 0.18063786781829494, 0.1075225403680327, 0.1075225403680327, 0.12472614682691793, 0.01075225403680327, 0.02150450807360654, 0.015053155651524578, 0.01098951490698102, 0.032968544720943065, 0.3249756551064387, 0.10832521836881291, 0.08791611925584816, 0.43330087347525165, 0.16877198193832108, 0.5661170417773604, 0.051827616500744265, 0.15681176274584163, 0.003986739730826482, 0.051827616500744265, 0.0013289132436088275, 0.16877511211525287, 0.5661275414259662, 0.05182857773618001, 0.15681467109921132, 0.003986813672013847, 0.05182857773618001, 0.0013289378906712823, 0.9667242666593416, 0.010176044912203596, 0.010176044912203596, 0.6639671983386787, 0.9118641471117238, 0.03799433946298849, 0.03799433946298849, 0.9405203740693303, 0.9271697795183177, 0.030905659317277255, 0.8089813771897592, 0.08988681968775102, 0.0012336807187410999, 0.5477542391210484, 0.0049347228749643994, 0.0012336807187410999, 0.35406636627869564, 0.0012336807187410999, 0.006168403593705499, 0.08389028887439479, 0.0012336902819569382, 0.5465247949069236, 0.004934761127827753, 0.0012336902819569382, 0.3540691109216413, 0.0012336902819569382, 0.0061684514097846916, 0.0838909391730718, 0.36705052102052915, 0.1898537177692392, 0.19301794639872655, 0.10758377340256889, 0.06803091553397739, 0.020567486091667583, 0.0079105715737183, 0.00632845725897464, 0.04271708649807882, 0.6701431589888834, 0.12887368442093913, 0.2061978950735026, 0.9713541694610266, 0.38187822100637475, 0.18139215497802802, 0.17184519945286864, 0.12172368294578195, 0.05012151650708669, 0.023867388812898422, 0.016707172169028894, 0.004773477762579684, 0.05012151650708669, 0.25164240945495026, 0.7045987464738607, 0.9486397771878073, 0.1965841730050968, 0.1965841730050968, 0.08600557568972986, 0.3194492811332823, 0.17201115137945971, 0.030716277032046376, 0.8992316145927216, 0.6416705017382781, 0.2566682006953112, 0.0641670501738278, 0.3400138933228718, 0.056668982220478635, 0.3966828755433504, 0.1700069466614359, 0.6689986445833473, 0.7391736052127663, 0.25137887788612295, 0.0059852113782410225, 0.33214102243484217, 0.6642820448696843, 0.737926793600164, 0.2213780380800492, 0.02459755978667213, 0.026132567579408527, 0.12543632438116092, 0.08885072976998899, 0.16724843250821456, 0.5905960272946327, 0.09013498213011337, 0.6150387015937148, 0.29161317747977855, 0.6197766357558637, 0.012395532715117273, 0.17353745801164183, 0.18593299072675912, 0.01491242254247741, 0.10438695779734188, 0.002982484508495482, 0.13122931837380122, 0.08052708172937802, 0.16105416345875603, 0.2684236057645934, 0.20877391559468375, 0.023859876067963855, 0.21202064642781304, 0.7950774241042989, 0.0684218251134336, 0.9236946390313535, 0.20120891448642553, 0.6036267434592766, 0.7523941644337453, 0.6766394321392893, 0.16915985803482234, 0.8079584194629129, 0.668996389465581, 0.785485751386442, 0.785485751386442, 0.3140886148536094, 0.0863743690847426, 0.039261076856701174, 0.533950645251136, 0.01570443074268047, 0.03852541209444504, 0.09356171508650937, 0.011007260598412867, 0.13208712718095442, 0.0990653453857158, 0.19262706047222516, 0.34122507855079887, 0.06053993329127077, 0.033021781795238604, 0.3728336752893775, 0.14517417444896116, 0.2045636094508089, 0.0824853263914552, 0.07588650028013878, 0.026395304445265666, 0.009898239166974625, 0.079185913335797, 0.6462449185587468, 0.006948870092029536, 0.33354576441741773, 0.006948870092029536, 0.6462407321539462, 0.006948825076924152, 0.3335436036923593, 0.006948825076924152, 0.1008656136006446, 0.18912302550120863, 0.04412870595028201, 0.4917198663031424, 0.04412870595028201, 0.1008656136006446, 0.012608201700080575, 0.02521640340016115, 0.04521431582259567, 0.17332154398661676, 0.01507143860753189, 0.5802503863899778, 0.052750035126361616, 0.12057150886025512, 0.007535719303765945, 0.14320955840562488, 0.21481433760843732, 0.5728382336224995, 0.06841462119868721, 0.9235973861822775, 0.674237464533558, 0.2020583962869876, 0.6061751888609628, 0.8845332137250072, 0.36203966646258157, 0.6335694163095178, 0.785485751386442, 0.785485751386442, 0.0132158378493429, 0.984579919776046, 0.020319659898366746, 0.9753436751216037, 0.987053557108514, 0.20818999704752084, 0.6245699911425625, 0.3244880382656825, 0.06445310349112872, 0.16002149832280232, 0.08667831159151793, 0.024447728910428134, 0.197804352093464, 0.1044584780718293, 0.026670249720467054, 0.008890083240155685, 0.07958837370852043, 0.03979418685426021, 0.39794186854260216, 0.4377360553968624, 0.9643967862833318, 0.9292753364886341, 0.9292753364941531, 0.20818999487233467, 0.624569984617004, 0.20818996360163325, 0.6245698908048998, 0.6639672554933659, 0.6639672554933659, 0.12774855768075785, 0.06011696832035663, 0.037573105200222896, 0.3982749151223627, 0.06011696832035663, 0.3156140836818723, 0.12774715607351092, 0.06011630874047572, 0.037572692962797326, 0.39827054540565165, 0.06011630874047572, 0.31561062088749753, 0.4064403211250494, 0.025805734674606312, 0.18064014272224418, 0.10537341658797576, 0.10752389447752629, 0.1247277175939305, 0.012902867337303156, 0.02150477889550526, 0.015053345226853681, 0.40643872551457316, 0.025805633366004645, 0.18063943356203252, 0.10537300291118563, 0.10752347235835269, 0.1247272279356891, 0.012902816683002322, 0.019354225024503482, 0.015053286130169376, 0.7523944541378976, 0.28209480270710274, 0.11910669447633226, 0.04388141375443821, 0.5391145118402408, 0.018806320180473516, 0.2821002367341583, 0.11284009469366332, 0.04388225904753574, 0.5391248968697248, 0.018806682448943887, 0.7525947321888921, 0.752594732206162, 0.9949637571946707, 0.9949637571358488, 0.023816603287987938, 0.94790081086192, 0.028579923945585527, 0.004763320657597588, 0.02381662840319213, 0.9479018104470467, 0.028579954083830555, 0.0047633256806384255, 0.7580715967411066, 0.6742523689452766, 0.07530099180349233, 0.017377151954652073, 0.5966155504430546, 0.0231695359395361, 0.237487743380245, 0.0463390718790722, 0.807958392486057, 0.8803242540329723, 0.018122402774195044, 0.05436720832258513, 0.7248961109678017, 0.03624480554839009, 0.09061201387097521, 0.07248961109678018, 0.7451136236353325], \"Term\": [\"action\", \"action\", \"action\", \"action\", \"action\", \"action\", \"action\", \"action\", \"action\", \"action basically\", \"action basically\", \"action basically\", \"action basically\", \"action compared\", \"action compared\", \"action compared\", \"action compared\", \"action curve\", \"action curve\", \"action curve\", \"action curve\", \"action curve\", \"action dive\", \"action much\", \"action real\", \"action reminiscent\", \"action slider\", \"action slider\", \"action slider\", \"action slider\", \"action slider\", \"although\", \"although\", \"although\", \"although\", \"although\", \"although\", \"although\", \"although\", \"although\", \"although ha\", \"although ha\", \"although ha\", \"although ha\", \"although ha\", \"although ha\", \"although ha\", \"although ha\", \"although ha\", \"anderson\", \"anderson ha\", \"armside\", \"armside\", \"armside\", \"armside\", \"armside\", \"armside\", \"armside\", \"armside\", \"armside\", \"armside fade\", \"armside fade\", \"armside fade\", \"armside fade\", \"armside fade\", \"armside fade\", \"armside fade\", \"armside fade\", \"armside fade\", \"arrow blazing\", \"arrow extreme\", \"backspin\", \"backspin\", \"backspin\", \"backspin\", \"backspin\", \"backspin\", \"backspin\", \"backspin\", \"backspin cutter\", \"ball\", \"ball\", \"ball\", \"ball\", \"ball\", \"ball ha\", \"ball ha\", \"ball ha\", \"ball ha\", \"ball ha\", \"ball ha\", \"baseball\", \"baseball classic\", \"basically\", \"basically\", \"basically\", \"basically\", \"basically\", \"basically\", \"basically\", \"basically never\", \"basically never\", \"basically never\", \"basically never\", \"basically never\", \"basically never\", \"basically never\", \"bite\", \"bite\", \"bite\", \"bite\", \"bite\", \"bite\", \"bite\", \"bite basically\", \"bite change\", \"bite change\", \"bite change\", \"bite come\", \"bite come\", \"bite cutter\", \"bite fourseam\", \"bite fourseam\", \"bite generates\", \"bite ha\", \"bite ha\", \"bite ha\", \"bite ha\", \"bite ha\", \"bite ha\", \"bite much\", \"bite result\", \"bite result\", \"bite result\", \"bite slightly\", \"bite slightly\", \"bite slightly\", \"blazing\", \"blazing\", \"blazing\", \"blazing fast\", \"blazing fast\", \"blazing fast\", \"borderline\", \"borderline\", \"borderline unfair\", \"borderline unfair\", \"brandon\", \"brandon\", \"brandon\", \"brett\", \"change\", \"change\", \"change\", \"change\", \"change\", \"change\", \"change\", \"change\", \"change\", \"change basically\", \"change basically\", \"change basically\", \"change basically\", \"change come\", \"change dive\", \"change grip\", \"change grip\", \"change prototypical\", \"change real\", \"change real\", \"change take\", \"change take\", \"change take\", \"change take\", \"change take\", \"change take\", \"change take\", \"change thrown\", \"change using\", \"change using\", \"changeups\", \"changeups\", \"changeups\", \"changeups\", \"changeups\", \"changeups\", \"changeups\", \"changeups\", \"changeups\", \"changeups real\", \"changeups slider\", \"changeups slider\", \"changeups slider\", \"circle\", \"circle\", \"circle change\", \"circle change\", \"classic\", \"classic fall\", \"classic spring\", \"clayton\", \"clayton\", \"cody\", \"cody\", \"come\", \"come\", \"come\", \"come hitting\", \"come hitting\", \"come hitting\", \"compared rhp\", \"compared rhp\", \"compared rhp\", \"compared rhp\", \"compared rhp\", \"compared rhp\", \"compared rhp\", \"compared rhp\", \"compared rhp\", \"compared rhp\", \"compared true\", \"compared true\", \"compared true\", \"compared true\", \"curve\", \"curve\", \"curve\", \"curve\", \"curve\", \"curve\", \"curve\", \"curve\", \"curve\", \"curve come\", \"curve generates\", \"curve generates\", \"curve generates\", \"curve generates\", \"curve generates\", \"curve generates\", \"curve generates\", \"curve grip\", \"curve ha\", \"curve ha\", \"curve ha\", \"curve ha\", \"curve ha\", \"curve ha\", \"curve ha\", \"curve ha\", \"curve slightly\", \"curve slightly\", \"curve slightly\", \"curve slightly\", \"curve slightly\", \"curve slow\", \"curve take\", \"curve take\", \"curve take\", \"curve take\", \"curve take\", \"curve using\", \"cut change\", \"cut change\", \"cut curve\", \"cut fourseam\", \"cut ha\", \"cut ha\", \"cut much\", \"cut much\", \"cut result\", \"cut result\", \"cutter\", \"cutter\", \"cutter\", \"cutter\", \"cutter also\", \"cutter also\", \"cutter also\", \"cutter explodes\", \"cutter extreme\", \"cutter extreme\", \"cutter extreme\", \"cutter fourseam\", \"cutter generates\", \"cutter generates\", \"cutter generates\", \"cutter ha\", \"cutter ha\", \"cutter sinker\", \"cutter thrown\", \"cutter thrown\", \"cutting\", \"cutting\", \"cutting action\", \"cutting action\", \"depth\", \"depth\", \"depth\", \"depth\", \"depth\", \"depth\", \"depth\", \"depth\", \"depth\", \"depth extreme\", \"depth extreme\", \"depth ha\", \"depth ha\", \"depth ha\", \"depth ha\", \"depth ha\", \"depth ha\", \"depth slightly\", \"depth slightly\", \"depth slightly\", \"depth splitter\", \"dive\", \"dive\", \"dive\", \"dive\", \"dive\", \"dive zone\", \"dive zone\", \"dive zone\", \"dive zone\", \"dive zone\", \"downward\", \"downward\", \"downward\", \"downward\", \"downward\", \"downward bite\", \"downward bite\", \"downward bite\", \"downward bite\", \"downward bite\", \"dylan\", \"dylan\", \"erik\", \"expected\", \"expected\", \"expected\", \"expected\", \"expected\", \"expected\", \"expected\", \"expected curve\", \"expected depth\", \"expected depth\", \"expected depth\", \"expected depth\", \"expected depth\", \"expected depth\", \"expected generates\", \"extreme\", \"extreme\", \"extreme\", \"extreme\", \"extreme\", \"extreme\", \"extreme\", \"extreme\", \"extreme\", \"extreme\", \"extreme flyball\", \"extreme flyball\", \"extreme flyball\", \"extreme flyball\", \"extreme flyball\", \"extreme flyball\", \"extreme flyball\", \"extreme flyball\", \"extreme flyball\", \"extreme flyball\", \"extreme number\", \"extreme number\", \"extreme number\", \"extreme number\", \"extremely\", \"extremely\", \"extremely\", \"extremely\", \"extremely\", \"extremely\", \"extremely\", \"extremely\", \"extremely hard\", \"extremely hard\", \"extremely hard\", \"extremely hard\", \"extremely hard\", \"extremely high\", \"extremely high\", \"extremely high\", \"extremely high\", \"extremely high\", \"extremely high\", \"fade\", \"fade\", \"fade\", \"fade\", \"fade\", \"fade\", \"fade\", \"fade\", \"fade\", \"fade cutter\", \"fade dive\", \"fade extreme\", \"fade extreme\", \"fade generates\", \"fade result\", \"fade slightly\", \"fall\", \"fall\", \"fall\", \"fall\", \"fall\", \"fall winter\", \"fall winter\", \"fall winter\", \"fall winter\", \"fall winter\", \"fast\", \"fast\", \"fast\", \"fast extreme\", \"fast extreme\", \"fast generates\", \"fast generates\", \"fast result\", \"fast result\", \"fastball blazing\", \"fastball blazing\", \"fastball blazing\", \"fastball come\", \"fastball curve\", \"fastball curve\", \"fastball curve\", \"fastball curve\", \"fastball curve\", \"fastball curve\", \"fastball curve\", \"fastball curve\", \"fastball extreme\", \"fastball extreme\", \"fastball real\", \"fastball real\", \"fastball result\", \"fastball result\", \"fastball result\", \"fastball result\", \"fastball result\", \"fastball result\", \"fastball splitter\", \"fastball splitter\", \"fastball take\", \"fastball take\", \"fastball take\", \"fastball thrown\", \"fastball thrown\", \"felipe\", \"fernando\", \"fewer\", \"fewer\", \"fewer\", \"fewer\", \"fewer\", \"fewer\", \"fewer\", \"fewer whiff\", \"fewer whiff\", \"fewer whiff\", \"fewer whiff\", \"fewer whiff\", \"fewer whiff\", \"fewer whiff\", \"flaherty\", \"float\", \"float unpredictably\", \"flutter\", \"flutter float\", \"flyball\", \"flyball\", \"flyball\", \"flyball\", \"flyball\", \"flyball\", \"flyball\", \"flyball\", \"flyball\", \"flyball\", \"flyball pitch\", \"flyball pitch\", \"flyball pitch\", \"flyball pitch\", \"flyball pitch\", \"flyball pitch\", \"flyball pitch\", \"flyball pitch\", \"flyball pitch\", \"flyball pitch\", \"fourseamers\", \"fourseamers\", \"fourseamers\", \"fourseamers\", \"fourseamers\", \"fourseamers\", \"fourseamers\", \"fourseamers\", \"fourseamers\", \"fourseamers\", \"fourseamers blazing\", \"fourseamers blazing\", \"fourseamers blazing\", \"fourseamers explodes\", \"fourseamers extreme\", \"fourseamers extreme\", \"fourseamers extreme\", \"fourseamers extreme\", \"fourseamers thrown\", \"francisco\", \"generates extreme\", \"generates extreme\", \"generates extreme\", \"generates extremely\", \"generates extremely\", \"generates extremely\", \"generates extremely\", \"generates extremely\", \"generates extremely\", \"generates fewer\", \"generates fewer\", \"generates fewer\", \"generates fewer\", \"generates fewer\", \"generates fewer\", \"generates fewer\", \"generates high\", \"generates high\", \"generates high\", \"generates high\", \"generates high\", \"generates high\", \"generates high\", \"generates high\", \"german\", \"glove\", \"glove\", \"glove\", \"glove\", \"glove\", \"glove\", \"glove\", \"glove\", \"glove side\", \"glove side\", \"glove side\", \"glove side\", \"glove side\", \"glove side\", \"glove side\", \"glove side\", \"good\", \"good\", \"good\", \"good\", \"good rise\", \"grain\", \"grain\", \"grain\", \"grain\", \"grain\", \"grain\", \"grain\", \"grain\", \"grain salt\", \"grain salt\", \"grain salt\", \"grain salt\", \"grain salt\", \"grain salt\", \"grain salt\", \"grain salt\", \"gravitational ha\", \"gray\", \"gray ha\", \"grip\", \"grip\", \"grip also\", \"grip basic\", \"grip change\", \"grip fourseam\", \"grip slider\", \"grip slider\", \"groundball\", \"groundball\", \"groundball\", \"groundball\", \"groundball\", \"groundball\", \"groundball\", \"groundball\", \"groundball\", \"groundball compared\", \"groundball compared\", \"groundball compared\", \"groundball compared\", \"groundball compared\", \"groundball compared\", \"groundball compared\", \"groundball compared\", \"groundball compared\", \"ha average\", \"ha average\", \"ha average\", \"ha average\", \"ha average\", \"ha average\", \"ha average\", \"ha average\", \"ha average\", \"ha average\", \"ha dive\", \"ha good\", \"ha good\", \"ha good\", \"ha good\", \"ha heavy\", \"ha heavy\", \"ha heavy\", \"ha heavy\", \"ha heavy\", \"ha heavy\", \"ha le\", \"ha le\", \"ha le\", \"ha le\", \"ha le\", \"ha le\", \"ha le\", \"ha le\", \"ha le\", \"ha little\", \"ha little\", \"ha little\", \"ha little\", \"ha little\", \"ha little\", \"ha little\", \"ha little\", \"ha movement\", \"ha movement\", \"ha natural\", \"ha natural\", \"ha natural\", \"ha natural\", \"ha natural\", \"ha natural\", \"ha natural\", \"ha natural\", \"ha natural\", \"ha obvious\", \"ha obvious\", \"ha obvious\", \"ha primarily\", \"ha primarily\", \"ha primarily\", \"ha primarily\", \"ha primarily\", \"ha primarily\", \"ha primarily\", \"ha primarily\", \"ha primarily\", \"ha primarily\", \"ha relied\", \"ha relied\", \"ha relied\", \"ha relied\", \"ha relied\", \"ha relied\", \"ha relied\", \"ha relied\", \"ha relied\", \"ha sharp\", \"ha sharp\", \"ha sharp\", \"ha sharp\", \"ha sharp\", \"ha short\", \"ha short\", \"ha short\", \"ha short\", \"ha short\", \"ha slight\", \"ha slight\", \"ha slight\", \"ha slight\", \"ha slight\", \"ha slight\", \"ha slight\", \"ha slight\", \"ha slight\", \"ha slightly\", \"ha slightly\", \"ha slightly\", \"ha slightly\", \"ha slightly\", \"ha slightly\", \"ha slightly\", \"ha slightly\", \"ha slightly\", \"ha strong\", \"ha strong\", \"ha sweeping\", \"ha sweeping\", \"ha sweeping\", \"ha sweeping\", \"ha two\", \"ha two\", \"ha two\", \"ha two\", \"ha two\", \"ha two\", \"ha two\", \"ha two\", \"ha virtually\", \"ha well\", \"ha well\", \"ha well\", \"ha well\", \"ha well\", \"ha well\", \"hard\", \"hard\", \"hard\", \"hard\", \"hard\", \"hard generates\", \"hard generates\", \"hard generates\", \"hard real\", \"hard result\", \"hard result\", \"hard result\", \"hard result\", \"hard sinker\", \"heavy\", \"heavy\", \"heavy\", \"heavy\", \"heavy\", \"heavy\", \"hector\", \"hector\", \"hernandez\", \"high\", \"high\", \"high\", \"high\", \"high\", \"high\", \"high\", \"high\", \"high number\", \"high number\", \"high number\", \"high number\", \"high number\", \"high number\", \"hitting\", \"hitting\", \"hitting\", \"hitting speed\", \"hitting speed\", \"hitting speed\", \"holland\", \"holland ha\", \"jacob\", \"jeremy\", \"jeremy\", \"joel\", \"johnson\", \"johnson threw\", \"jon\", \"juan\", \"killer\", \"killer\", \"killer\", \"killer\", \"killer generates\", \"killer generates\", \"killer generates\", \"killer generates\", \"knuckle\", \"knuckle curve\", \"knuckleball\", \"knuckleball also\", \"knuckleball flutter\", \"kyle\", \"kyle\", \"kyle\", \"lance\", \"le\", \"le\", \"le\", \"le\", \"le\", \"le\", \"le\", \"le\", \"le\", \"le expected\", \"le expected\", \"le expected\", \"le expected\", \"le expected\", \"le expected\", \"little\", \"little\", \"little\", \"little\", \"little\", \"little\", \"little\", \"little cutting\", \"little cutting\", \"little depth\", \"little depth\", \"little depth\", \"little depth\", \"little depth\", \"little depth\", \"little sinking\", \"little sinking\", \"little sinking\", \"little sinking\", \"lopez\", \"luis\", \"luis\", \"luis\", \"lyon\", \"manny\", \"many\", \"many\", \"many\", \"many\", \"many\", \"many\", \"many groundball\", \"many groundball\", \"many groundball\", \"many groundball\", \"many groundball\", \"many groundball\", \"marco\", \"mejia\", \"miss\", \"miss\", \"miss\", \"miss\", \"miss\", \"miss\", \"miss compared\", \"miss compared\", \"miss compared\", \"miss compared\", \"miss compared\", \"miss compared\", \"missed\", \"missed\", \"missed\", \"missed\", \"missed\", \"missed\", \"missed\", \"missed compared\", \"missed compared\", \"missed compared\", \"missed compared\", \"missed compared\", \"missed compared\", \"missed compared\", \"mlb pitch\", \"mlb pitch\", \"mlb pitch\", \"mlb pitch\", \"mlb pitch\", \"mlb pitch\", \"mlb pitch\", \"mlb pitch\", \"mlb pitch\", \"mlb postseason\", \"mlb postseason\", \"mlb postseason\", \"mlb postseason\", \"mlb postseason\", \"mlb postseason\", \"mlb postseason\", \"mlb postseason\", \"mlb postseason\", \"mlb postseason\", \"movement\", \"movement\", \"movement\", \"movement\", \"movement\", \"movement\", \"movement\", \"movement\", \"movement\", \"movement\", \"movement extreme\", \"movement extreme\", \"movement extreme\", \"movement much\", \"movement much\", \"movement much\", \"movement splitter\", \"movement suggests\", \"movement suggests\", \"much\", \"much\", \"much\", \"much\", \"much\", \"much\", \"much\", \"much\", \"much harder\", \"much harder\", \"much harder\", \"much harder\", \"much harder\", \"much harder\", \"much harder\", \"natural\", \"natural\", \"natural\", \"natural\", \"natural\", \"natural\", \"natural\", \"natural\", \"natural\", \"natural sink\", \"natural sink\", \"natural sink\", \"natural sink\", \"natural sink\", \"natural sink\", \"natural sink\", \"natural sinking\", \"natural sinking\", \"natural sinking\", \"natural sinking\", \"natural sinking\", \"natural sinking\", \"natural sinking\", \"natural sinking\", \"natural sinking\", \"never\", \"never\", \"never\", \"never\", \"never\", \"never\", \"never\", \"never swung\", \"never swung\", \"never swung\", \"never swung\", \"never swung\", \"never swung\", \"never swung\", \"number\", \"number\", \"number\", \"number\", \"number\", \"number\", \"number\", \"number\", \"number\", \"number groundball\", \"number groundball\", \"number groundball\", \"number swing\", \"number swing\", \"number swing\", \"number swing\", \"number swing\", \"number swing\", \"obvious\", \"obvious\", \"obvious\", \"obvious armside\", \"obvious tail\", \"obvious tail\", \"obvious tail\", \"oliver\", \"perez ha\", \"phil\", \"pitch brandon\", \"pitch brandon\", \"pitch danny\", \"pitch fernando\", \"pitch hector\", \"pitch hector\", \"pitch joel\", \"pitch jonathan\", \"pitch juan\", \"pitch kyle\", \"pitch luis\", \"pitch manny\", \"pitch mike\", \"pitch phil\", \"pitch remarkable\", \"pitch remarkable\", \"pitch scott\", \"pitch sean\", \"pitch tom\", \"pitch zach\", \"pitcher changeups\", \"pitcher changeups\", \"pitcher changeups\", \"pitcher changeups\", \"pitcher changeups\", \"pitcher changeups\", \"pitcher changeups\", \"pitcher changeups\", \"pitcher changeups\", \"pitcher curve\", \"pitcher curve\", \"pitcher curve\", \"pitcher curve\", \"pitcher curve\", \"pitcher curve\", \"pitcher curve\", \"pitcher curve\", \"pitcher cutter\", \"pitcher cutter\", \"pitcher cutter\", \"pitcher cutter\", \"pitcher fourseamers\", \"pitcher fourseamers\", \"pitcher fourseamers\", \"pitcher fourseamers\", \"pitcher fourseamers\", \"pitcher fourseamers\", \"pitcher fourseamers\", \"pitcher fourseamers\", \"pitcher fourseamers\", \"pitcher fourseamers\", \"pitcher sinker\", \"pitcher sinker\", \"pitcher sinker\", \"pitcher sinker\", \"pitcher sinker\", \"pitcher sinker\", \"pitcher sinker\", \"pitcher sinker\", \"pitcher sinker\", \"pitcher slider\", \"pitcher slider\", \"pitcher slider\", \"pitcher slider\", \"pitcher slider\", \"pitcher slider\", \"pitcher slider\", \"pitcher slider\", \"pitcher slider\", \"pitcher splitter\", \"pitcher splitter\", \"plane\", \"plane\", \"plane\", \"plane\", \"plane\", \"plane\", \"plane\", \"plane movement\", \"plane movement\", \"plane movement\", \"plane movement\", \"plane movement\", \"plane movement\", \"plane movement\", \"plane movement\", \"plate\", \"postseason\", \"postseason\", \"postseason\", \"postseason\", \"postseason\", \"postseason\", \"postseason\", \"postseason\", \"postseason\", \"postseason\", \"postseason fall\", \"postseason fall\", \"postseason fall\", \"postseason ha\", \"postseason ha\", \"postseason ha\", \"postseason world\", \"primarily curve\", \"primarily curve\", \"primarily curve\", \"primarily curve\", \"primarily curve\", \"primarily cutter\", \"primarily knuckleball\", \"primarily movement\", \"primarily movement\", \"primarily movement\", \"primarily movement\", \"primarily movement\", \"primarily movement\", \"primarily movement\", \"primarily movement\", \"primarily movement\", \"primarily movement\", \"primarily splitter\", \"prototypical\", \"prototypical\", \"prototypical pitch\", \"prototypical pitch\", \"quality\", \"quality\", \"quality change\", \"quality curve\", \"quality sinker\", \"rarely throw\", \"rarely throw\", \"rarely throw\", \"rarely throw\", \"rarely throw\", \"rarely throw\", \"real\", \"real\", \"real\", \"real\", \"real\", \"real\", \"real worm\", \"real worm\", \"real worm\", \"real worm\", \"remarkable\", \"remarkable\", \"remarkable quality\", \"remarkable quality\", \"reminiscent\", \"reminiscent true\", \"result flyballs\", \"result flyballs\", \"result flyballs\", \"result flyballs\", \"result flyballs\", \"result flyballs\", \"result flyballs\", \"result flyballs\", \"result flyballs\", \"result many\", \"result many\", \"result many\", \"result many\", \"result many\", \"result somewhat\", \"result somewhat\", \"result somewhat\", \"result somewhat\", \"result somewhat\", \"result somewhat\", \"result somewhat\", \"result somewhat\", \"result somewhat\", \"result somewhat\", \"rhp\", \"rhp\", \"rhp\", \"rhp\", \"rhp\", \"rhp\", \"rhp\", \"rhp\", \"rhp\", \"rhp\", \"rhp curve\", \"rhp curve\", \"rhp curve\", \"rhp cutter\", \"rhp knuckleball\", \"rhp splitter\", \"rise\", \"rise curve\", \"rise ha\", \"robbie\", \"robert\", \"romero\", \"romero threw\", \"salt\", \"salt\", \"salt\", \"salt\", \"salt\", \"salt\", \"salt\", \"salt\", \"salt thrown\", \"salt thrown\", \"salt thrown\", \"salt thrown\", \"salt thrown\", \"salt thrown\", \"salt thrown\", \"salt thrown\", \"scott\", \"scott\", \"sean\", \"season mlb\", \"season mlb\", \"season mlb\", \"season mlb\", \"season mlb\", \"season mlb\", \"season mlb\", \"season mlb\", \"season mlb\", \"season mlb\", \"season relied\", \"season relied\", \"season relied\", \"season relied\", \"sergio\", \"sharp\", \"sharp\", \"sharp\", \"sharp\", \"sharp\", \"sharp downward\", \"sharp downward\", \"sharp downward\", \"sharp downward\", \"sharp downward\", \"short\", \"short\", \"short\", \"short\", \"short\", \"short glove\", \"short glove\", \"short glove\", \"short glove\", \"short glove\", \"side\", \"side\", \"side\", \"side\", \"side\", \"side\", \"side\", \"side\", \"side cut\", \"side cut\", \"side cut\", \"side cut\", \"side cut\", \"side movement\", \"side movement\", \"side movement\", \"side movement\", \"side movement\", \"side movement\", \"side movement\", \"sink\", \"sink\", \"sink\", \"sink\", \"sink\", \"sink\", \"sink\", \"sink basically\", \"sink curve\", \"sink curve\", \"sink curve\", \"sink real\", \"sinker\", \"sinker\", \"sinker\", \"sinker\", \"sinker\", \"sinker\", \"sinker\", \"sinker\", \"sinker\", \"sinker cutter\", \"sinker cutter\", \"sinker ha\", \"sinker ha\", \"sinker ha\", \"sinker ha\", \"sinker ha\", \"sinker ha\", \"sinker ha\", \"sinker ha\", \"sinker ha\", \"sinker real\", \"sinker real\", \"sinker slider\", \"sinker slider\", \"sinker slider\", \"sinker slider\", \"sinker slider\", \"sinker slider\", \"sinker slider\", \"sinker slider\", \"sinker slow\", \"sinker slow\", \"sinker take\", \"sinker take\", \"sinker take\", \"sinker take\", \"sinker thrown\", \"sinker thrown\", \"sinker thrown\", \"sinking\", \"sinking\", \"sinking\", \"sinking\", \"sinking\", \"sinking\", \"sinking\", \"sinking\", \"sinking\", \"sinking action\", \"sinking action\", \"sinking action\", \"sinking action\", \"sinking action\", \"sinking action\", \"sinking action\", \"sinking action\", \"sinking action\", \"slider\", \"slider\", \"slider\", \"slider\", \"slider\", \"slider\", \"slider\", \"slider\", \"slider\", \"slider\", \"slider basically\", \"slider basically\", \"slider basically\", \"slider come\", \"slider come\", \"slider extreme\", \"slider extreme\", \"slider extreme\", \"slider extreme\", \"slider ha\", \"slider ha\", \"slider ha\", \"slider ha\", \"slider ha\", \"slider ha\", \"slider ha\", \"slider ha\", \"slider ha\", \"slider much\", \"slider much\", \"slider much\", \"slider prototypical\", \"slider real\", \"slider take\", \"slider take\", \"slider take\", \"slider thrown\", \"slider thrown\", \"slider thrown\", \"slight\", \"slight\", \"slight\", \"slight\", \"slight\", \"slight\", \"slight\", \"slight\", \"slight\", \"slight armside\", \"slight armside\", \"slight armside\", \"slight armside\", \"slight armside\", \"slight armside\", \"slight armside\", \"slight armside\", \"slight armside\", \"slight glove\", \"slight glove\", \"slight glove\", \"slight glove\", \"slight glove\", \"slight glove\", \"slightly\", \"slightly\", \"slightly\", \"slightly\", \"slightly\", \"slightly\", \"slightly\", \"slightly\", \"slightly\", \"slightly\", \"slightly average\", \"slightly average\", \"slightly average\", \"slightly average\", \"slightly average\", \"slightly average\", \"slightly average\", \"slightly average\", \"slightly average\", \"slow\", \"slow\", \"slow substantially\", \"slow substantially\", \"somewhat\", \"somewhat\", \"somewhat\", \"somewhat\", \"somewhat\", \"somewhat\", \"somewhat\", \"somewhat\", \"somewhat\", \"somewhat\", \"somewhat flyballs\", \"somewhat flyballs\", \"somewhat flyballs\", \"somewhat flyballs\", \"somewhat flyballs\", \"somewhat flyballs\", \"somewhat flyballs\", \"somewhat flyballs\", \"somewhat flyballs\", \"somewhat flyballs\", \"speed\", \"speed\", \"speed\", \"speed\", \"speed\", \"speed borderline\", \"speed borderline\", \"speed generates\", \"speed generates\", \"speed ha\", \"speed ha\", \"speed real\", \"speed real\", \"speed result\", \"splitter\", \"splitter\", \"splitter\", \"splitter also\", \"splitter also\", \"splitter basic\", \"splitter change\", \"splitter extreme\", \"splitter extreme\", \"splitter fourseam\", \"splitter fourseam\", \"splitter ha\", \"splitter ha\", \"splitter much\", \"splitter result\", \"splitter sinker\", \"splitter slightly\", \"splitter take\", \"splitter take\", \"splitter thrown\", \"steve\", \"strong\", \"strong\", \"strong cutting\", \"strong cutting\", \"substantially\", \"substantially\", \"substantially gravitational\", \"substantially gravitational\", \"suggests\", \"suggests\", \"suggests extreme\", \"sweeping\", \"sweeping\", \"sweeping\", \"sweeping\", \"sweeping glove\", \"sweeping glove\", \"sweeping glove\", \"sweeping glove\", \"swing compared\", \"swing compared\", \"swing compared\", \"swing compared\", \"swing compared\", \"swing compared\", \"swing compared\", \"swing compared\", \"swing compared\", \"swing miss\", \"swing miss\", \"swing miss\", \"swing miss\", \"swing miss\", \"swing miss\", \"swung\", \"swung\", \"swung\", \"swung\", \"swung\", \"swung\", \"swung\", \"swung missed\", \"swung missed\", \"swung missed\", \"swung missed\", \"swung missed\", \"swung missed\", \"swung missed\", \"tail\", \"tail\", \"tail\", \"tail change\", \"tail extreme\", \"tail extreme\", \"tail extreme\", \"tail generates\", \"tail ha\", \"tail ha\", \"tail result\", \"tail result\", \"take\", \"take\", \"take\", \"take\", \"take\", \"take\", \"take\", \"take\", \"take grain\", \"take grain\", \"take grain\", \"take grain\", \"take grain\", \"take grain\", \"take grain\", \"take grain\", \"threw\", \"threw\", \"threw\", \"threw\", \"threw\", \"threw\", \"threw\", \"threw\", \"threw\", \"threw curve\", \"threw curve\", \"threw curve\", \"threw cutter\", \"threw pitch\", \"threw pitch\", \"threw pitch\", \"threw pitch\", \"threw pitch\", \"threw pitch\", \"threw pitch\", \"threw pitch\", \"threw pitch\", \"threw slider\", \"threw slider\", \"threw splitter\", \"throw\", \"throw\", \"throw\", \"throw\", \"throw\", \"throw\", \"throw cutter\", \"throw fourseam\", \"throw fourseam\", \"throw fourseam\", \"throw sinker\", \"throw sinker\", \"throw sinker\", \"throw sinker\", \"throw slow\", \"thrown basically\", \"thrown basically\", \"thrown basically\", \"thrown dive\", \"thrown dive\", \"thrown extreme\", \"thrown extreme\", \"thrown extreme\", \"thrown extremely\", \"thrown extremely\", \"thrown extremely\", \"thrown extremely\", \"thrown extremely\", \"thrown generates\", \"thrown generates\", \"thrown generates\", \"thrown ha\", \"thrown ha\", \"thrown ha\", \"thrown ha\", \"thrown pitch\", \"thrown pitch\", \"thrown pitch\", \"thrown pitch\", \"thrown pitch\", \"thrown pitch\", \"thrown pitch\", \"thrown pitch\", \"thrown pitch\", \"thrown result\", \"thrown result\", \"thrown speed\", \"thrown speed\", \"thrown sweep\", \"thrown sweep\", \"tom\", \"tommy\", \"tommy\", \"tony\", \"torres\", \"toward\", \"toward plate\", \"training fall\", \"training fall\", \"training fall\", \"training fall\", \"training fall\", \"training ha\", \"training ha\", \"training ha\", \"training ha\", \"training ha\", \"training ha\", \"training ha\", \"training ha\", \"training ha\", \"training relied\", \"training relied\", \"training relied\", \"training relied\", \"training relied\", \"training relied\", \"training relied\", \"training relied\", \"true\", \"true\", \"true\", \"true\", \"true sinker\", \"true sinker\", \"true sinker\", \"true sinker\", \"two\", \"two\", \"two\", \"two\", \"two\", \"two\", \"two\", \"two\", \"two plane\", \"two plane\", \"two plane\", \"two plane\", \"two plane\", \"two plane\", \"two plane\", \"typical curve\", \"typical curve\", \"typical curve\", \"unfair\", \"unfair\", \"unfair explodes\", \"unfair extreme\", \"unfair extreme\", \"unfair generates\", \"unfair ha\", \"unfair ha\", \"unpredictably\", \"unpredictably toward\", \"using\", \"using\", \"using circle\", \"using circle\", \"using knuckle\", \"using vulcan\", \"using vulcan\", \"usual\", \"usual\", \"usual\", \"usual\", \"usual\", \"usual\", \"usual\", \"usual\", \"usual\", \"usual sinker\", \"usual sinker\", \"usual sinker\", \"usual sinker\", \"velo splitter\", \"virtually\", \"virtually sinking\", \"vulcan\", \"vulcan\", \"vulcan change\", \"vulcan change\", \"webb\", \"webb threw\", \"well\", \"well\", \"well\", \"well\", \"well\", \"well\", \"well average\", \"well average\", \"well average\", \"well average\", \"well average\", \"well average\", \"whiff\", \"whiff\", \"whiff\", \"whiff\", \"whiff\", \"whiff\", \"whiff\", \"whiff\", \"whiff\", \"whiff swing\", \"whiff swing\", \"whiff swing\", \"whiff swing\", \"whiff swing\", \"whiff swing\", \"whiff swing\", \"whiff swing\", \"whiff swing\", \"wilson threw\", \"winter\", \"winter\", \"winter\", \"winter\", \"winter\", \"winter ball\", \"winter ball\", \"winter ball\", \"winter ball\", \"winter ball\", \"wood\", \"wood threw\", \"world\", \"world baseball\", \"worm\", \"worm\", \"worm\", \"worm\", \"worm killer\", \"worm killer\", \"worm killer\", \"worm killer\", \"wright\", \"wright threw\", \"zone\", \"zone\", \"zone\", \"zone\", \"zone\", \"zone\", \"zone basically\", \"zone much\", \"zone result\", \"zone result\", \"zone result\", \"zone result\", \"zone result\", \"zone result\", \"zone slightly\"]}, \"R\": 30, \"lambda.step\": 0.01, \"plot.opts\": {\"xlab\": \"PC1\", \"ylab\": \"PC2\"}, \"topic.order\": [5, 4, 6, 2, 3, 7, 9, 10, 8, 1]};\n",
       "\n",
       "function LDAvis_load_lib(url, callback){\n",
       "  var s = document.createElement('script');\n",
       "  s.src = url;\n",
       "  s.async = true;\n",
       "  s.onreadystatechange = s.onload = callback;\n",
       "  s.onerror = function(){console.warn(\"failed to load library \" + url);};\n",
       "  document.getElementsByTagName(\"head\")[0].appendChild(s);\n",
       "}\n",
       "\n",
       "if(typeof(LDAvis) !== \"undefined\"){\n",
       "   // already loaded: just create the visualization\n",
       "   !function(LDAvis){\n",
       "       new LDAvis(\"#\" + \"ldavis_el172823502014700724612618830\", ldavis_el172823502014700724612618830_data);\n",
       "   }(LDAvis);\n",
       "}else if(typeof define === \"function\" && define.amd){\n",
       "   // require.js is available: use it to load d3/LDAvis\n",
       "   require.config({paths: {d3: \"https://cdnjs.cloudflare.com/ajax/libs/d3/3.5.5/d3.min\"}});\n",
       "   require([\"d3\"], function(d3){\n",
       "      window.d3 = d3;\n",
       "      LDAvis_load_lib(\"https://cdn.rawgit.com/bmabey/pyLDAvis/files/ldavis.v1.0.0.js\", function(){\n",
       "        new LDAvis(\"#\" + \"ldavis_el172823502014700724612618830\", ldavis_el172823502014700724612618830_data);\n",
       "      });\n",
       "    });\n",
       "}else{\n",
       "    // require.js not available: dynamically load d3 & LDAvis\n",
       "    LDAvis_load_lib(\"https://cdnjs.cloudflare.com/ajax/libs/d3/3.5.5/d3.min.js\", function(){\n",
       "         LDAvis_load_lib(\"https://cdn.rawgit.com/bmabey/pyLDAvis/files/ldavis.v1.0.0.js\", function(){\n",
       "                 new LDAvis(\"#\" + \"ldavis_el172823502014700724612618830\", ldavis_el172823502014700724612618830_data);\n",
       "            })\n",
       "         });\n",
       "}\n",
       "</script>"
      ],
      "text/plain": [
       "PreparedData(topic_coordinates=              x         y  topics  cluster       Freq\n",
       "topic                                                \n",
       "4     -0.023734 -0.055327       1        1  18.653345\n",
       "3      0.086909  0.069246       2        1  17.584811\n",
       "5     -0.060883 -0.094303       3        1  10.986512\n",
       "1      0.015036 -0.020045       4        1  10.477943\n",
       "2      0.152889  0.056283       5        1  10.288857\n",
       "6      0.091878  0.050370       6        1   9.573328\n",
       "8      0.016378 -0.113872       7        1   9.328398\n",
       "9      0.173731  0.112148       8        1   8.408911\n",
       "7     -0.128236 -0.230319       9        1   2.537926\n",
       "0     -0.323969  0.225818      10        1   2.159968, topic_info=     Category         Freq                 Term        Total  loglift  logprob\n",
       "term                                                                          \n",
       "172   Default  1718.000000                curve  1718.000000  30.0000  30.0000\n",
       "208   Default   836.000000               cutter   836.000000  29.0000  29.0000\n",
       "900   Default   321.000000             splitter   321.000000  28.0000  28.0000\n",
       "953   Default   810.000000                 take   810.000000  27.0000  27.0000\n",
       "380   Default   810.000000           grain salt   810.000000  26.0000  26.0000\n",
       "783   Default   810.000000                 salt   810.000000  25.0000  25.0000\n",
       "954   Default   810.000000           take grain   810.000000  24.0000  24.0000\n",
       "379   Default   810.000000                grain   810.000000  23.0000  23.0000\n",
       "784   Default   810.000000          salt thrown   810.000000  22.0000  22.0000\n",
       "587   Default   845.000000               number   845.000000  21.0000  21.0000\n",
       "850   Default  1869.000000               slider  1869.000000  20.0000  20.0000\n",
       "543   Default   636.000000        miss compared   636.000000  19.0000  19.0000\n",
       "452   Default   636.000000          high number   636.000000  18.0000  18.0000\n",
       "942   Default   636.000000           swing miss   636.000000  17.0000  17.0000\n",
       "589   Default   636.000000         number swing   636.000000  16.0000  16.0000\n",
       "542   Default   636.000000                 miss   636.000000  15.0000  15.0000\n",
       "285   Default   646.000000            extremely   646.000000  14.0000  14.0000\n",
       "450   Default   711.000000                 high   711.000000  13.0000  13.0000\n",
       "287   Default   456.000000       extremely high   456.000000  12.0000  12.0000\n",
       "367   Default   456.000000  generates extremely   456.000000  11.0000  11.0000\n",
       "683   Default   354.000000       pitcher cutter   354.000000  10.0000  10.0000\n",
       "1030  Default   151.000000                using   151.000000   9.0000   9.0000\n",
       "388   Default   151.000000                 grip   151.000000   8.0000   8.0000\n",
       "687   Default   136.000000     pitcher splitter   136.000000   7.0000   7.0000\n",
       "682   Default   661.000000        pitcher curve   661.000000   6.0000   6.0000\n",
       "280   Default   964.000000              extreme   964.000000   5.0000   5.0000\n",
       "588   Default   209.000000    number groundball   209.000000   4.0000   4.0000\n",
       "366   Default   209.000000    generates extreme   209.000000   3.0000   3.0000\n",
       "491   Default   209.000000     killer generates   209.000000   2.0000   2.0000\n",
       "1082  Default   209.000000          worm killer   209.000000   1.0000   1.0000\n",
       "...       ...          ...                  ...          ...      ...      ...\n",
       "687   Topic10   129.197006     pitcher splitter   136.203678   3.7823  -2.8784\n",
       "570   Topic10    15.530975    movement splitter    16.418766   3.7795  -4.9969\n",
       "966   Topic10    10.703802       threw splitter    11.595550   3.7551  -5.3692\n",
       "325   Topic10    22.127987    fastball splitter    24.167428   3.7469  -4.6429\n",
       "913   Topic10    12.192659      splitter result    13.535374   3.7306  -5.2389\n",
       "930   Topic10     6.849084     suggests extreme     7.736781   3.7132  -5.8156\n",
       "907   Topic10    22.163034     splitter extreme    25.158104   3.7083  -4.6413\n",
       "911   Topic10     8.475085        splitter much     9.674598   3.7027  -5.6026\n",
       "917   Topic10    26.335230        splitter take    31.982957   3.6408  -4.4689\n",
       "332   Topic10     3.954944             fernando     4.842791   3.6326  -6.3648\n",
       "645   Topic10     3.954820       pitch jonathan     4.842787   3.6325  -6.3648\n",
       "632   Topic10     2.990233       pitch fernando     3.878127   3.5751  -6.6444\n",
       "643   Topic10     2.025787           pitch joel     2.913458   3.4717  -7.0338\n",
       "477   Topic10     2.025787                 joel     2.913458   3.4717  -7.0338\n",
       "595   Topic10     2.025755               oliver     2.913459   3.4717  -7.0338\n",
       "606   Topic10     2.025716             perez ha     2.913457   3.4717  -7.0338\n",
       "897   Topic10     3.821712           speed real     5.822283   3.4141  -6.3991\n",
       "292   Topic10     3.606547         fade extreme     5.844197   3.3524  -6.4570\n",
       "796   Topic10    44.856321           season mlb   402.160412   1.6417  -3.9363\n",
       "691   Topic10    44.787234           postseason   402.151960   1.6402  -3.9378\n",
       "555   Topic10    44.786407       mlb postseason   402.150187   1.6402  -3.9379\n",
       "1002  Topic10    23.846629      training relied   303.084210   1.2927  -4.5681\n",
       "54    Topic10    21.173108             backspin   261.032267   1.3232  -4.6870\n",
       "957   Topic10    26.757568                threw   632.065579   0.6729  -4.4529\n",
       "962   Topic10    21.024198          threw pitch   418.981736   0.8429  -4.6941\n",
       "31    Topic10    20.990035             although   418.976570   0.8413  -4.6957\n",
       "557   Topic10    25.455986             movement   911.496456   0.2569  -4.5028\n",
       "280   Topic10    25.053558              extreme   964.209542   0.1848  -4.5187\n",
       "32    Topic10    20.987677          although ha   418.981450   0.8412  -4.6958\n",
       "554   Topic10    20.972394            mlb pitch   418.972806   0.8405  -4.6966\n",
       "\n",
       "[680 rows x 6 columns], token_table=      Topic      Freq                Term\n",
       "term                                     \n",
       "3         1  0.174749              action\n",
       "3         2  0.106989              action\n",
       "3         3  0.282927              action\n",
       "3         4  0.121254              action\n",
       "3         5  0.024964              action\n",
       "3         6  0.109367              action\n",
       "3         7  0.070137              action\n",
       "3         8  0.098668              action\n",
       "3        10  0.009510              action\n",
       "4         2  0.799421    action basically\n",
       "4         3  0.126224    action basically\n",
       "4         5  0.042075    action basically\n",
       "4         8  0.042075    action basically\n",
       "6         1  0.686123     action compared\n",
       "6         2  0.007458     action compared\n",
       "6         3  0.290856     action compared\n",
       "6         6  0.014916     action compared\n",
       "7         1  0.070249        action curve\n",
       "7         2  0.023416        action curve\n",
       "7         3  0.280994        action curve\n",
       "7         5  0.140497        action curve\n",
       "7         7  0.468323        action curve\n",
       "9         4  0.899009         action dive\n",
       "14        1  0.834813         action much\n",
       "15        6  0.962022         action real\n",
       "16        3  0.929275  action reminiscent\n",
       "19        1  0.260847       action slider\n",
       "19        2  0.152161       action slider\n",
       "19        3  0.108686       action slider\n",
       "19        6  0.043474       action slider\n",
       "...     ...       ...                 ...\n",
       "1076      9  0.018807         winter ball\n",
       "1077      1  0.752595                wood\n",
       "1078      1  0.752595          wood threw\n",
       "1079     10  0.994964               world\n",
       "1080     10  0.994964      world baseball\n",
       "1081      1  0.023817                worm\n",
       "1081      6  0.947901                worm\n",
       "1081      7  0.028580                worm\n",
       "1081     10  0.004763                worm\n",
       "1082      1  0.023817         worm killer\n",
       "1082      6  0.947902         worm killer\n",
       "1082      7  0.028580         worm killer\n",
       "1082     10  0.004763         worm killer\n",
       "1083      5  0.758072              wright\n",
       "1084      5  0.674252        wright threw\n",
       "1089      2  0.075301                zone\n",
       "1089      3  0.017377                zone\n",
       "1089      4  0.596616                zone\n",
       "1089      5  0.023170                zone\n",
       "1089      6  0.237488                zone\n",
       "1089      8  0.046339                zone\n",
       "1090      2  0.807958      zone basically\n",
       "1094      4  0.880324           zone much\n",
       "1095      2  0.018122         zone result\n",
       "1095      3  0.054367         zone result\n",
       "1095      4  0.724896         zone result\n",
       "1095      5  0.036245         zone result\n",
       "1095      6  0.090612         zone result\n",
       "1095      8  0.072490         zone result\n",
       "1098      4  0.745114       zone slightly\n",
       "\n",
       "[1804 rows x 3 columns], R=30, lambda_step=0.01, plot_opts={'xlab': 'PC1', 'ylab': 'PC2'}, topic_order=[5, 4, 6, 2, 3, 7, 9, 10, 8, 1])"
      ]
     },
     "execution_count": 32,
     "metadata": {},
     "output_type": "execute_result"
    }
   ],
   "source": [
    "import pyLDAvis\n",
    "import pyLDAvis.sklearn\n",
    "pyLDAvis.enable_notebook()\n",
    "\n",
    "# Visualize the topics\n",
    "pyLDAvis.sklearn.prepare(lda_tf, dtm_tf, tf_vectorizer)"
   ]
  },
  {
   "cell_type": "markdown",
   "metadata": {},
   "source": [
    "### Build a Simple Decision Tree"
   ]
  },
  {
   "cell_type": "markdown",
   "metadata": {},
   "source": [
    "Remove columns that should not be included in the models prediction."
   ]
  },
  {
   "cell_type": "code",
   "execution_count": 33,
   "metadata": {},
   "outputs": [
    {
     "name": "stdout",
     "output_type": "stream",
     "text": [
      "Shape of New DataFrame: (758, 42)\n",
      "\n",
      "Features to Include in Model: \n",
      "['BABIP', 'BB%', 'BB/9', 'CH%', 'CH-X', 'CH-Z', 'CU%', 'CU-X', 'CU-Z', 'Contact%', 'ERA', 'FA%', 'FA-X', 'FA-Z', 'FC%', 'FC-X', 'FC-Z', 'FS%', 'FS-X', 'FS-Z', 'HR/9', 'K%', 'K/9', 'K/BB', 'Pace', 'SI%', 'SI-X', 'SI-Z', 'SL%', 'SL-X', 'SL-Z', 'Swing%', 'WHIP', 'Zone%', 'tjSurgery', 'vCH', 'vCU', 'vFA', 'vFC', 'vFS', 'vSI', 'vSL']\n"
     ]
    }
   ],
   "source": [
    "df1 = df[df.columns.difference(['playerid','Name_x','BB_PitchStyle','Name_y','Team','IP','BB_PitchStyle_Clean','throws'])]\n",
    "print('Shape of New DataFrame: {}\\n'.format(df1.shape))\n",
    "print('Features to Include in Model: \\n{}'.format(list(df1.columns)))"
   ]
  },
  {
   "cell_type": "markdown",
   "metadata": {},
   "source": [
    "#### Split Full Data Set into Train/Validation Set"
   ]
  },
  {
   "cell_type": "code",
   "execution_count": 34,
   "metadata": {},
   "outputs": [
    {
     "name": "stdout",
     "output_type": "stream",
     "text": [
      "Shape of Train Features: (606, 41)\n",
      "Shape of Train Labels:   (606,)\n",
      "Shape of Test Features:  (152, 41)\n",
      "Shape of Test Labels:    (152,)\n"
     ]
    }
   ],
   "source": [
    "from sklearn.model_selection import train_test_split\n",
    "from sklearn.decomposition import LatentDirichletAllocation\n",
    "\n",
    "# Set seed for random number generator for reproducibility\n",
    "seed=5\n",
    "\n",
    "# Split dataframe into features and labels\n",
    "features = df1.loc[:, df1.columns != 'tjSurgery']\n",
    "labels = df1['tjSurgery']\n",
    "\n",
    "# Split data using 80% to train model and 20% to validate performance\n",
    "X_train1, X_test1, y_train1, y_test1 = train_test_split(features, labels, test_size = 0.2, random_state = seed)\n",
    "\n",
    "# Confirm Shape of Train/Test data\n",
    "print('Shape of Train Features: {}'.format(X_train1.shape))\n",
    "print('Shape of Train Labels:   {}'.format(y_train1.shape))\n",
    "print('Shape of Test Features:  {}'.format(X_test1.shape))\n",
    "print('Shape of Test Labels:    {}'.format(y_test1.shape))"
   ]
  },
  {
   "cell_type": "markdown",
   "metadata": {},
   "source": [
    "### Build a Decision Tree"
   ]
  },
  {
   "cell_type": "code",
   "execution_count": 35,
   "metadata": {},
   "outputs": [
    {
     "data": {
      "text/plain": [
       "DecisionTreeClassifier(class_weight='balanced', criterion='gini',\n",
       "            max_depth=None, max_features=None, max_leaf_nodes=None,\n",
       "            min_impurity_decrease=0.0, min_impurity_split=None,\n",
       "            min_samples_leaf=1, min_samples_split=2,\n",
       "            min_weight_fraction_leaf=0.0, presort=False, random_state=5,\n",
       "            splitter='best')"
      ]
     },
     "execution_count": 35,
     "metadata": {},
     "output_type": "execute_result"
    }
   ],
   "source": [
    "from sklearn.tree import DecisionTreeClassifier\n",
    "\n",
    "# Train decision tree \n",
    "dtree1 = DecisionTreeClassifier(class_weight='balanced', random_state=seed)\n",
    "dtree1.fit(X_train1, y_train1)"
   ]
  },
  {
   "cell_type": "markdown",
   "metadata": {},
   "source": [
    "#### Get top_n Feature Importances from Decision Tree\n",
    "\n",
    "The importance of a feature in our Decision Tree is computed as the (normalized) total reduction of the criterion brought by that feature and is also known as the Gini importance. "
   ]
  },
  {
   "cell_type": "code",
   "execution_count": 36,
   "metadata": {},
   "outputs": [
    {
     "data": {
      "image/png": "[encoded data removed]",
      "text/plain": [
       "<Figure size 1440x432 with 1 Axes>"
      ]
     },
     "metadata": {
      "needs_background": "light"
     },
     "output_type": "display_data"
    }
   ],
   "source": [
    "top_n = 10\n",
    "feat_imp1 = pd.DataFrame({'Importance': dtree1.feature_importances_})    \n",
    "feat_imp1['Feature'] = X_train1.columns\n",
    "feat_imp1.sort_values(by='Importance', ascending=False, inplace=True)\n",
    "feat_imp1 = feat_imp1.iloc[:top_n]\n",
    "\n",
    "# Plot Feature Importance Values\n",
    "plt.figure(figsize=(20,6))\n",
    "plt.bar(feat_imp1['Feature'], feat_imp1['Importance'])\n",
    "plt.xticks(rotation=45)\n",
    "plt.title('Model #1: Feature Importance')\n",
    "plt.show()"
   ]
  },
  {
   "cell_type": "code",
   "execution_count": 37,
   "metadata": {},
   "outputs": [
    {
     "name": "stderr",
     "output_type": "stream",
     "text": [
      "C:\\Users\\bruno\\AppData\\Local\\Continuum\\anaconda3\\lib\\site-packages\\scikitplot\\plotters.py:37: DeprecationWarning: This module was deprecated in version 0.3.0 and its functions are spread throughout different modules. Please check the documentation and update your function calls as soon as possible. This module will be removed in 0.4.0\n",
      "  DeprecationWarning)\n"
     ]
    },
    {
     "data": {
      "image/png": "[encoded data removed]",
      "text/plain": [
       "<Figure size 576x576 with 2 Axes>"
      ]
     },
     "metadata": {
      "needs_background": "light"
     },
     "output_type": "display_data"
    }
   ],
   "source": [
    "import scikitplot as skplt\n",
    "\n",
    "# Make predictions on validation data\n",
    "test_predictions1 = dtree1.predict(X_test1)\n",
    "\n",
    "# Plot Confusion Matrix on Validation Data\n",
    "skplt.metrics.plot_confusion_matrix(y_test1, test_predictions1, \n",
    "                                    figsize=(8,8),\n",
    "                                    x_tick_rotation=90,\n",
    "                                    title='Confusion Matrix (Validation Data)',\n",
    "                                    normalize=False)\n",
    "plt.show()"
   ]
  },
  {
   "cell_type": "code",
   "execution_count": 38,
   "metadata": {},
   "outputs": [
    {
     "name": "stdout",
     "output_type": "stream",
     "text": [
      "Model #1: Validation Accuracy: 70.39%\n",
      "\n",
      "              precision    recall  f1-score   support\n",
      "\n",
      " Not Injured       0.86      0.79      0.82       131\n",
      "     Injured       0.12      0.19      0.15        21\n",
      "\n",
      "   micro avg       0.70      0.70      0.70       152\n",
      "   macro avg       0.49      0.49      0.49       152\n",
      "weighted avg       0.76      0.70      0.73       152\n",
      "\n"
     ]
    }
   ],
   "source": [
    "from sklearn.metrics import classification_report, accuracy_score\n",
    "\n",
    "m1_acc = accuracy_score(y_test1, test_predictions1)*100\n",
    "\n",
    "print('Model #1: Validation Accuracy: {0:.2f}%\\n'.format(m1_acc))\n",
    "print(classification_report(y_test1, test_predictions1, target_names=['Not Injured', 'Injured']))"
   ]
  },
  {
   "cell_type": "markdown",
   "metadata": {},
   "source": [
    "### Let's build the same Decision Tree Model as above and add the topic distributions for each pitcher"
   ]
  },
  {
   "cell_type": "code",
   "execution_count": 39,
   "metadata": {},
   "outputs": [
    {
     "name": "stdout",
     "output_type": "stream",
     "text": [
      "Original Dataframe Shape: (758, 42)\n",
      "New Dataframe Shape: (758, 52)\n",
      "\n"
     ]
    },
    {
     "data": {
      "text/html": [
       "<div>\n",
       "<style scoped>\n",
       "    .dataframe tbody tr th:only-of-type {\n",
       "        vertical-align: middle;\n",
       "    }\n",
       "\n",
       "    .dataframe tbody tr th {\n",
       "        vertical-align: top;\n",
       "    }\n",
       "\n",
       "    .dataframe thead th {\n",
       "        text-align: right;\n",
       "    }\n",
       "</style>\n",
       "<table border=\"1\" class=\"dataframe\">\n",
       "  <thead>\n",
       "    <tr style=\"text-align: right;\">\n",
       "      <th></th>\n",
       "      <th>BABIP</th>\n",
       "      <th>BB%</th>\n",
       "      <th>BB/9</th>\n",
       "      <th>CH%</th>\n",
       "      <th>CH-X</th>\n",
       "      <th>CH-Z</th>\n",
       "      <th>CU%</th>\n",
       "      <th>CU-X</th>\n",
       "      <th>CU-Z</th>\n",
       "      <th>Contact%</th>\n",
       "      <th>...</th>\n",
       "      <th>Topic 0</th>\n",
       "      <th>Topic 1</th>\n",
       "      <th>Topic 2</th>\n",
       "      <th>Topic 3</th>\n",
       "      <th>Topic 4</th>\n",
       "      <th>Topic 5</th>\n",
       "      <th>Topic 6</th>\n",
       "      <th>Topic 7</th>\n",
       "      <th>Topic 8</th>\n",
       "      <th>Topic 9</th>\n",
       "    </tr>\n",
       "  </thead>\n",
       "  <tbody>\n",
       "    <tr>\n",
       "      <th>0</th>\n",
       "      <td>-0.20</td>\n",
       "      <td>-0.074766</td>\n",
       "      <td>-0.219626</td>\n",
       "      <td>-0.220264</td>\n",
       "      <td>-0.071429</td>\n",
       "      <td>-2.464286</td>\n",
       "      <td>0.000</td>\n",
       "      <td>0.000000</td>\n",
       "      <td>0.000000</td>\n",
       "      <td>-1.351598</td>\n",
       "      <td>...</td>\n",
       "      <td>0.000658</td>\n",
       "      <td>0.483405</td>\n",
       "      <td>0.206436</td>\n",
       "      <td>0.000658</td>\n",
       "      <td>0.000658</td>\n",
       "      <td>0.000658</td>\n",
       "      <td>0.000658</td>\n",
       "      <td>0.000658</td>\n",
       "      <td>0.000658</td>\n",
       "      <td>0.305553</td>\n",
       "    </tr>\n",
       "    <tr>\n",
       "      <th>1</th>\n",
       "      <td>0.04</td>\n",
       "      <td>0.785047</td>\n",
       "      <td>0.612150</td>\n",
       "      <td>0.000000</td>\n",
       "      <td>0.000000</td>\n",
       "      <td>0.000000</td>\n",
       "      <td>-0.592</td>\n",
       "      <td>-0.222222</td>\n",
       "      <td>-0.194444</td>\n",
       "      <td>-2.063927</td>\n",
       "      <td>...</td>\n",
       "      <td>0.001031</td>\n",
       "      <td>0.188991</td>\n",
       "      <td>0.001031</td>\n",
       "      <td>0.001031</td>\n",
       "      <td>0.389963</td>\n",
       "      <td>0.001031</td>\n",
       "      <td>0.001031</td>\n",
       "      <td>0.001031</td>\n",
       "      <td>0.181563</td>\n",
       "      <td>0.233297</td>\n",
       "    </tr>\n",
       "    <tr>\n",
       "      <th>2</th>\n",
       "      <td>1.72</td>\n",
       "      <td>0.710280</td>\n",
       "      <td>0.677570</td>\n",
       "      <td>0.528634</td>\n",
       "      <td>-0.007143</td>\n",
       "      <td>0.714286</td>\n",
       "      <td>-0.632</td>\n",
       "      <td>0.126984</td>\n",
       "      <td>0.083333</td>\n",
       "      <td>-0.968037</td>\n",
       "      <td>...</td>\n",
       "      <td>0.000877</td>\n",
       "      <td>0.105127</td>\n",
       "      <td>0.000877</td>\n",
       "      <td>0.521289</td>\n",
       "      <td>0.000877</td>\n",
       "      <td>0.000877</td>\n",
       "      <td>0.268216</td>\n",
       "      <td>0.100104</td>\n",
       "      <td>0.000877</td>\n",
       "      <td>0.000877</td>\n",
       "    </tr>\n",
       "    <tr>\n",
       "      <th>3</th>\n",
       "      <td>0.80</td>\n",
       "      <td>0.822430</td>\n",
       "      <td>0.677570</td>\n",
       "      <td>-0.740088</td>\n",
       "      <td>-0.135714</td>\n",
       "      <td>0.178571</td>\n",
       "      <td>1.440</td>\n",
       "      <td>0.253968</td>\n",
       "      <td>-1.027778</td>\n",
       "      <td>-1.004566</td>\n",
       "      <td>...</td>\n",
       "      <td>0.001220</td>\n",
       "      <td>0.001220</td>\n",
       "      <td>0.001220</td>\n",
       "      <td>0.001220</td>\n",
       "      <td>0.283638</td>\n",
       "      <td>0.001220</td>\n",
       "      <td>0.001220</td>\n",
       "      <td>0.259079</td>\n",
       "      <td>0.001220</td>\n",
       "      <td>0.448745</td>\n",
       "    </tr>\n",
       "    <tr>\n",
       "      <th>4</th>\n",
       "      <td>0.28</td>\n",
       "      <td>0.299065</td>\n",
       "      <td>0.275701</td>\n",
       "      <td>-0.449339</td>\n",
       "      <td>-0.014286</td>\n",
       "      <td>-0.785714</td>\n",
       "      <td>-0.144</td>\n",
       "      <td>0.222222</td>\n",
       "      <td>-0.250000</td>\n",
       "      <td>0.182648</td>\n",
       "      <td>...</td>\n",
       "      <td>0.000541</td>\n",
       "      <td>0.000541</td>\n",
       "      <td>0.000541</td>\n",
       "      <td>0.000541</td>\n",
       "      <td>0.000541</td>\n",
       "      <td>0.000541</td>\n",
       "      <td>0.148874</td>\n",
       "      <td>0.000541</td>\n",
       "      <td>0.846801</td>\n",
       "      <td>0.000541</td>\n",
       "    </tr>\n",
       "  </tbody>\n",
       "</table>\n",
       "<p>5 rows × 52 columns</p>\n",
       "</div>"
      ],
      "text/plain": [
       "   BABIP       BB%      BB/9       CH%      CH-X      CH-Z    CU%      CU-X  \\\n",
       "0  -0.20 -0.074766 -0.219626 -0.220264 -0.071429 -2.464286  0.000  0.000000   \n",
       "1   0.04  0.785047  0.612150  0.000000  0.000000  0.000000 -0.592 -0.222222   \n",
       "2   1.72  0.710280  0.677570  0.528634 -0.007143  0.714286 -0.632  0.126984   \n",
       "3   0.80  0.822430  0.677570 -0.740088 -0.135714  0.178571  1.440  0.253968   \n",
       "4   0.28  0.299065  0.275701 -0.449339 -0.014286 -0.785714 -0.144  0.222222   \n",
       "\n",
       "       CU-Z  Contact%    ...      Topic 0   Topic 1   Topic 2   Topic 3  \\\n",
       "0  0.000000 -1.351598    ...     0.000658  0.483405  0.206436  0.000658   \n",
       "1 -0.194444 -2.063927    ...     0.001031  0.188991  0.001031  0.001031   \n",
       "2  0.083333 -0.968037    ...     0.000877  0.105127  0.000877  0.521289   \n",
       "3 -1.027778 -1.004566    ...     0.001220  0.001220  0.001220  0.001220   \n",
       "4 -0.250000  0.182648    ...     0.000541  0.000541  0.000541  0.000541   \n",
       "\n",
       "    Topic 4   Topic 5   Topic 6   Topic 7   Topic 8   Topic 9  \n",
       "0  0.000658  0.000658  0.000658  0.000658  0.000658  0.305553  \n",
       "1  0.389963  0.001031  0.001031  0.001031  0.181563  0.233297  \n",
       "2  0.000877  0.000877  0.268216  0.100104  0.000877  0.000877  \n",
       "3  0.283638  0.001220  0.001220  0.259079  0.001220  0.448745  \n",
       "4  0.000541  0.000541  0.148874  0.000541  0.846801  0.000541  \n",
       "\n",
       "[5 rows x 52 columns]"
      ]
     },
     "execution_count": 39,
     "metadata": {},
     "output_type": "execute_result"
    }
   ],
   "source": [
    "# Extract Topic Distributions from LDA model for each pitcher\n",
    "col_names = [\"Topic {0}\".format(x) for x in range(0, n_topics)]\n",
    "topic_dist = lda_tf.transform(dtm_tf)\n",
    "topic_df = pd.DataFrame(topic_dist, columns = col_names)\n",
    "\n",
    "# Join topic dataframe with numerical features from Method #1\n",
    "df2 = pd.concat([df1, topic_df], axis=1)\n",
    "print(f'Original Dataframe Shape: {df1.shape}')\n",
    "print(f'New Dataframe Shape: {df2.shape}\\n')\n",
    "df2.head()"
   ]
  },
  {
   "cell_type": "markdown",
   "metadata": {},
   "source": [
    "Perform train test split for the new data"
   ]
  },
  {
   "cell_type": "code",
   "execution_count": 40,
   "metadata": {},
   "outputs": [
    {
     "name": "stdout",
     "output_type": "stream",
     "text": [
      "Shape of Train Features: (606, 51)\n",
      "Shape of Train Labels:   (606,)\n",
      "Shape of Test Features:  (152, 51)\n",
      "Shape of Test Labels:    (152,)\n"
     ]
    }
   ],
   "source": [
    "from sklearn.model_selection import train_test_split\n",
    "from sklearn.decomposition import LatentDirichletAllocation\n",
    "\n",
    "# Split dataframe into features and labels\n",
    "features = df2.loc[:, df2.columns != 'tjSurgery']\n",
    "labels = df2['tjSurgery']\n",
    "\n",
    "# Split data using 80% to train model and 20% to validate performance\n",
    "X_train2, X_test2, y_train2, y_test2 = train_test_split(features, labels, test_size = 0.2, random_state = seed)\n",
    "\n",
    "# Confirm Shape of Train/Test data\n",
    "print('Shape of Train Features: {}'.format(X_train2.shape))\n",
    "print('Shape of Train Labels:   {}'.format(y_train2.shape))\n",
    "print('Shape of Test Features:  {}'.format(X_test2.shape))\n",
    "print('Shape of Test Labels:    {}'.format(y_test2.shape))"
   ]
  },
  {
   "cell_type": "code",
   "execution_count": 41,
   "metadata": {},
   "outputs": [
    {
     "data": {
      "text/plain": [
       "DecisionTreeClassifier(class_weight='balanced', criterion='gini',\n",
       "            max_depth=None, max_features=None, max_leaf_nodes=None,\n",
       "            min_impurity_decrease=0.0, min_impurity_split=None,\n",
       "            min_samples_leaf=1, min_samples_split=2,\n",
       "            min_weight_fraction_leaf=0.0, presort=False, random_state=5,\n",
       "            splitter='best')"
      ]
     },
     "execution_count": 41,
     "metadata": {},
     "output_type": "execute_result"
    }
   ],
   "source": [
    "from sklearn.tree import DecisionTreeClassifier\n",
    "\n",
    "dtree2 = DecisionTreeClassifier(class_weight='balanced', random_state=seed)\n",
    "dtree2.fit(X_train2, y_train2)"
   ]
  },
  {
   "cell_type": "markdown",
   "metadata": {},
   "source": [
    "#### Compare Feature Importance for Model #1 (Numerical-only) and Model #2 (Numerical + LDA)"
   ]
  },
  {
   "cell_type": "code",
   "execution_count": 42,
   "metadata": {},
   "outputs": [
    {
     "data": {
      "image/png": "[encoded data removed]",
      "text/plain": [
       "<Figure size 1152x864 with 2 Axes>"
      ]
     },
     "metadata": {
      "needs_background": "light"
     },
     "output_type": "display_data"
    }
   ],
   "source": [
    "# Get top_n feature importances from decision tree\n",
    "top_n = 10\n",
    "feat_imp2 = pd.DataFrame({'Importance': dtree2.feature_importances_})    \n",
    "feat_imp2['Feature'] = X_train2.columns\n",
    "feat_imp2.sort_values(by='Importance', ascending=False, inplace=True)\n",
    "feat_imp2 = feat_imp2.iloc[:top_n]\n",
    "\n",
    "# Plot Feature Importance Values\n",
    "plt.figure(figsize=(16,12))\n",
    "\n",
    "# Plot the feature importance for Model #1\n",
    "plt.subplot(2, 1, 1)\n",
    "plt.bar(feat_imp1['Feature'], feat_imp1['Importance'])\n",
    "plt.xticks(rotation=45)\n",
    "plt.title('Model #1: Feature Importance')\n",
    "\n",
    "# Plot the feature importance for Model #2\n",
    "plt.subplot(2, 1, 2)\n",
    "plt.bar(feat_imp2['Feature'], feat_imp2['Importance'])\n",
    "plt.xticks(rotation=45)\n",
    "plt.title('Model #2: Feature Importance')\n",
    "plt.show()"
   ]
  },
  {
   "cell_type": "code",
   "execution_count": 43,
   "metadata": {},
   "outputs": [
    {
     "data": {
      "image/png": "[encoded data removed]",
      "text/plain": [
       "<Figure size 1152x576 with 4 Axes>"
      ]
     },
     "metadata": {
      "needs_background": "light"
     },
     "output_type": "display_data"
    }
   ],
   "source": [
    "# Make predictions with model 2 on validation data\n",
    "test_predictions2 = dtree2.predict(X_test2)\n",
    "\n",
    "plt.figure(figsize=(16,8))\n",
    "\n",
    "# Re-Plot Confusion Matrix on Validation Data for Model #1 (for comparison)\n",
    "plot1 = skplt.metrics.plot_confusion_matrix(y_test1, test_predictions1, \n",
    "                                            figsize=(8,8),\n",
    "                                            title='Model #1: Numerical Features',\n",
    "                                            normalize=False,\n",
    "                                            ax = plt.subplot(1, 2, 1))\n",
    "\n",
    "# Plot Confusion Matrix on Validation Data for Model #2\n",
    "plot2 = skplt.metrics.plot_confusion_matrix(y_test2, test_predictions2, \n",
    "                                            figsize=(8,8),\n",
    "                                            title='Model #2: Numerical + LDA Topics',\n",
    "                                            normalize=False,\n",
    "                                            ax = plt.subplot(1, 2, 2))"
   ]
  },
  {
   "cell_type": "code",
   "execution_count": 44,
   "metadata": {},
   "outputs": [
    {
     "name": "stdout",
     "output_type": "stream",
     "text": [
      "Model #2: Overall Accuracy: 79.61%\n",
      "Improvement over Model #1:   9.21%\n",
      "\n",
      "Model #1 (Numerical Features Only):\n",
      "              precision    recall  f1-score   support\n",
      "\n",
      " Not Injured       0.86      0.79      0.82       131\n",
      "     Injured       0.12      0.19      0.15        21\n",
      "\n",
      "   micro avg       0.70      0.70      0.70       152\n",
      "   macro avg       0.49      0.49      0.49       152\n",
      "weighted avg       0.76      0.70      0.73       152\n",
      "\n",
      "Model #2 (Numerical Features + LDA Topics):\n",
      "              precision    recall  f1-score   support\n",
      "\n",
      " Not Injured       0.87      0.89      0.88       131\n",
      "     Injured       0.22      0.19      0.21        21\n",
      "\n",
      "   micro avg       0.80      0.80      0.80       152\n",
      "   macro avg       0.55      0.54      0.54       152\n",
      "weighted avg       0.78      0.80      0.79       152\n",
      "\n"
     ]
    }
   ],
   "source": [
    "m2_acc = accuracy_score(y_test2, test_predictions2)*100\n",
    "\n",
    "target_names = ['Not Injured','Injured']\n",
    "print('Model #2: Overall Accuracy: {0:.2f}%'.format(m2_acc))\n",
    "print('Improvement over Model #1:   {0:.2f}%\\n'.format(m2_acc - m1_acc))\n",
    "print('Model #1 (Numerical Features Only):')\n",
    "print(classification_report(y_test1, test_predictions1, target_names=target_names))\n",
    "print('Model #2 (Numerical Features + LDA Topics):')\n",
    "print(classification_report(y_test2, test_predictions2, target_names=target_names))"
   ]
  },
  {
   "cell_type": "markdown",
   "metadata": {},
   "source": [
    "# 3. Next Steps\n",
    "\n",
    "- Implement technique to identify the optimal number of topics for LDA model and assess impact\n",
    "- Try different sampling techniques (up, down, SMOTE, etc.) and understand performance impacts\n",
    "- Download Lahman database master table and identify which players are still active. Use the Master table to find the pitchers that ended their career with no injury.\n",
    "- "
   ]
  },
  {
   "cell_type": "code",
   "execution_count": null,
   "metadata": {},
   "outputs": [],
   "source": []
  }
 ],
 "metadata": {
  "kernelspec": {
   "display_name": "Python 3",
   "language": "python",
   "name": "python3"
  },
  "language_info": {
   "codemirror_mode": {
    "name": "ipython",
    "version": 3
   },
   "file_extension": ".py",
   "mimetype": "text/x-python",
   "name": "python",
   "nbconvert_exporter": "python",
   "pygments_lexer": "ipython3",
   "version": "3.7.1"
  }
 },
 "nbformat": 4,
 "nbformat_minor": 2
}
